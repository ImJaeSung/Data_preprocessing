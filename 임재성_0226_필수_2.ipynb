{
  "nbformat": 4,
  "nbformat_minor": 0,
  "metadata": {
    "colab": {
      "provenance": []
    },
    "kernelspec": {
      "name": "python3",
      "display_name": "Python 3"
    },
    "language_info": {
      "name": "python"
    }
  },
  "cells": [
    {
      "cell_type": "markdown",
      "source": [
        "#### 필수과제\n",
        "- 과제는 위의 정규식을 이용해서 본인만의 패턴을 만들어 주세요!\n",
        "- ex) 서울특별시 강남구 00동 해당 동만 패턴으로 찾을 수 있는 정규식 만들기\n",
        "- 최소 10개 이상 만들기"
      ],
      "metadata": {
        "id": "QUDghp7rVk7m"
      }
    },
    {
      "cell_type": "code",
      "source": [
        "import re"
      ],
      "metadata": {
        "id": "McJnDh1-WEK3"
      },
      "execution_count": 2,
      "outputs": []
    },
    {
      "cell_type": "markdown",
      "source": [
        "####1. ID 정규 표현식"
      ],
      "metadata": {
        "id": "qroEkyFhVta3"
      }
    },
    {
      "cell_type": "code",
      "execution_count": 2,
      "metadata": {
        "id": "KpgoPol8VjDg"
      },
      "outputs": [],
      "source": [
        "ID_regex = re.compile(\"^[a-zA-Z]+[a-zA-Z0-9]{5,19}\") # 영문자로 시작하고 영문자와 숫자가 혼합된 6-20자리  "
      ]
    },
    {
      "cell_type": "code",
      "source": [
        "ID_input = input(\"아이디를 입력하세요. (6-20자리, 영어로 시작, 영어와 숫자 혼합) : \")\n",
        "ID_valid = ID_regex.search(ID_input.replace(\" \", \"\"))  # 공백이 있을 경우 이를 제거해주고 search\n",
        "\n",
        "if ID_valid:\n",
        "  print(\"사용 가능한 ID입니다.\")\n",
        "else:\n",
        "  print(\"다시 입력해주세요.\")"
      ],
      "metadata": {
        "colab": {
          "base_uri": "https://localhost:8080/"
        },
        "id": "p9tW6b07XRY-",
        "outputId": "e351c649-b451-4863-f668-e6ab9be360c6"
      },
      "execution_count": 3,
      "outputs": [
        {
          "output_type": "stream",
          "name": "stdout",
          "text": [
            "아이디를 입력하세요. (6-20자리, 영어로 시작, 영어와 숫자 혼합) : wotjd1410\n",
            "사용 가능한 ID입니다.\n"
          ]
        }
      ]
    },
    {
      "cell_type": "markdown",
      "source": [
        "####2. E-mail 정규 표현식"
      ],
      "metadata": {
        "id": "sb-rhwBLYKG0"
      }
    },
    {
      "cell_type": "code",
      "source": [
        "email_regex = re.compile(\"[A-Za-z]+[A-Za-z0-9]+@[A-Za-z]+\\.[A-Za-z0-9.]+$\") # @ 기준으로 앞에는 계정을 나타냄 \n",
        "                                                                            # 대문자나 소문자가 1개이상 있어야하고 대문자나 소문자 혹은 숫자가 있을수도 있음\n",
        "                                                                            # @ 뒤는 도메인을 나타냄\n",
        "                                                                            # 영문 대소문자, 숫자이면서 문자 1개 이상인지 판단\n",
        "                                                                            # 중간에 \\.를 넣어서 도메인.최상위도메인 형식인지 판단\n",
        "                                                                            # .은 정규표현식에 사용하는 특수 문자이므로 앞에 반드시 \\를 붙여야 함\n",
        "                                                                            # 최상위 도메인은 co.kr 처럼 여러 단계일 수도 있으므로 [a-zA-Z0-9.]+$와 같이 범위에 .을 포함 \n",
        "                                                                            # $를 붙여서 최상위 도메인이 마지막에 오는지 판단"
      ],
      "metadata": {
        "id": "rrcj5TiBYDfe"
      },
      "execution_count": null,
      "outputs": []
    },
    {
      "cell_type": "code",
      "source": [
        "email_input = input(\"이메일을 입력하세요. (ex. wotjd1410@gmail.com) : \")\n",
        "email_valid = email_regex.search(email_input.replace(\" \", \"\"))\n",
        "\n",
        "if email_valid:\n",
        "  print(\"올바른 이메일 입니다.\")\n",
        "else:\n",
        "  print(\"다시 입력해주세요.\")"
      ],
      "metadata": {
        "colab": {
          "base_uri": "https://localhost:8080/"
        },
        "id": "45xC3-NxZDdk",
        "outputId": "3b6dad93-2299-4d36-8b3a-575dad6bc0fa"
      },
      "execution_count": null,
      "outputs": [
        {
          "output_type": "stream",
          "name": "stdout",
          "text": [
            "이메일을 입력하세요. (ex. wotjd1410@gmail.com) : lin8722@naver.com\n",
            "올바른 이메일 입니다.\n"
          ]
        }
      ]
    },
    {
      "cell_type": "markdown",
      "source": [
        "2-1. 이메일 플랫폼 추출"
      ],
      "metadata": {
        "id": "vrWtJxsI8pai"
      }
    },
    {
      "cell_type": "code",
      "source": [
        "email_regex = re.compile(\"([A-Za-z]+[A-Za-z0-9]+)@([A-Za-z]+)\\.([A-Za-z]+)\") # grouping을 이용하여 @ 뒤에 오는 도메인을 추출하면 플랫폼이 추출됨\n",
        "                                                                             # 해당 그룹 순서는 2이므로 group(2) 메서드를 이용"
      ],
      "metadata": {
        "id": "-8KlCSXf8yhn"
      },
      "execution_count": null,
      "outputs": []
    },
    {
      "cell_type": "code",
      "source": [
        "email_input = input(\"이메일을 입력하세요. (ex. wotjd1410@gmail.com) : \")\n",
        "email_valid = email_regex.search(email_input.replace(\" \", \"\"))\n",
        "\n",
        "if email_valid:\n",
        "  print(\"올바른 이메일 입니다.\", \"이메일 플랫폼 :\", email_valid.group(2))\n",
        "else:\n",
        "  print(\"다시 입력해주세요.\")"
      ],
      "metadata": {
        "colab": {
          "base_uri": "https://localhost:8080/"
        },
        "id": "-HX4y-IW89aF",
        "outputId": "b877564b-5bae-4976-ccbd-5ea407b004e9"
      },
      "execution_count": null,
      "outputs": [
        {
          "output_type": "stream",
          "name": "stdout",
          "text": [
            "이메일을 입력하세요. (ex. wotjd1410@gmail.com) : lim8722@naver.com\n",
            "올바른 이메일 입니다. 이메일 플랫폼 : naver\n"
          ]
        }
      ]
    },
    {
      "cell_type": "markdown",
      "source": [
        "####3. 전화번호 정규 표현식"
      ],
      "metadata": {
        "id": "kxVD_r1mZa07"
      }
    },
    {
      "cell_type": "code",
      "source": [
        "phone_regex = re.compile(\"^(01)\\d{1}-\\d{3,4}-\\d{4}$\") # 01로 시작하고 [0-9] 즉 숫자가 1개 나옴\n",
        "                                                      # 다음으로 숫자가 3자리 혹은 4자리\n",
        "                                                      # 마지막으로 4자리 숫자"
      ],
      "metadata": {
        "id": "QzmxnAKrZQ3x"
      },
      "execution_count": null,
      "outputs": []
    },
    {
      "cell_type": "code",
      "source": [
        "phone_input = input(\"전화번호을 입력하세요. (ex. 01x-xxxx-xxxx) : \")\n",
        "phone_valid = phone_regex.search(phone_input.replace(\" \", \"\"))\n",
        "\n",
        "if phone_valid:\n",
        "  print(\"올바른 전화번호 입니다.\")\n",
        "else:\n",
        "  print(\"다시 입력해주세요.\")"
      ],
      "metadata": {
        "colab": {
          "base_uri": "https://localhost:8080/"
        },
        "id": "lgYEwYb1Zso7",
        "outputId": "7d2cbe14-1873-4bb1-c6fe-2fdf162917e2"
      },
      "execution_count": null,
      "outputs": [
        {
          "output_type": "stream",
          "name": "stdout",
          "text": [
            "전화번호을 입력하세요. (ex. 01x-xxxx-xxxx) : 016-331-3311\n",
            "올바른 전화번호 입니다.\n"
          ]
        }
      ]
    },
    {
      "cell_type": "markdown",
      "source": [
        "####4. 집전화번호 정규 표현식"
      ],
      "metadata": {
        "id": "iHAfiOgDKej8"
      }
    },
    {
      "cell_type": "code",
      "source": [
        "home_phone_regex = re.compile(\"^(070|02|031|032|033|041|042|043|051|052|053|054|055|061|062|063|064)-\\d{3,4}-\\d{4}$\") # 우리나라 지번을 | (or) 로 연결\n",
        "                                                                                                                      # ^을 이용하여 지번으로 중 하나로 시작하게 하고\n",
        "                                                                                                                      # 차례로 3-4자리 숫자, 4자리 숫자가 등장"
      ],
      "metadata": {
        "id": "n6hC0U_pKhtV"
      },
      "execution_count": null,
      "outputs": []
    },
    {
      "cell_type": "code",
      "source": [
        "home_phone_input = input(\"전화번호을 입력하세요. : \")\n",
        "home_phone_valid = home_phone_regex.search(home_phone_input.replace(\" \", \"\"))\n",
        "\n",
        "if home_phone_valid:\n",
        "  print(\"올바른 전화번호 입니다.\")\n",
        "else:\n",
        "  print(\"다시 입력해주세요.\")"
      ],
      "metadata": {
        "colab": {
          "base_uri": "https://localhost:8080/"
        },
        "id": "xjrO-ikBLLpu",
        "outputId": "fe9e26d7-0397-4422-9577-01d51d7386e0"
      },
      "execution_count": null,
      "outputs": [
        {
          "output_type": "stream",
          "name": "stdout",
          "text": [
            "전화번호을 입력하세요. : 042-333-3333\n",
            "올바른 전화번호 입니다.\n"
          ]
        }
      ]
    },
    {
      "cell_type": "markdown",
      "source": [
        "4-1. 지번 추출하기"
      ],
      "metadata": {
        "id": "t8fdoyf8LcRU"
      }
    },
    {
      "cell_type": "code",
      "source": [
        "home_phone_input = input(\"전화번호을 입력하세요. : \") \n",
        "home_phone_valid = home_phone_regex.search(home_phone_input.replace(\" \", \"\"))\n",
        "\n",
        "if home_phone_valid:\n",
        "  print(\"올바른 전화번호 입니다. \" \"지번 :\", home_phone_valid.group(1))  # 지번에 해당하는 그룹 순서는 1이므로 group(1) 메서드를 이용\n",
        "else:\n",
        "  print(\"다시 입력해주세요.\")"
      ],
      "metadata": {
        "colab": {
          "base_uri": "https://localhost:8080/"
        },
        "id": "urRd7aD1Lelv",
        "outputId": "b3b7c3b7-afa2-4726-a579-b6db9b00f433"
      },
      "execution_count": null,
      "outputs": [
        {
          "output_type": "stream",
          "name": "stdout",
          "text": [
            "전화번호을 입력하세요. : 042-333-3333\n",
            "올바른 전화번호 입니다. 지번 : 042\n"
          ]
        }
      ]
    },
    {
      "cell_type": "markdown",
      "source": [
        "#### 5. 날짜(YYYY-MM-DD) 정규 표현식"
      ],
      "metadata": {
        "id": "6QnHKYbWaPaF"
      }
    },
    {
      "cell_type": "code",
      "source": [
        "date_regex = re.compile(\"([12]\\d{3})-(0[1-9]|1[0-2])-(0[1-9]|[12]\\d|3[01])\") # 1이나 2가 앞에오고 3자리 숫자로 년도 완성\n",
        "                                                                             # 1-9월은 01,02,...09 처럼 2자리로 생성\n",
        "                                                                             # 10,11,12월은 1다음 1이나 2 혹은 3이 오게 하여 생성 \n",
        "                                                                             # 이 2개를 | (or) 로 연결하여 월 완성\n",
        "                                                                             # 일도 월과 같은 원리로 생성\n",
        "                                                                             # 3으로 시작하는 일은 30과 31밖에 없으므로 3 다음 0혹은 1이 오게 생성\n",
        "                                                                             # 이 세개를 | 로 연결하여 일 완성"
      ],
      "metadata": {
        "id": "tWuNgcHkaLF1"
      },
      "execution_count": null,
      "outputs": []
    },
    {
      "cell_type": "code",
      "source": [
        "date_input = input(\"생일을 입력하세요. (ex. 1999-09-09) : \")\n",
        "date_valid = date_regex.search(date_input.replace(\" \", \"\"))\n",
        "\n",
        "if date_valid:\n",
        "  print(\"유효한 날짜 입니다.\")\n",
        "else:\n",
        "  print(\"YYYY-MM-DD 형식으로 입력하세요.\")"
      ],
      "metadata": {
        "colab": {
          "base_uri": "https://localhost:8080/"
        },
        "id": "7WVw95xLx7li",
        "outputId": "764f7c4c-44f1-4694-cff6-09efc8b82ade"
      },
      "execution_count": null,
      "outputs": [
        {
          "output_type": "stream",
          "name": "stdout",
          "text": [
            "생일을 입력하세요. (ex. 1999-09-09) : 1999-09-15\n",
            "유효한 날짜 입니다.\n"
          ]
        }
      ]
    },
    {
      "cell_type": "markdown",
      "source": [
        "5-1. 날짜에서 년도만 뽑아내기"
      ],
      "metadata": {
        "id": "oQPGHzRx6e2f"
      }
    },
    {
      "cell_type": "code",
      "source": [
        "date_input = input(\"생일을 입력하세요. (ex. 1999-09-09) : \")\n",
        "date_valid = date_regex.search(date_input.replace(\" \", \"\"))\n",
        "\n",
        "if date_valid:\n",
        "  print(\"유효한 날짜 입니다.\", \"년도 :\", date_valid.group(1)) # 년도에 해당하는 그룹 인덱스가 1이므로 group(1) 메서드 이용\n",
        "else:\n",
        "  print(\"YYYY-MM-DD 형식으로 입력하세요.\")"
      ],
      "metadata": {
        "colab": {
          "base_uri": "https://localhost:8080/"
        },
        "id": "Oon2d6Kq63tU",
        "outputId": "876140c7-962e-4412-f29a-6ea0e8efa3a7"
      },
      "execution_count": null,
      "outputs": [
        {
          "output_type": "stream",
          "name": "stdout",
          "text": [
            "생일을 입력하세요. (ex. 1999-09-09) : 1999-09-15\n",
            "유효한 날짜 입니다. 년도 : 1999\n"
          ]
        }
      ]
    },
    {
      "cell_type": "markdown",
      "source": [
        "5-2. 월만 뽑아내기"
      ],
      "metadata": {
        "id": "s0eTbJ-W7ca9"
      }
    },
    {
      "cell_type": "code",
      "source": [
        "date_input = input(\"생일을 입력하세요. (ex. 1999-09-09) : \")\n",
        "date_valid = date_regex.search(date_input.replace(\" \", \"\"))\n",
        "\n",
        "if date_valid:\n",
        "  print(\"유효한 날짜 입니다.\", \"월 :\", date_valid.group(2)) # 월에 해당하는 그룹 인덱스가 2이므로 group(2) 메서드 이용\n",
        "else:\n",
        "  print(\"YYYY-MM-DD 형식으로 입력하세요.\")"
      ],
      "metadata": {
        "colab": {
          "base_uri": "https://localhost:8080/"
        },
        "id": "OHq2D9ua7ZBV",
        "outputId": "fdb9ae05-4e65-4c32-9fef-adb420d90432"
      },
      "execution_count": null,
      "outputs": [
        {
          "output_type": "stream",
          "name": "stdout",
          "text": [
            "생일을 입력하세요. (ex. 1999-09-09) : 1999-09-15\n",
            "유효한 날짜 입니다. 월 : 09\n"
          ]
        }
      ]
    },
    {
      "cell_type": "markdown",
      "source": [
        "#### 6. 주민등록번호"
      ],
      "metadata": {
        "id": "NJdBPX680HyK"
      }
    },
    {
      "cell_type": "code",
      "source": [
        "rrn_regex = re.compile(\"(\\d{2})(0[1-9]|1[0-2])(0[1-9]|[12]\\d|3[01])-[1-4]\\d{6}\") # 앞에 두자리는 년도로 2자리 숫자로 구성\n",
        "                                                                                 # 월과 일은 앞서 날짜에서 했던 것과 같은 원리로 구성\n",
        "                                                                                 # hypon뒤에 첫 자리는 성별을 나타내는 자리로 1,2,3,4 중 하나로 구성\n",
        "                                                                                 # 마지막 6자리 모두 숫자가 오게 구성"
      ],
      "metadata": {
        "id": "Y1hUy4Ffy-kR"
      },
      "execution_count": null,
      "outputs": []
    },
    {
      "cell_type": "code",
      "source": [
        "rrn_input = input(\"주민등록번호를 입력하세요. : \")\n",
        "rrn_valid = rrn_regex.search(rrn_input.replace(\" \", \"\"))\n",
        "\n",
        "if rrn_valid:\n",
        "  print(\"유효한 주민등록번호 입니다.\")\n",
        "else:\n",
        "  print(\"다시 입력하세요.\")"
      ],
      "metadata": {
        "colab": {
          "base_uri": "https://localhost:8080/"
        },
        "id": "VywhXLV92guq",
        "outputId": "ed5cf470-8d60-470e-ac78-9b477f6217c4"
      },
      "execution_count": null,
      "outputs": [
        {
          "output_type": "stream",
          "name": "stdout",
          "text": [
            "주민등록번호를 입력하세요. : 990915-1234455\n",
            "유효한 주민등록번호 입니다.\n"
          ]
        }
      ]
    },
    {
      "cell_type": "markdown",
      "source": [
        "####7. 파일 확장자 (txt, pdf, hwp, xls)"
      ],
      "metadata": {
        "id": "CCW7-Y363NsS"
      }
    },
    {
      "cell_type": "code",
      "source": [
        "file_regex = re.compile(\"^(\\w+)\\.(?i)(txt|pdf|hwp|xls|jpg|png|gif|bmp)$\") # 문자와 숫자의 조합으로된 형식으로 시작\n",
        "                                                                        # .은 정규표현식에 사용하는 특수 문자이므로 앞에 반드시 \\를 붙여야 함\n",
        "                                                                        # ?!는 대소문자 구분 없음을 의미\n",
        "                                                                        # txt pdf hwp xls ..등 형식의 문자열 조합 허용하여 정규 표현식 마지막에 와야함"
      ],
      "metadata": {
        "id": "MMKuXXI720UY"
      },
      "execution_count": 7,
      "outputs": []
    },
    {
      "cell_type": "code",
      "source": [
        "file_input = input(\"파일 이름을 입력하세요. : \")\n",
        "file_valid = file_regex.search(file_input.replace(\" \", \"\"))\n",
        "\n",
        "if file_valid:\n",
        "  print(\"유효한 파일 형식입니다.\")\n",
        "else:\n",
        "  print(\"지원하지 않는 파일 형식입니다.\")"
      ],
      "metadata": {
        "colab": {
          "base_uri": "https://localhost:8080/"
        },
        "id": "A70nuW-n4iWV",
        "outputId": "1e4c6500-6673-4042-99dc-dbc64b4497f4"
      },
      "execution_count": 8,
      "outputs": [
        {
          "output_type": "stream",
          "name": "stdout",
          "text": [
            "파일 이름을 입력하세요. : 회귀분석 과제3.pdf\n",
            "유효한 파일 형식입니다.\n"
          ]
        }
      ]
    },
    {
      "cell_type": "markdown",
      "source": [
        "####8. 주소 정규 표현식"
      ],
      "metadata": {
        "id": "-u_b4WKr-LC1"
      }
    },
    {
      "cell_type": "code",
      "source": [
        "address_regex = re.compile(\"([가-힣]+(시|도))( |)([가-힣]+(시|군|구))( |)([가-힣0-9]+(로|길))( |)([가-힣0-9]+(길))?([0-9])?-?([0-9])?\")\n",
        "                             # 한 글자이상의 한글 조합으로 된 시 이름 혹은 도 이름\n",
        "                             # 띄어쓰기를 허용\n",
        "                             # 한 글자이상의 한글 조합으로 된 구(ex.서울특별시 동대문구) 이름 혹은 시 이름(ex. 경기도 이천시)\n",
        "                             # 도로명 주소의 경우 xx로나 xx길이 나옴\n",
        "                             # xx로가 나온 뒤에 xx 길이 나오기도 하여 [가-힣0-9]+길 묶음 뒤에 ? 처리를 하여 나올 수도 있고 안 나올수도 있는 경우를 나눔\n",
        "                             # 마찬가지 마지막 숫자와 하이픈 역시 같은 방식으로 처리함"
      ],
      "metadata": {
        "id": "AGVkOKe65uc8"
      },
      "execution_count": null,
      "outputs": []
    },
    {
      "cell_type": "code",
      "source": [
        "address_input = input(\"주소를 입력하세요. : \")\n",
        "address_valid = address_regex.search(address_input)\n",
        "\n",
        "if address_valid:\n",
        "  print(\"유효한 주소 형식입니다.\")\n",
        "else:\n",
        "  print(\"다시 입력해주세요\")"
      ],
      "metadata": {
        "colab": {
          "base_uri": "https://localhost:8080/"
        },
        "id": "rCcNpJbn5daz",
        "outputId": "b0f36b3d-edca-4c50-8727-94feb1cb9fa1"
      },
      "execution_count": null,
      "outputs": [
        {
          "output_type": "stream",
          "name": "stdout",
          "text": [
            "주소를 입력하세요. : 서울특별시 동대문구 망우로 10가길 10-4\n",
            "유효한 주소 형식입니다.\n"
          ]
        }
      ]
    },
    {
      "cell_type": "code",
      "source": [
        "address_input = input(\"주소를 입력하세요. : \")\n",
        "address_valid = address_regex.search(address_input)\n",
        "\n",
        "if address_valid:ㅅ\n",
        "  print(\"유효한 주소 형식입니다.\")\n",
        "else:\n",
        "  print(\"다시 입력해주세요\")"
      ],
      "metadata": {
        "colab": {
          "base_uri": "https://localhost:8080/"
        },
        "id": "w51KAMIADzCC",
        "outputId": "965a1ab6-c9a2-4ecc-fda5-2934131b9735"
      },
      "execution_count": null,
      "outputs": [
        {
          "output_type": "stream",
          "name": "stdout",
          "text": [
            "주소를 입력하세요. : 서울특별시 동대문구 서울시립대로 163\n",
            "유효한 주소 형식입니다.\n"
          ]
        }
      ]
    },
    {
      "cell_type": "markdown",
      "source": [
        "8-1. 구만 추출해내기"
      ],
      "metadata": {
        "id": "fHVDOrM4D6OD"
      }
    },
    {
      "cell_type": "code",
      "source": [
        "address_input = input(\"주소를 입력하세요. : \")\n",
        "address_valid = address_regex.search(address_input)\n",
        "\n",
        "if address_valid:\n",
        "  print(\"유효한 주소 형식입니다.\", address_valid.group(4))  # 구에 해당하는 그룹 인덱스가 4이므로 group(4) 메서드 이용\n",
        "else:\n",
        "  print(\"다시 입력해주세요\")"
      ],
      "metadata": {
        "colab": {
          "base_uri": "https://localhost:8080/"
        },
        "id": "fVmF_ataD5Tt",
        "outputId": "4f05654e-a96f-4a01-d253-a2953af4c00b"
      },
      "execution_count": null,
      "outputs": [
        {
          "output_type": "stream",
          "name": "stdout",
          "text": [
            "주소를 입력하세요. : 서울특별시 동대문구 서울시립대로 163\n",
            "유효한 주소 형식입니다. 동대문구\n"
          ]
        }
      ]
    },
    {
      "cell_type": "markdown",
      "source": [
        "####9. url 정규 표현식"
      ],
      "metadata": {
        "id": "zG8sjfP2EUxv"
      }
    },
    {
      "cell_type": "code",
      "source": [
        "url_regex = re.compile(\"(http(s)?:\\/\\/)([\\w]+\\.*)+[a-z0-9]{2,4}(\\/)?(\\s)?\")   # (s)?를 이용하여 http또는 https를 매치\n",
        "                                                                              # :\\/\\/ 로 ://를 매치\n",
        "                                                                              # 영문자 대문자, 소문자, 숫자가 +1개 이상 \n",
        "                                                                              # 끝에는 \\. 이 있는 문자 감지 * 0개 이상 (ex. .com으로 안끝나는 url도 존재하기 때문)\n",
        "                                                                              # 위 두개가 그룹으로 + 1개 이상\n",
        "                                                                              # .com , .co.kr , .net 등을 감지 {2,4} 2 이상 4 이하의 자릿수\n",
        "                                                                              # 도메인 뒤에 나오는 문자열 감지지"
      ],
      "metadata": {
        "id": "rDcIWNk3ET2v"
      },
      "execution_count": 12,
      "outputs": []
    },
    {
      "cell_type": "code",
      "source": [
        "url_input = input(\"url을 입력하세요. : \")\n",
        "url_valid = url_regex.search(url_input)\n",
        "\n",
        "if url_valid:\n",
        "  print(\"유효한 url 형식입니다.\")\n",
        "else:\n",
        "  print(\"다시 입력해주세요\")"
      ],
      "metadata": {
        "colab": {
          "base_uri": "https://localhost:8080/"
        },
        "id": "N7phhC08Gqw0",
        "outputId": "cf7ceec6-9219-433e-b005-63efd0919dfa"
      },
      "execution_count": 13,
      "outputs": [
        {
          "output_type": "stream",
          "name": "stdout",
          "text": [
            "url을 입력하세요. : https://colab.research.google.com/drive/12ea_1RPQp5BKWP4oigF0SRtoMfyRlEor#scrollTo=N7phhC08Gqw0\n",
            "유효한 url 형식입니다.\n"
          ]
        }
      ]
    },
    {
      "cell_type": "markdown",
      "source": [
        "####10. 신용카드 번호"
      ],
      "metadata": {
        "id": "VUJ1BwpLIsZw"
      }
    },
    {
      "cell_type": "code",
      "source": [
        "card_regex = re.compile(\"^([0-9]{4})+-([0-9]{4})+-([0-9]{4})+-([0-9]{4})+$\") # 하이픈을 기준으로 4자리 숫자가 4번 나타나는 카드번호\n",
        "                                                                             # 총 16자리로 + 처리하여 번호 자릿 수가 부족하면 no match"
      ],
      "metadata": {
        "id": "FaQX4QZ0RFFB"
      },
      "execution_count": 36,
      "outputs": []
    },
    {
      "cell_type": "code",
      "source": [
        "card_input = input(\"card번호를 입력하세요. : \")\n",
        "card_valid = card_regex.search(card_input.replace(\" \", \"\"))\n",
        "\n",
        "if card_valid:\n",
        "  print(\"유효한 card 번호입니다.\")\n",
        "else:\n",
        "  print(\"다시 입력해주세요\")"
      ],
      "metadata": {
        "colab": {
          "base_uri": "https://localhost:8080/"
        },
        "id": "hi59fSKMRLlY",
        "outputId": "cac97c48-f959-4800-8c19-2e43f970452f"
      },
      "execution_count": 37,
      "outputs": [
        {
          "output_type": "stream",
          "name": "stdout",
          "text": [
            "card번호를 입력하세요. : 4444-2133-4421-4113\n",
            "유효한 card 번호입니다.\n"
          ]
        }
      ]
    },
    {
      "cell_type": "markdown",
      "source": [
        "10-1. 마스터카드번호"
      ],
      "metadata": {
        "id": "wsWpcEEk95dt"
      }
    },
    {
      "cell_type": "code",
      "source": [
        "master_card_regex = re.compile(\"^(5[1-5]\\d{2})+-(\\d{4})+-(\\d{4})+-(\\d{4})+$\") # 마스터카드는 맨 앞 두자리가 51-55로 지정\n",
        "                                                                  # 나머지는 위와 동일일"
      ],
      "metadata": {
        "id": "wrM0ERB699kd"
      },
      "execution_count": 32,
      "outputs": []
    },
    {
      "cell_type": "code",
      "source": [
        "master_card_input = input(\"master card번호를 입력하세요. : \")\n",
        "master_card_valid = master_card_regex.search(master_card_input)\n",
        "\n",
        "if master_card_valid:\n",
        "  print(\"유효한 master card 번호입니다.\")\n",
        "else:\n",
        "  print(\"다시 입력해주세요\")"
      ],
      "metadata": {
        "colab": {
          "base_uri": "https://localhost:8080/"
        },
        "id": "mHjr64OU-z6k",
        "outputId": "59480176-3568-4d63-a471-eabb64f728d5"
      },
      "execution_count": 34,
      "outputs": [
        {
          "output_type": "stream",
          "name": "stdout",
          "text": [
            "master card번호를 입력하세요. : 5313-3124-1323-1324\n",
            "유효한 master card 번호입니다.\n"
          ]
        }
      ]
    }
  ]
}