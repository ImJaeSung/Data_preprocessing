{
  "nbformat": 4,
  "nbformat_minor": 0,
  "metadata": {
    "colab": {
      "provenance": []
    },
    "kernelspec": {
      "name": "python3",
      "display_name": "Python 3"
    },
    "language_info": {
      "name": "python"
    }
  },
  "cells": [
    {
      "cell_type": "markdown",
      "source": [
        "##  필수분석과제\n",
        "- 고객 장바구니 데이터\n",
        "- 시계열 데이터로 만들고 다양한 인사이트를 도출해 주세요! ' 시각화 필수 ' \n",
        "- 추가 분석 원하시는 분은 : 고객데이터 분석 RFM, 장바구니분석(apriori, Fb-growth), 비지도학습(클러스터링, k-means, gmm) 시각화 필수\n",
        "- 주의사항 : 꼭 코드에 대한 주석처리 필수\n",
        "- 분석 목적을 정확히 잡고 진행 주세요!"
      ],
      "metadata": {
        "id": "A8Yy0KA0dCME"
      }
    },
    {
      "cell_type": "code",
      "execution_count": 190,
      "metadata": {
        "colab": {
          "base_uri": "https://localhost:8080/"
        },
        "id": "MeRjirLiZT8j",
        "outputId": "dd25352c-4107-408e-a3bf-54b572ebf09d"
      },
      "outputs": [
        {
          "output_type": "stream",
          "name": "stdout",
          "text": [
            "Drive already mounted at /content/drive; to attempt to forcibly remount, call drive.mount(\"/content/drive\", force_remount=True).\n"
          ]
        }
      ],
      "source": [
        "from google.colab import drive\n",
        "drive.mount('/content/drive')"
      ]
    },
    {
      "cell_type": "code",
      "source": [
        "import pandas as pd\n",
        "filepath = '/content/drive/MyDrive/Colab Notebooks/BDAA 학회/데이터셋/sales_data.csv'"
      ],
      "metadata": {
        "id": "mJw_oAITaXxQ"
      },
      "execution_count": 191,
      "outputs": []
    },
    {
      "cell_type": "code",
      "source": [
        "sales = pd.read_csv(filepath, encoding = 'latin')"
      ],
      "metadata": {
        "id": "K3tALQBQah0i"
      },
      "execution_count": 192,
      "outputs": []
    },
    {
      "cell_type": "code",
      "source": [
        "sales"
      ],
      "metadata": {
        "colab": {
          "base_uri": "https://localhost:8080/",
          "height": 423
        },
        "id": "azDN48FHb8YM",
        "outputId": "4b25d883-4464-4de5-d6ea-4a8db767516a"
      },
      "execution_count": 193,
      "outputs": [
        {
          "output_type": "execute_result",
          "data": {
            "text/plain": [
              "       InvoiceNo StockCode                          Description  Quantity  \\\n",
              "0         536365    85123A   WHITE HANGING HEART T-LIGHT HOLDER         6   \n",
              "1         536365     71053                  WHITE METAL LANTERN         6   \n",
              "2         536365    84406B       CREAM CUPID HEARTS COAT HANGER         8   \n",
              "3         536365    84029G  KNITTED UNION FLAG HOT WATER BOTTLE         6   \n",
              "4         536365    84029E       RED WOOLLY HOTTIE WHITE HEART.         6   \n",
              "...          ...       ...                                  ...       ...   \n",
              "541904    581587     22613          PACK OF 20 SPACEBOY NAPKINS        12   \n",
              "541905    581587     22899         CHILDREN'S APRON DOLLY GIRL          6   \n",
              "541906    581587     23254        CHILDRENS CUTLERY DOLLY GIRL          4   \n",
              "541907    581587     23255      CHILDRENS CUTLERY CIRCUS PARADE         4   \n",
              "541908    581587     22138        BAKING SET 9 PIECE RETROSPOT          3   \n",
              "\n",
              "            InvoiceDate  UnitPrice  CustomerID         Country  \n",
              "0        12/1/2010 8:26       2.55     17850.0  United Kingdom  \n",
              "1        12/1/2010 8:26       3.39     17850.0  United Kingdom  \n",
              "2        12/1/2010 8:26       2.75     17850.0  United Kingdom  \n",
              "3        12/1/2010 8:26       3.39     17850.0  United Kingdom  \n",
              "4        12/1/2010 8:26       3.39     17850.0  United Kingdom  \n",
              "...                 ...        ...         ...             ...  \n",
              "541904  12/9/2011 12:50       0.85     12680.0          France  \n",
              "541905  12/9/2011 12:50       2.10     12680.0          France  \n",
              "541906  12/9/2011 12:50       4.15     12680.0          France  \n",
              "541907  12/9/2011 12:50       4.15     12680.0          France  \n",
              "541908  12/9/2011 12:50       4.95     12680.0          France  \n",
              "\n",
              "[541909 rows x 8 columns]"
            ],
            "text/html": [
              "\n",
              "  <div id=\"df-6374311a-431e-4e30-80e4-7d0d71aae397\">\n",
              "    <div class=\"colab-df-container\">\n",
              "      <div>\n",
              "<style scoped>\n",
              "    .dataframe tbody tr th:only-of-type {\n",
              "        vertical-align: middle;\n",
              "    }\n",
              "\n",
              "    .dataframe tbody tr th {\n",
              "        vertical-align: top;\n",
              "    }\n",
              "\n",
              "    .dataframe thead th {\n",
              "        text-align: right;\n",
              "    }\n",
              "</style>\n",
              "<table border=\"1\" class=\"dataframe\">\n",
              "  <thead>\n",
              "    <tr style=\"text-align: right;\">\n",
              "      <th></th>\n",
              "      <th>InvoiceNo</th>\n",
              "      <th>StockCode</th>\n",
              "      <th>Description</th>\n",
              "      <th>Quantity</th>\n",
              "      <th>InvoiceDate</th>\n",
              "      <th>UnitPrice</th>\n",
              "      <th>CustomerID</th>\n",
              "      <th>Country</th>\n",
              "    </tr>\n",
              "  </thead>\n",
              "  <tbody>\n",
              "    <tr>\n",
              "      <th>0</th>\n",
              "      <td>536365</td>\n",
              "      <td>85123A</td>\n",
              "      <td>WHITE HANGING HEART T-LIGHT HOLDER</td>\n",
              "      <td>6</td>\n",
              "      <td>12/1/2010 8:26</td>\n",
              "      <td>2.55</td>\n",
              "      <td>17850.0</td>\n",
              "      <td>United Kingdom</td>\n",
              "    </tr>\n",
              "    <tr>\n",
              "      <th>1</th>\n",
              "      <td>536365</td>\n",
              "      <td>71053</td>\n",
              "      <td>WHITE METAL LANTERN</td>\n",
              "      <td>6</td>\n",
              "      <td>12/1/2010 8:26</td>\n",
              "      <td>3.39</td>\n",
              "      <td>17850.0</td>\n",
              "      <td>United Kingdom</td>\n",
              "    </tr>\n",
              "    <tr>\n",
              "      <th>2</th>\n",
              "      <td>536365</td>\n",
              "      <td>84406B</td>\n",
              "      <td>CREAM CUPID HEARTS COAT HANGER</td>\n",
              "      <td>8</td>\n",
              "      <td>12/1/2010 8:26</td>\n",
              "      <td>2.75</td>\n",
              "      <td>17850.0</td>\n",
              "      <td>United Kingdom</td>\n",
              "    </tr>\n",
              "    <tr>\n",
              "      <th>3</th>\n",
              "      <td>536365</td>\n",
              "      <td>84029G</td>\n",
              "      <td>KNITTED UNION FLAG HOT WATER BOTTLE</td>\n",
              "      <td>6</td>\n",
              "      <td>12/1/2010 8:26</td>\n",
              "      <td>3.39</td>\n",
              "      <td>17850.0</td>\n",
              "      <td>United Kingdom</td>\n",
              "    </tr>\n",
              "    <tr>\n",
              "      <th>4</th>\n",
              "      <td>536365</td>\n",
              "      <td>84029E</td>\n",
              "      <td>RED WOOLLY HOTTIE WHITE HEART.</td>\n",
              "      <td>6</td>\n",
              "      <td>12/1/2010 8:26</td>\n",
              "      <td>3.39</td>\n",
              "      <td>17850.0</td>\n",
              "      <td>United Kingdom</td>\n",
              "    </tr>\n",
              "    <tr>\n",
              "      <th>...</th>\n",
              "      <td>...</td>\n",
              "      <td>...</td>\n",
              "      <td>...</td>\n",
              "      <td>...</td>\n",
              "      <td>...</td>\n",
              "      <td>...</td>\n",
              "      <td>...</td>\n",
              "      <td>...</td>\n",
              "    </tr>\n",
              "    <tr>\n",
              "      <th>541904</th>\n",
              "      <td>581587</td>\n",
              "      <td>22613</td>\n",
              "      <td>PACK OF 20 SPACEBOY NAPKINS</td>\n",
              "      <td>12</td>\n",
              "      <td>12/9/2011 12:50</td>\n",
              "      <td>0.85</td>\n",
              "      <td>12680.0</td>\n",
              "      <td>France</td>\n",
              "    </tr>\n",
              "    <tr>\n",
              "      <th>541905</th>\n",
              "      <td>581587</td>\n",
              "      <td>22899</td>\n",
              "      <td>CHILDREN'S APRON DOLLY GIRL</td>\n",
              "      <td>6</td>\n",
              "      <td>12/9/2011 12:50</td>\n",
              "      <td>2.10</td>\n",
              "      <td>12680.0</td>\n",
              "      <td>France</td>\n",
              "    </tr>\n",
              "    <tr>\n",
              "      <th>541906</th>\n",
              "      <td>581587</td>\n",
              "      <td>23254</td>\n",
              "      <td>CHILDRENS CUTLERY DOLLY GIRL</td>\n",
              "      <td>4</td>\n",
              "      <td>12/9/2011 12:50</td>\n",
              "      <td>4.15</td>\n",
              "      <td>12680.0</td>\n",
              "      <td>France</td>\n",
              "    </tr>\n",
              "    <tr>\n",
              "      <th>541907</th>\n",
              "      <td>581587</td>\n",
              "      <td>23255</td>\n",
              "      <td>CHILDRENS CUTLERY CIRCUS PARADE</td>\n",
              "      <td>4</td>\n",
              "      <td>12/9/2011 12:50</td>\n",
              "      <td>4.15</td>\n",
              "      <td>12680.0</td>\n",
              "      <td>France</td>\n",
              "    </tr>\n",
              "    <tr>\n",
              "      <th>541908</th>\n",
              "      <td>581587</td>\n",
              "      <td>22138</td>\n",
              "      <td>BAKING SET 9 PIECE RETROSPOT</td>\n",
              "      <td>3</td>\n",
              "      <td>12/9/2011 12:50</td>\n",
              "      <td>4.95</td>\n",
              "      <td>12680.0</td>\n",
              "      <td>France</td>\n",
              "    </tr>\n",
              "  </tbody>\n",
              "</table>\n",
              "<p>541909 rows × 8 columns</p>\n",
              "</div>\n",
              "      <button class=\"colab-df-convert\" onclick=\"convertToInteractive('df-6374311a-431e-4e30-80e4-7d0d71aae397')\"\n",
              "              title=\"Convert this dataframe to an interactive table.\"\n",
              "              style=\"display:none;\">\n",
              "        \n",
              "  <svg xmlns=\"http://www.w3.org/2000/svg\" height=\"24px\"viewBox=\"0 0 24 24\"\n",
              "       width=\"24px\">\n",
              "    <path d=\"M0 0h24v24H0V0z\" fill=\"none\"/>\n",
              "    <path d=\"M18.56 5.44l.94 2.06.94-2.06 2.06-.94-2.06-.94-.94-2.06-.94 2.06-2.06.94zm-11 1L8.5 8.5l.94-2.06 2.06-.94-2.06-.94L8.5 2.5l-.94 2.06-2.06.94zm10 10l.94 2.06.94-2.06 2.06-.94-2.06-.94-.94-2.06-.94 2.06-2.06.94z\"/><path d=\"M17.41 7.96l-1.37-1.37c-.4-.4-.92-.59-1.43-.59-.52 0-1.04.2-1.43.59L10.3 9.45l-7.72 7.72c-.78.78-.78 2.05 0 2.83L4 21.41c.39.39.9.59 1.41.59.51 0 1.02-.2 1.41-.59l7.78-7.78 2.81-2.81c.8-.78.8-2.07 0-2.86zM5.41 20L4 18.59l7.72-7.72 1.47 1.35L5.41 20z\"/>\n",
              "  </svg>\n",
              "      </button>\n",
              "      \n",
              "  <style>\n",
              "    .colab-df-container {\n",
              "      display:flex;\n",
              "      flex-wrap:wrap;\n",
              "      gap: 12px;\n",
              "    }\n",
              "\n",
              "    .colab-df-convert {\n",
              "      background-color: #E8F0FE;\n",
              "      border: none;\n",
              "      border-radius: 50%;\n",
              "      cursor: pointer;\n",
              "      display: none;\n",
              "      fill: #1967D2;\n",
              "      height: 32px;\n",
              "      padding: 0 0 0 0;\n",
              "      width: 32px;\n",
              "    }\n",
              "\n",
              "    .colab-df-convert:hover {\n",
              "      background-color: #E2EBFA;\n",
              "      box-shadow: 0px 1px 2px rgba(60, 64, 67, 0.3), 0px 1px 3px 1px rgba(60, 64, 67, 0.15);\n",
              "      fill: #174EA6;\n",
              "    }\n",
              "\n",
              "    [theme=dark] .colab-df-convert {\n",
              "      background-color: #3B4455;\n",
              "      fill: #D2E3FC;\n",
              "    }\n",
              "\n",
              "    [theme=dark] .colab-df-convert:hover {\n",
              "      background-color: #434B5C;\n",
              "      box-shadow: 0px 1px 3px 1px rgba(0, 0, 0, 0.15);\n",
              "      filter: drop-shadow(0px 1px 2px rgba(0, 0, 0, 0.3));\n",
              "      fill: #FFFFFF;\n",
              "    }\n",
              "  </style>\n",
              "\n",
              "      <script>\n",
              "        const buttonEl =\n",
              "          document.querySelector('#df-6374311a-431e-4e30-80e4-7d0d71aae397 button.colab-df-convert');\n",
              "        buttonEl.style.display =\n",
              "          google.colab.kernel.accessAllowed ? 'block' : 'none';\n",
              "\n",
              "        async function convertToInteractive(key) {\n",
              "          const element = document.querySelector('#df-6374311a-431e-4e30-80e4-7d0d71aae397');\n",
              "          const dataTable =\n",
              "            await google.colab.kernel.invokeFunction('convertToInteractive',\n",
              "                                                     [key], {});\n",
              "          if (!dataTable) return;\n",
              "\n",
              "          const docLinkHtml = 'Like what you see? Visit the ' +\n",
              "            '<a target=\"_blank\" href=https://colab.research.google.com/notebooks/data_table.ipynb>data table notebook</a>'\n",
              "            + ' to learn more about interactive tables.';\n",
              "          element.innerHTML = '';\n",
              "          dataTable['output_type'] = 'display_data';\n",
              "          await google.colab.output.renderOutput(dataTable, element);\n",
              "          const docLink = document.createElement('div');\n",
              "          docLink.innerHTML = docLinkHtml;\n",
              "          element.appendChild(docLink);\n",
              "        }\n",
              "      </script>\n",
              "    </div>\n",
              "  </div>\n",
              "  "
            ]
          },
          "metadata": {},
          "execution_count": 193
        }
      ]
    },
    {
      "cell_type": "markdown",
      "source": [
        "- InvoiceNo: 주문번호 (C로 시작하는 것은 취소 주문)\n",
        "- StockCode: 제품 코드\n",
        "- Description: 제품 설명\n",
        "- Quantity: 주문 제품 건수\n",
        "- InvoiceDate: 주문 일자\n",
        "- UnitPrice: 제품 단가\n",
        "- CustomerID: 고객 번호\n",
        "- Country: 주문 고객의 국적"
      ],
      "metadata": {
        "id": "Xe2VTsqZgEQT"
      }
    },
    {
      "cell_type": "markdown",
      "source": [
        "#### 데이터 특성 파악과 기본적인 전처리"
      ],
      "metadata": {
        "id": "PbUPiY6_iNuU"
      }
    },
    {
      "cell_type": "code",
      "source": [
        "sales.isnull().sum() # 결측치가 없는지 파악"
      ],
      "metadata": {
        "colab": {
          "base_uri": "https://localhost:8080/"
        },
        "id": "XCx9-zRHhhiU",
        "outputId": "81f88015-3791-4b28-e114-dad633810b75"
      },
      "execution_count": 194,
      "outputs": [
        {
          "output_type": "execute_result",
          "data": {
            "text/plain": [
              "InvoiceNo           0\n",
              "StockCode           0\n",
              "Description      1454\n",
              "Quantity            0\n",
              "InvoiceDate         0\n",
              "UnitPrice           0\n",
              "CustomerID     135080\n",
              "Country             0\n",
              "dtype: int64"
            ]
          },
          "metadata": {},
          "execution_count": 194
        }
      ]
    },
    {
      "cell_type": "code",
      "source": [
        "sales = sales.dropna() # 결측치가 있는 데이터를 제거"
      ],
      "metadata": {
        "id": "ohp_DTePh3E9"
      },
      "execution_count": 195,
      "outputs": []
    },
    {
      "cell_type": "code",
      "source": [
        "sales.shape "
      ],
      "metadata": {
        "colab": {
          "base_uri": "https://localhost:8080/"
        },
        "id": "F_SNhy6j3E54",
        "outputId": "33e11075-dbe9-4cda-f505-9cf6e353076c"
      },
      "execution_count": 196,
      "outputs": [
        {
          "output_type": "execute_result",
          "data": {
            "text/plain": [
              "(406829, 8)"
            ]
          },
          "metadata": {},
          "execution_count": 196
        }
      ]
    },
    {
      "cell_type": "code",
      "source": [
        "sales = sales.query(\"(Quantity > 0) and (UnitPrice > 0)\") # 주문 제품 건수와 제품 단가가 0보다 큰 데이터들만 남김\n",
        "                                                          # 주문 제품 건수 또는 제품 단가가 0이하인 행들을 삭제한다는 명제의 대우"
      ],
      "metadata": {
        "id": "L_tfUbeWiHwi"
      },
      "execution_count": 197,
      "outputs": []
    },
    {
      "cell_type": "code",
      "source": [
        "sales"
      ],
      "metadata": {
        "colab": {
          "base_uri": "https://localhost:8080/",
          "height": 423
        },
        "id": "n3ZXrQ9li3rF",
        "outputId": "9d97d6a9-2fca-48c4-d9d2-dc5f62353329"
      },
      "execution_count": 198,
      "outputs": [
        {
          "output_type": "execute_result",
          "data": {
            "text/plain": [
              "       InvoiceNo StockCode                          Description  Quantity  \\\n",
              "0         536365    85123A   WHITE HANGING HEART T-LIGHT HOLDER         6   \n",
              "1         536365     71053                  WHITE METAL LANTERN         6   \n",
              "2         536365    84406B       CREAM CUPID HEARTS COAT HANGER         8   \n",
              "3         536365    84029G  KNITTED UNION FLAG HOT WATER BOTTLE         6   \n",
              "4         536365    84029E       RED WOOLLY HOTTIE WHITE HEART.         6   \n",
              "...          ...       ...                                  ...       ...   \n",
              "541904    581587     22613          PACK OF 20 SPACEBOY NAPKINS        12   \n",
              "541905    581587     22899         CHILDREN'S APRON DOLLY GIRL          6   \n",
              "541906    581587     23254        CHILDRENS CUTLERY DOLLY GIRL          4   \n",
              "541907    581587     23255      CHILDRENS CUTLERY CIRCUS PARADE         4   \n",
              "541908    581587     22138        BAKING SET 9 PIECE RETROSPOT          3   \n",
              "\n",
              "            InvoiceDate  UnitPrice  CustomerID         Country  \n",
              "0        12/1/2010 8:26       2.55     17850.0  United Kingdom  \n",
              "1        12/1/2010 8:26       3.39     17850.0  United Kingdom  \n",
              "2        12/1/2010 8:26       2.75     17850.0  United Kingdom  \n",
              "3        12/1/2010 8:26       3.39     17850.0  United Kingdom  \n",
              "4        12/1/2010 8:26       3.39     17850.0  United Kingdom  \n",
              "...                 ...        ...         ...             ...  \n",
              "541904  12/9/2011 12:50       0.85     12680.0          France  \n",
              "541905  12/9/2011 12:50       2.10     12680.0          France  \n",
              "541906  12/9/2011 12:50       4.15     12680.0          France  \n",
              "541907  12/9/2011 12:50       4.15     12680.0          France  \n",
              "541908  12/9/2011 12:50       4.95     12680.0          France  \n",
              "\n",
              "[397884 rows x 8 columns]"
            ],
            "text/html": [
              "\n",
              "  <div id=\"df-643cd700-2488-42c2-b50e-20fa2b7557ae\">\n",
              "    <div class=\"colab-df-container\">\n",
              "      <div>\n",
              "<style scoped>\n",
              "    .dataframe tbody tr th:only-of-type {\n",
              "        vertical-align: middle;\n",
              "    }\n",
              "\n",
              "    .dataframe tbody tr th {\n",
              "        vertical-align: top;\n",
              "    }\n",
              "\n",
              "    .dataframe thead th {\n",
              "        text-align: right;\n",
              "    }\n",
              "</style>\n",
              "<table border=\"1\" class=\"dataframe\">\n",
              "  <thead>\n",
              "    <tr style=\"text-align: right;\">\n",
              "      <th></th>\n",
              "      <th>InvoiceNo</th>\n",
              "      <th>StockCode</th>\n",
              "      <th>Description</th>\n",
              "      <th>Quantity</th>\n",
              "      <th>InvoiceDate</th>\n",
              "      <th>UnitPrice</th>\n",
              "      <th>CustomerID</th>\n",
              "      <th>Country</th>\n",
              "    </tr>\n",
              "  </thead>\n",
              "  <tbody>\n",
              "    <tr>\n",
              "      <th>0</th>\n",
              "      <td>536365</td>\n",
              "      <td>85123A</td>\n",
              "      <td>WHITE HANGING HEART T-LIGHT HOLDER</td>\n",
              "      <td>6</td>\n",
              "      <td>12/1/2010 8:26</td>\n",
              "      <td>2.55</td>\n",
              "      <td>17850.0</td>\n",
              "      <td>United Kingdom</td>\n",
              "    </tr>\n",
              "    <tr>\n",
              "      <th>1</th>\n",
              "      <td>536365</td>\n",
              "      <td>71053</td>\n",
              "      <td>WHITE METAL LANTERN</td>\n",
              "      <td>6</td>\n",
              "      <td>12/1/2010 8:26</td>\n",
              "      <td>3.39</td>\n",
              "      <td>17850.0</td>\n",
              "      <td>United Kingdom</td>\n",
              "    </tr>\n",
              "    <tr>\n",
              "      <th>2</th>\n",
              "      <td>536365</td>\n",
              "      <td>84406B</td>\n",
              "      <td>CREAM CUPID HEARTS COAT HANGER</td>\n",
              "      <td>8</td>\n",
              "      <td>12/1/2010 8:26</td>\n",
              "      <td>2.75</td>\n",
              "      <td>17850.0</td>\n",
              "      <td>United Kingdom</td>\n",
              "    </tr>\n",
              "    <tr>\n",
              "      <th>3</th>\n",
              "      <td>536365</td>\n",
              "      <td>84029G</td>\n",
              "      <td>KNITTED UNION FLAG HOT WATER BOTTLE</td>\n",
              "      <td>6</td>\n",
              "      <td>12/1/2010 8:26</td>\n",
              "      <td>3.39</td>\n",
              "      <td>17850.0</td>\n",
              "      <td>United Kingdom</td>\n",
              "    </tr>\n",
              "    <tr>\n",
              "      <th>4</th>\n",
              "      <td>536365</td>\n",
              "      <td>84029E</td>\n",
              "      <td>RED WOOLLY HOTTIE WHITE HEART.</td>\n",
              "      <td>6</td>\n",
              "      <td>12/1/2010 8:26</td>\n",
              "      <td>3.39</td>\n",
              "      <td>17850.0</td>\n",
              "      <td>United Kingdom</td>\n",
              "    </tr>\n",
              "    <tr>\n",
              "      <th>...</th>\n",
              "      <td>...</td>\n",
              "      <td>...</td>\n",
              "      <td>...</td>\n",
              "      <td>...</td>\n",
              "      <td>...</td>\n",
              "      <td>...</td>\n",
              "      <td>...</td>\n",
              "      <td>...</td>\n",
              "    </tr>\n",
              "    <tr>\n",
              "      <th>541904</th>\n",
              "      <td>581587</td>\n",
              "      <td>22613</td>\n",
              "      <td>PACK OF 20 SPACEBOY NAPKINS</td>\n",
              "      <td>12</td>\n",
              "      <td>12/9/2011 12:50</td>\n",
              "      <td>0.85</td>\n",
              "      <td>12680.0</td>\n",
              "      <td>France</td>\n",
              "    </tr>\n",
              "    <tr>\n",
              "      <th>541905</th>\n",
              "      <td>581587</td>\n",
              "      <td>22899</td>\n",
              "      <td>CHILDREN'S APRON DOLLY GIRL</td>\n",
              "      <td>6</td>\n",
              "      <td>12/9/2011 12:50</td>\n",
              "      <td>2.10</td>\n",
              "      <td>12680.0</td>\n",
              "      <td>France</td>\n",
              "    </tr>\n",
              "    <tr>\n",
              "      <th>541906</th>\n",
              "      <td>581587</td>\n",
              "      <td>23254</td>\n",
              "      <td>CHILDRENS CUTLERY DOLLY GIRL</td>\n",
              "      <td>4</td>\n",
              "      <td>12/9/2011 12:50</td>\n",
              "      <td>4.15</td>\n",
              "      <td>12680.0</td>\n",
              "      <td>France</td>\n",
              "    </tr>\n",
              "    <tr>\n",
              "      <th>541907</th>\n",
              "      <td>581587</td>\n",
              "      <td>23255</td>\n",
              "      <td>CHILDRENS CUTLERY CIRCUS PARADE</td>\n",
              "      <td>4</td>\n",
              "      <td>12/9/2011 12:50</td>\n",
              "      <td>4.15</td>\n",
              "      <td>12680.0</td>\n",
              "      <td>France</td>\n",
              "    </tr>\n",
              "    <tr>\n",
              "      <th>541908</th>\n",
              "      <td>581587</td>\n",
              "      <td>22138</td>\n",
              "      <td>BAKING SET 9 PIECE RETROSPOT</td>\n",
              "      <td>3</td>\n",
              "      <td>12/9/2011 12:50</td>\n",
              "      <td>4.95</td>\n",
              "      <td>12680.0</td>\n",
              "      <td>France</td>\n",
              "    </tr>\n",
              "  </tbody>\n",
              "</table>\n",
              "<p>397884 rows × 8 columns</p>\n",
              "</div>\n",
              "      <button class=\"colab-df-convert\" onclick=\"convertToInteractive('df-643cd700-2488-42c2-b50e-20fa2b7557ae')\"\n",
              "              title=\"Convert this dataframe to an interactive table.\"\n",
              "              style=\"display:none;\">\n",
              "        \n",
              "  <svg xmlns=\"http://www.w3.org/2000/svg\" height=\"24px\"viewBox=\"0 0 24 24\"\n",
              "       width=\"24px\">\n",
              "    <path d=\"M0 0h24v24H0V0z\" fill=\"none\"/>\n",
              "    <path d=\"M18.56 5.44l.94 2.06.94-2.06 2.06-.94-2.06-.94-.94-2.06-.94 2.06-2.06.94zm-11 1L8.5 8.5l.94-2.06 2.06-.94-2.06-.94L8.5 2.5l-.94 2.06-2.06.94zm10 10l.94 2.06.94-2.06 2.06-.94-2.06-.94-.94-2.06-.94 2.06-2.06.94z\"/><path d=\"M17.41 7.96l-1.37-1.37c-.4-.4-.92-.59-1.43-.59-.52 0-1.04.2-1.43.59L10.3 9.45l-7.72 7.72c-.78.78-.78 2.05 0 2.83L4 21.41c.39.39.9.59 1.41.59.51 0 1.02-.2 1.41-.59l7.78-7.78 2.81-2.81c.8-.78.8-2.07 0-2.86zM5.41 20L4 18.59l7.72-7.72 1.47 1.35L5.41 20z\"/>\n",
              "  </svg>\n",
              "      </button>\n",
              "      \n",
              "  <style>\n",
              "    .colab-df-container {\n",
              "      display:flex;\n",
              "      flex-wrap:wrap;\n",
              "      gap: 12px;\n",
              "    }\n",
              "\n",
              "    .colab-df-convert {\n",
              "      background-color: #E8F0FE;\n",
              "      border: none;\n",
              "      border-radius: 50%;\n",
              "      cursor: pointer;\n",
              "      display: none;\n",
              "      fill: #1967D2;\n",
              "      height: 32px;\n",
              "      padding: 0 0 0 0;\n",
              "      width: 32px;\n",
              "    }\n",
              "\n",
              "    .colab-df-convert:hover {\n",
              "      background-color: #E2EBFA;\n",
              "      box-shadow: 0px 1px 2px rgba(60, 64, 67, 0.3), 0px 1px 3px 1px rgba(60, 64, 67, 0.15);\n",
              "      fill: #174EA6;\n",
              "    }\n",
              "\n",
              "    [theme=dark] .colab-df-convert {\n",
              "      background-color: #3B4455;\n",
              "      fill: #D2E3FC;\n",
              "    }\n",
              "\n",
              "    [theme=dark] .colab-df-convert:hover {\n",
              "      background-color: #434B5C;\n",
              "      box-shadow: 0px 1px 3px 1px rgba(0, 0, 0, 0.15);\n",
              "      filter: drop-shadow(0px 1px 2px rgba(0, 0, 0, 0.3));\n",
              "      fill: #FFFFFF;\n",
              "    }\n",
              "  </style>\n",
              "\n",
              "      <script>\n",
              "        const buttonEl =\n",
              "          document.querySelector('#df-643cd700-2488-42c2-b50e-20fa2b7557ae button.colab-df-convert');\n",
              "        buttonEl.style.display =\n",
              "          google.colab.kernel.accessAllowed ? 'block' : 'none';\n",
              "\n",
              "        async function convertToInteractive(key) {\n",
              "          const element = document.querySelector('#df-643cd700-2488-42c2-b50e-20fa2b7557ae');\n",
              "          const dataTable =\n",
              "            await google.colab.kernel.invokeFunction('convertToInteractive',\n",
              "                                                     [key], {});\n",
              "          if (!dataTable) return;\n",
              "\n",
              "          const docLinkHtml = 'Like what you see? Visit the ' +\n",
              "            '<a target=\"_blank\" href=https://colab.research.google.com/notebooks/data_table.ipynb>data table notebook</a>'\n",
              "            + ' to learn more about interactive tables.';\n",
              "          element.innerHTML = '';\n",
              "          dataTable['output_type'] = 'display_data';\n",
              "          await google.colab.output.renderOutput(dataTable, element);\n",
              "          const docLink = document.createElement('div');\n",
              "          docLink.innerHTML = docLinkHtml;\n",
              "          element.appendChild(docLink);\n",
              "        }\n",
              "      </script>\n",
              "    </div>\n",
              "  </div>\n",
              "  "
            ]
          },
          "metadata": {},
          "execution_count": 198
        }
      ]
    },
    {
      "cell_type": "markdown",
      "source": [
        "#### 시계열 데이터로 만들기"
      ],
      "metadata": {
        "id": "Ndd2RwUpdLEQ"
      }
    },
    {
      "cell_type": "code",
      "source": [
        "sales.info()"
      ],
      "metadata": {
        "colab": {
          "base_uri": "https://localhost:8080/"
        },
        "id": "pLUp8AFmcQSt",
        "outputId": "66a6a96d-3123-4f0d-eda8-ce17c60f4739"
      },
      "execution_count": 199,
      "outputs": [
        {
          "output_type": "stream",
          "name": "stdout",
          "text": [
            "<class 'pandas.core.frame.DataFrame'>\n",
            "Int64Index: 397884 entries, 0 to 541908\n",
            "Data columns (total 8 columns):\n",
            " #   Column       Non-Null Count   Dtype  \n",
            "---  ------       --------------   -----  \n",
            " 0   InvoiceNo    397884 non-null  object \n",
            " 1   StockCode    397884 non-null  object \n",
            " 2   Description  397884 non-null  object \n",
            " 3   Quantity     397884 non-null  int64  \n",
            " 4   InvoiceDate  397884 non-null  object \n",
            " 5   UnitPrice    397884 non-null  float64\n",
            " 6   CustomerID   397884 non-null  float64\n",
            " 7   Country      397884 non-null  object \n",
            "dtypes: float64(2), int64(1), object(5)\n",
            "memory usage: 27.3+ MB\n"
          ]
        }
      ]
    },
    {
      "cell_type": "code",
      "source": [
        "sales['CustomerID'] = sales['CustomerID'].astype(int)"
      ],
      "metadata": {
        "id": "o1Dw1Krl678j"
      },
      "execution_count": 200,
      "outputs": []
    },
    {
      "cell_type": "code",
      "source": [
        "sales['InvoiceDate'] = pd.to_datetime(sales['InvoiceDate'])"
      ],
      "metadata": {
        "id": "zCf7mZiUdPl9"
      },
      "execution_count": 201,
      "outputs": []
    },
    {
      "cell_type": "code",
      "source": [
        "sales.info()"
      ],
      "metadata": {
        "colab": {
          "base_uri": "https://localhost:8080/"
        },
        "id": "ZFznOOyWdtF1",
        "outputId": "1564b4df-e7d4-4972-cd46-67e8d35d3aa6"
      },
      "execution_count": 202,
      "outputs": [
        {
          "output_type": "stream",
          "name": "stdout",
          "text": [
            "<class 'pandas.core.frame.DataFrame'>\n",
            "Int64Index: 397884 entries, 0 to 541908\n",
            "Data columns (total 8 columns):\n",
            " #   Column       Non-Null Count   Dtype         \n",
            "---  ------       --------------   -----         \n",
            " 0   InvoiceNo    397884 non-null  object        \n",
            " 1   StockCode    397884 non-null  object        \n",
            " 2   Description  397884 non-null  object        \n",
            " 3   Quantity     397884 non-null  int64         \n",
            " 4   InvoiceDate  397884 non-null  datetime64[ns]\n",
            " 5   UnitPrice    397884 non-null  float64       \n",
            " 6   CustomerID   397884 non-null  int64         \n",
            " 7   Country      397884 non-null  object        \n",
            "dtypes: datetime64[ns](1), float64(1), int64(2), object(4)\n",
            "memory usage: 27.3+ MB\n"
          ]
        }
      ]
    },
    {
      "cell_type": "code",
      "source": [
        "sales_df = sales.set_index('InvoiceDate')"
      ],
      "metadata": {
        "id": "qlRKGtsqdVsZ"
      },
      "execution_count": 203,
      "outputs": []
    },
    {
      "cell_type": "code",
      "source": [
        "sales_df"
      ],
      "metadata": {
        "colab": {
          "base_uri": "https://localhost:8080/",
          "height": 455
        },
        "id": "k-pGO7DWd6st",
        "outputId": "2045adc5-40b7-4185-f4fa-f60cde8e091b"
      },
      "execution_count": 204,
      "outputs": [
        {
          "output_type": "execute_result",
          "data": {
            "text/plain": [
              "                    InvoiceNo StockCode                          Description  \\\n",
              "InvoiceDate                                                                    \n",
              "2010-12-01 08:26:00    536365    85123A   WHITE HANGING HEART T-LIGHT HOLDER   \n",
              "2010-12-01 08:26:00    536365     71053                  WHITE METAL LANTERN   \n",
              "2010-12-01 08:26:00    536365    84406B       CREAM CUPID HEARTS COAT HANGER   \n",
              "2010-12-01 08:26:00    536365    84029G  KNITTED UNION FLAG HOT WATER BOTTLE   \n",
              "2010-12-01 08:26:00    536365    84029E       RED WOOLLY HOTTIE WHITE HEART.   \n",
              "...                       ...       ...                                  ...   \n",
              "2011-12-09 12:50:00    581587     22613          PACK OF 20 SPACEBOY NAPKINS   \n",
              "2011-12-09 12:50:00    581587     22899         CHILDREN'S APRON DOLLY GIRL    \n",
              "2011-12-09 12:50:00    581587     23254        CHILDRENS CUTLERY DOLLY GIRL    \n",
              "2011-12-09 12:50:00    581587     23255      CHILDRENS CUTLERY CIRCUS PARADE   \n",
              "2011-12-09 12:50:00    581587     22138        BAKING SET 9 PIECE RETROSPOT    \n",
              "\n",
              "                     Quantity  UnitPrice  CustomerID         Country  \n",
              "InvoiceDate                                                           \n",
              "2010-12-01 08:26:00         6       2.55       17850  United Kingdom  \n",
              "2010-12-01 08:26:00         6       3.39       17850  United Kingdom  \n",
              "2010-12-01 08:26:00         8       2.75       17850  United Kingdom  \n",
              "2010-12-01 08:26:00         6       3.39       17850  United Kingdom  \n",
              "2010-12-01 08:26:00         6       3.39       17850  United Kingdom  \n",
              "...                       ...        ...         ...             ...  \n",
              "2011-12-09 12:50:00        12       0.85       12680          France  \n",
              "2011-12-09 12:50:00         6       2.10       12680          France  \n",
              "2011-12-09 12:50:00         4       4.15       12680          France  \n",
              "2011-12-09 12:50:00         4       4.15       12680          France  \n",
              "2011-12-09 12:50:00         3       4.95       12680          France  \n",
              "\n",
              "[397884 rows x 7 columns]"
            ],
            "text/html": [
              "\n",
              "  <div id=\"df-4e7a889a-a406-462c-ba31-3b677ecef38f\">\n",
              "    <div class=\"colab-df-container\">\n",
              "      <div>\n",
              "<style scoped>\n",
              "    .dataframe tbody tr th:only-of-type {\n",
              "        vertical-align: middle;\n",
              "    }\n",
              "\n",
              "    .dataframe tbody tr th {\n",
              "        vertical-align: top;\n",
              "    }\n",
              "\n",
              "    .dataframe thead th {\n",
              "        text-align: right;\n",
              "    }\n",
              "</style>\n",
              "<table border=\"1\" class=\"dataframe\">\n",
              "  <thead>\n",
              "    <tr style=\"text-align: right;\">\n",
              "      <th></th>\n",
              "      <th>InvoiceNo</th>\n",
              "      <th>StockCode</th>\n",
              "      <th>Description</th>\n",
              "      <th>Quantity</th>\n",
              "      <th>UnitPrice</th>\n",
              "      <th>CustomerID</th>\n",
              "      <th>Country</th>\n",
              "    </tr>\n",
              "    <tr>\n",
              "      <th>InvoiceDate</th>\n",
              "      <th></th>\n",
              "      <th></th>\n",
              "      <th></th>\n",
              "      <th></th>\n",
              "      <th></th>\n",
              "      <th></th>\n",
              "      <th></th>\n",
              "    </tr>\n",
              "  </thead>\n",
              "  <tbody>\n",
              "    <tr>\n",
              "      <th>2010-12-01 08:26:00</th>\n",
              "      <td>536365</td>\n",
              "      <td>85123A</td>\n",
              "      <td>WHITE HANGING HEART T-LIGHT HOLDER</td>\n",
              "      <td>6</td>\n",
              "      <td>2.55</td>\n",
              "      <td>17850</td>\n",
              "      <td>United Kingdom</td>\n",
              "    </tr>\n",
              "    <tr>\n",
              "      <th>2010-12-01 08:26:00</th>\n",
              "      <td>536365</td>\n",
              "      <td>71053</td>\n",
              "      <td>WHITE METAL LANTERN</td>\n",
              "      <td>6</td>\n",
              "      <td>3.39</td>\n",
              "      <td>17850</td>\n",
              "      <td>United Kingdom</td>\n",
              "    </tr>\n",
              "    <tr>\n",
              "      <th>2010-12-01 08:26:00</th>\n",
              "      <td>536365</td>\n",
              "      <td>84406B</td>\n",
              "      <td>CREAM CUPID HEARTS COAT HANGER</td>\n",
              "      <td>8</td>\n",
              "      <td>2.75</td>\n",
              "      <td>17850</td>\n",
              "      <td>United Kingdom</td>\n",
              "    </tr>\n",
              "    <tr>\n",
              "      <th>2010-12-01 08:26:00</th>\n",
              "      <td>536365</td>\n",
              "      <td>84029G</td>\n",
              "      <td>KNITTED UNION FLAG HOT WATER BOTTLE</td>\n",
              "      <td>6</td>\n",
              "      <td>3.39</td>\n",
              "      <td>17850</td>\n",
              "      <td>United Kingdom</td>\n",
              "    </tr>\n",
              "    <tr>\n",
              "      <th>2010-12-01 08:26:00</th>\n",
              "      <td>536365</td>\n",
              "      <td>84029E</td>\n",
              "      <td>RED WOOLLY HOTTIE WHITE HEART.</td>\n",
              "      <td>6</td>\n",
              "      <td>3.39</td>\n",
              "      <td>17850</td>\n",
              "      <td>United Kingdom</td>\n",
              "    </tr>\n",
              "    <tr>\n",
              "      <th>...</th>\n",
              "      <td>...</td>\n",
              "      <td>...</td>\n",
              "      <td>...</td>\n",
              "      <td>...</td>\n",
              "      <td>...</td>\n",
              "      <td>...</td>\n",
              "      <td>...</td>\n",
              "    </tr>\n",
              "    <tr>\n",
              "      <th>2011-12-09 12:50:00</th>\n",
              "      <td>581587</td>\n",
              "      <td>22613</td>\n",
              "      <td>PACK OF 20 SPACEBOY NAPKINS</td>\n",
              "      <td>12</td>\n",
              "      <td>0.85</td>\n",
              "      <td>12680</td>\n",
              "      <td>France</td>\n",
              "    </tr>\n",
              "    <tr>\n",
              "      <th>2011-12-09 12:50:00</th>\n",
              "      <td>581587</td>\n",
              "      <td>22899</td>\n",
              "      <td>CHILDREN'S APRON DOLLY GIRL</td>\n",
              "      <td>6</td>\n",
              "      <td>2.10</td>\n",
              "      <td>12680</td>\n",
              "      <td>France</td>\n",
              "    </tr>\n",
              "    <tr>\n",
              "      <th>2011-12-09 12:50:00</th>\n",
              "      <td>581587</td>\n",
              "      <td>23254</td>\n",
              "      <td>CHILDRENS CUTLERY DOLLY GIRL</td>\n",
              "      <td>4</td>\n",
              "      <td>4.15</td>\n",
              "      <td>12680</td>\n",
              "      <td>France</td>\n",
              "    </tr>\n",
              "    <tr>\n",
              "      <th>2011-12-09 12:50:00</th>\n",
              "      <td>581587</td>\n",
              "      <td>23255</td>\n",
              "      <td>CHILDRENS CUTLERY CIRCUS PARADE</td>\n",
              "      <td>4</td>\n",
              "      <td>4.15</td>\n",
              "      <td>12680</td>\n",
              "      <td>France</td>\n",
              "    </tr>\n",
              "    <tr>\n",
              "      <th>2011-12-09 12:50:00</th>\n",
              "      <td>581587</td>\n",
              "      <td>22138</td>\n",
              "      <td>BAKING SET 9 PIECE RETROSPOT</td>\n",
              "      <td>3</td>\n",
              "      <td>4.95</td>\n",
              "      <td>12680</td>\n",
              "      <td>France</td>\n",
              "    </tr>\n",
              "  </tbody>\n",
              "</table>\n",
              "<p>397884 rows × 7 columns</p>\n",
              "</div>\n",
              "      <button class=\"colab-df-convert\" onclick=\"convertToInteractive('df-4e7a889a-a406-462c-ba31-3b677ecef38f')\"\n",
              "              title=\"Convert this dataframe to an interactive table.\"\n",
              "              style=\"display:none;\">\n",
              "        \n",
              "  <svg xmlns=\"http://www.w3.org/2000/svg\" height=\"24px\"viewBox=\"0 0 24 24\"\n",
              "       width=\"24px\">\n",
              "    <path d=\"M0 0h24v24H0V0z\" fill=\"none\"/>\n",
              "    <path d=\"M18.56 5.44l.94 2.06.94-2.06 2.06-.94-2.06-.94-.94-2.06-.94 2.06-2.06.94zm-11 1L8.5 8.5l.94-2.06 2.06-.94-2.06-.94L8.5 2.5l-.94 2.06-2.06.94zm10 10l.94 2.06.94-2.06 2.06-.94-2.06-.94-.94-2.06-.94 2.06-2.06.94z\"/><path d=\"M17.41 7.96l-1.37-1.37c-.4-.4-.92-.59-1.43-.59-.52 0-1.04.2-1.43.59L10.3 9.45l-7.72 7.72c-.78.78-.78 2.05 0 2.83L4 21.41c.39.39.9.59 1.41.59.51 0 1.02-.2 1.41-.59l7.78-7.78 2.81-2.81c.8-.78.8-2.07 0-2.86zM5.41 20L4 18.59l7.72-7.72 1.47 1.35L5.41 20z\"/>\n",
              "  </svg>\n",
              "      </button>\n",
              "      \n",
              "  <style>\n",
              "    .colab-df-container {\n",
              "      display:flex;\n",
              "      flex-wrap:wrap;\n",
              "      gap: 12px;\n",
              "    }\n",
              "\n",
              "    .colab-df-convert {\n",
              "      background-color: #E8F0FE;\n",
              "      border: none;\n",
              "      border-radius: 50%;\n",
              "      cursor: pointer;\n",
              "      display: none;\n",
              "      fill: #1967D2;\n",
              "      height: 32px;\n",
              "      padding: 0 0 0 0;\n",
              "      width: 32px;\n",
              "    }\n",
              "\n",
              "    .colab-df-convert:hover {\n",
              "      background-color: #E2EBFA;\n",
              "      box-shadow: 0px 1px 2px rgba(60, 64, 67, 0.3), 0px 1px 3px 1px rgba(60, 64, 67, 0.15);\n",
              "      fill: #174EA6;\n",
              "    }\n",
              "\n",
              "    [theme=dark] .colab-df-convert {\n",
              "      background-color: #3B4455;\n",
              "      fill: #D2E3FC;\n",
              "    }\n",
              "\n",
              "    [theme=dark] .colab-df-convert:hover {\n",
              "      background-color: #434B5C;\n",
              "      box-shadow: 0px 1px 3px 1px rgba(0, 0, 0, 0.15);\n",
              "      filter: drop-shadow(0px 1px 2px rgba(0, 0, 0, 0.3));\n",
              "      fill: #FFFFFF;\n",
              "    }\n",
              "  </style>\n",
              "\n",
              "      <script>\n",
              "        const buttonEl =\n",
              "          document.querySelector('#df-4e7a889a-a406-462c-ba31-3b677ecef38f button.colab-df-convert');\n",
              "        buttonEl.style.display =\n",
              "          google.colab.kernel.accessAllowed ? 'block' : 'none';\n",
              "\n",
              "        async function convertToInteractive(key) {\n",
              "          const element = document.querySelector('#df-4e7a889a-a406-462c-ba31-3b677ecef38f');\n",
              "          const dataTable =\n",
              "            await google.colab.kernel.invokeFunction('convertToInteractive',\n",
              "                                                     [key], {});\n",
              "          if (!dataTable) return;\n",
              "\n",
              "          const docLinkHtml = 'Like what you see? Visit the ' +\n",
              "            '<a target=\"_blank\" href=https://colab.research.google.com/notebooks/data_table.ipynb>data table notebook</a>'\n",
              "            + ' to learn more about interactive tables.';\n",
              "          element.innerHTML = '';\n",
              "          dataTable['output_type'] = 'display_data';\n",
              "          await google.colab.output.renderOutput(dataTable, element);\n",
              "          const docLink = document.createElement('div');\n",
              "          docLink.innerHTML = docLinkHtml;\n",
              "          element.appendChild(docLink);\n",
              "        }\n",
              "      </script>\n",
              "    </div>\n",
              "  </div>\n",
              "  "
            ]
          },
          "metadata": {},
          "execution_count": 204
        }
      ]
    },
    {
      "cell_type": "markdown",
      "source": [
        "#### 분석할 타겟 선정"
      ],
      "metadata": {
        "id": "Pcc-SY1NlCyM"
      }
    },
    {
      "cell_type": "code",
      "source": [
        "sales_country = sales_df.groupby('Country').sum().sort_values('Quantity', ascending = False)\n",
        "# 주문량이 많은 나라의 순서대로 sorting"
      ],
      "metadata": {
        "id": "b0N7Z0VSlCIS"
      },
      "execution_count": 205,
      "outputs": []
    },
    {
      "cell_type": "code",
      "source": [
        "sales_country"
      ],
      "metadata": {
        "colab": {
          "base_uri": "https://localhost:8080/",
          "height": 1000
        },
        "id": "0yCueeWT580I",
        "outputId": "e61e4639-6f34-4408-b23e-9cc57cfc32ef"
      },
      "execution_count": 206,
      "outputs": [
        {
          "output_type": "execute_result",
          "data": {
            "text/plain": [
              "                      Quantity    UnitPrice  CustomerID\n",
              "Country                                                \n",
              "United Kingdom         4256740  1050205.164  5510572531\n",
              "Netherlands             200361     6247.730    34020369\n",
              "EIRE                    140275    32179.280   106694901\n",
              "Germany                 119261    33532.140   114347054\n",
              "France                  111471    36832.040   105750585\n",
              "Australia                83901     3612.500    14721267\n",
              "Sweden                   36083     1695.790     6637579\n",
              "Switzerland              30082     6389.270    23312286\n",
              "Spain                    27940     9504.340    32067768\n",
              "Japan                    26016      657.210     4095425\n",
              "Belgium                  23237     7372.850    25246701\n",
              "Norway                   19336     5662.470    13322163\n",
              "Portugal                 16122     8663.040    18634782\n",
              "Finland                  10704     3628.440     8574309\n",
              "Channel Islands           9491     3389.650    11138335\n",
              "Denmark                   8235     1195.550     4757518\n",
              "Italy                     8112     3576.210     9588028\n",
              "Cyprus                    6361     3506.180     7616904\n",
              "Singapore                 5241    12949.990     2829168\n",
              "Austria                   4881     1693.900     4982601\n",
              "Israel                    4046      904.440     3139135\n",
              "Poland                    3684     1377.210     4201606\n",
              "Canada                    2763      910.580     2615483\n",
              "Iceland                   2458      481.210     2247154\n",
              "USA                       2458      413.300     2260641\n",
              "Unspecified               1789      781.000     3348046\n",
              "Greece                    1557      663.290     1995867\n",
              "United Arab Emirates       982      229.890     1018952\n",
              "Malta                      970      545.190     1891076\n",
              "Czech Republic             671       78.270      319525\n",
              "Lithuania                  652       99.440      536620\n",
              "European Community         499      289.800      906480\n",
              "Lebanon                    386      242.440      574380\n",
              "Brazil                     356      142.600      408608\n",
              "RSA                        351      248.100      709422\n",
              "Bahrain                    260       78.950      210027\n",
              "Saudi Arabia                80       21.160      113085"
            ],
            "text/html": [
              "\n",
              "  <div id=\"df-d0a62983-2006-4a5d-b205-053c7cad4ae0\">\n",
              "    <div class=\"colab-df-container\">\n",
              "      <div>\n",
              "<style scoped>\n",
              "    .dataframe tbody tr th:only-of-type {\n",
              "        vertical-align: middle;\n",
              "    }\n",
              "\n",
              "    .dataframe tbody tr th {\n",
              "        vertical-align: top;\n",
              "    }\n",
              "\n",
              "    .dataframe thead th {\n",
              "        text-align: right;\n",
              "    }\n",
              "</style>\n",
              "<table border=\"1\" class=\"dataframe\">\n",
              "  <thead>\n",
              "    <tr style=\"text-align: right;\">\n",
              "      <th></th>\n",
              "      <th>Quantity</th>\n",
              "      <th>UnitPrice</th>\n",
              "      <th>CustomerID</th>\n",
              "    </tr>\n",
              "    <tr>\n",
              "      <th>Country</th>\n",
              "      <th></th>\n",
              "      <th></th>\n",
              "      <th></th>\n",
              "    </tr>\n",
              "  </thead>\n",
              "  <tbody>\n",
              "    <tr>\n",
              "      <th>United Kingdom</th>\n",
              "      <td>4256740</td>\n",
              "      <td>1050205.164</td>\n",
              "      <td>5510572531</td>\n",
              "    </tr>\n",
              "    <tr>\n",
              "      <th>Netherlands</th>\n",
              "      <td>200361</td>\n",
              "      <td>6247.730</td>\n",
              "      <td>34020369</td>\n",
              "    </tr>\n",
              "    <tr>\n",
              "      <th>EIRE</th>\n",
              "      <td>140275</td>\n",
              "      <td>32179.280</td>\n",
              "      <td>106694901</td>\n",
              "    </tr>\n",
              "    <tr>\n",
              "      <th>Germany</th>\n",
              "      <td>119261</td>\n",
              "      <td>33532.140</td>\n",
              "      <td>114347054</td>\n",
              "    </tr>\n",
              "    <tr>\n",
              "      <th>France</th>\n",
              "      <td>111471</td>\n",
              "      <td>36832.040</td>\n",
              "      <td>105750585</td>\n",
              "    </tr>\n",
              "    <tr>\n",
              "      <th>Australia</th>\n",
              "      <td>83901</td>\n",
              "      <td>3612.500</td>\n",
              "      <td>14721267</td>\n",
              "    </tr>\n",
              "    <tr>\n",
              "      <th>Sweden</th>\n",
              "      <td>36083</td>\n",
              "      <td>1695.790</td>\n",
              "      <td>6637579</td>\n",
              "    </tr>\n",
              "    <tr>\n",
              "      <th>Switzerland</th>\n",
              "      <td>30082</td>\n",
              "      <td>6389.270</td>\n",
              "      <td>23312286</td>\n",
              "    </tr>\n",
              "    <tr>\n",
              "      <th>Spain</th>\n",
              "      <td>27940</td>\n",
              "      <td>9504.340</td>\n",
              "      <td>32067768</td>\n",
              "    </tr>\n",
              "    <tr>\n",
              "      <th>Japan</th>\n",
              "      <td>26016</td>\n",
              "      <td>657.210</td>\n",
              "      <td>4095425</td>\n",
              "    </tr>\n",
              "    <tr>\n",
              "      <th>Belgium</th>\n",
              "      <td>23237</td>\n",
              "      <td>7372.850</td>\n",
              "      <td>25246701</td>\n",
              "    </tr>\n",
              "    <tr>\n",
              "      <th>Norway</th>\n",
              "      <td>19336</td>\n",
              "      <td>5662.470</td>\n",
              "      <td>13322163</td>\n",
              "    </tr>\n",
              "    <tr>\n",
              "      <th>Portugal</th>\n",
              "      <td>16122</td>\n",
              "      <td>8663.040</td>\n",
              "      <td>18634782</td>\n",
              "    </tr>\n",
              "    <tr>\n",
              "      <th>Finland</th>\n",
              "      <td>10704</td>\n",
              "      <td>3628.440</td>\n",
              "      <td>8574309</td>\n",
              "    </tr>\n",
              "    <tr>\n",
              "      <th>Channel Islands</th>\n",
              "      <td>9491</td>\n",
              "      <td>3389.650</td>\n",
              "      <td>11138335</td>\n",
              "    </tr>\n",
              "    <tr>\n",
              "      <th>Denmark</th>\n",
              "      <td>8235</td>\n",
              "      <td>1195.550</td>\n",
              "      <td>4757518</td>\n",
              "    </tr>\n",
              "    <tr>\n",
              "      <th>Italy</th>\n",
              "      <td>8112</td>\n",
              "      <td>3576.210</td>\n",
              "      <td>9588028</td>\n",
              "    </tr>\n",
              "    <tr>\n",
              "      <th>Cyprus</th>\n",
              "      <td>6361</td>\n",
              "      <td>3506.180</td>\n",
              "      <td>7616904</td>\n",
              "    </tr>\n",
              "    <tr>\n",
              "      <th>Singapore</th>\n",
              "      <td>5241</td>\n",
              "      <td>12949.990</td>\n",
              "      <td>2829168</td>\n",
              "    </tr>\n",
              "    <tr>\n",
              "      <th>Austria</th>\n",
              "      <td>4881</td>\n",
              "      <td>1693.900</td>\n",
              "      <td>4982601</td>\n",
              "    </tr>\n",
              "    <tr>\n",
              "      <th>Israel</th>\n",
              "      <td>4046</td>\n",
              "      <td>904.440</td>\n",
              "      <td>3139135</td>\n",
              "    </tr>\n",
              "    <tr>\n",
              "      <th>Poland</th>\n",
              "      <td>3684</td>\n",
              "      <td>1377.210</td>\n",
              "      <td>4201606</td>\n",
              "    </tr>\n",
              "    <tr>\n",
              "      <th>Canada</th>\n",
              "      <td>2763</td>\n",
              "      <td>910.580</td>\n",
              "      <td>2615483</td>\n",
              "    </tr>\n",
              "    <tr>\n",
              "      <th>Iceland</th>\n",
              "      <td>2458</td>\n",
              "      <td>481.210</td>\n",
              "      <td>2247154</td>\n",
              "    </tr>\n",
              "    <tr>\n",
              "      <th>USA</th>\n",
              "      <td>2458</td>\n",
              "      <td>413.300</td>\n",
              "      <td>2260641</td>\n",
              "    </tr>\n",
              "    <tr>\n",
              "      <th>Unspecified</th>\n",
              "      <td>1789</td>\n",
              "      <td>781.000</td>\n",
              "      <td>3348046</td>\n",
              "    </tr>\n",
              "    <tr>\n",
              "      <th>Greece</th>\n",
              "      <td>1557</td>\n",
              "      <td>663.290</td>\n",
              "      <td>1995867</td>\n",
              "    </tr>\n",
              "    <tr>\n",
              "      <th>United Arab Emirates</th>\n",
              "      <td>982</td>\n",
              "      <td>229.890</td>\n",
              "      <td>1018952</td>\n",
              "    </tr>\n",
              "    <tr>\n",
              "      <th>Malta</th>\n",
              "      <td>970</td>\n",
              "      <td>545.190</td>\n",
              "      <td>1891076</td>\n",
              "    </tr>\n",
              "    <tr>\n",
              "      <th>Czech Republic</th>\n",
              "      <td>671</td>\n",
              "      <td>78.270</td>\n",
              "      <td>319525</td>\n",
              "    </tr>\n",
              "    <tr>\n",
              "      <th>Lithuania</th>\n",
              "      <td>652</td>\n",
              "      <td>99.440</td>\n",
              "      <td>536620</td>\n",
              "    </tr>\n",
              "    <tr>\n",
              "      <th>European Community</th>\n",
              "      <td>499</td>\n",
              "      <td>289.800</td>\n",
              "      <td>906480</td>\n",
              "    </tr>\n",
              "    <tr>\n",
              "      <th>Lebanon</th>\n",
              "      <td>386</td>\n",
              "      <td>242.440</td>\n",
              "      <td>574380</td>\n",
              "    </tr>\n",
              "    <tr>\n",
              "      <th>Brazil</th>\n",
              "      <td>356</td>\n",
              "      <td>142.600</td>\n",
              "      <td>408608</td>\n",
              "    </tr>\n",
              "    <tr>\n",
              "      <th>RSA</th>\n",
              "      <td>351</td>\n",
              "      <td>248.100</td>\n",
              "      <td>709422</td>\n",
              "    </tr>\n",
              "    <tr>\n",
              "      <th>Bahrain</th>\n",
              "      <td>260</td>\n",
              "      <td>78.950</td>\n",
              "      <td>210027</td>\n",
              "    </tr>\n",
              "    <tr>\n",
              "      <th>Saudi Arabia</th>\n",
              "      <td>80</td>\n",
              "      <td>21.160</td>\n",
              "      <td>113085</td>\n",
              "    </tr>\n",
              "  </tbody>\n",
              "</table>\n",
              "</div>\n",
              "      <button class=\"colab-df-convert\" onclick=\"convertToInteractive('df-d0a62983-2006-4a5d-b205-053c7cad4ae0')\"\n",
              "              title=\"Convert this dataframe to an interactive table.\"\n",
              "              style=\"display:none;\">\n",
              "        \n",
              "  <svg xmlns=\"http://www.w3.org/2000/svg\" height=\"24px\"viewBox=\"0 0 24 24\"\n",
              "       width=\"24px\">\n",
              "    <path d=\"M0 0h24v24H0V0z\" fill=\"none\"/>\n",
              "    <path d=\"M18.56 5.44l.94 2.06.94-2.06 2.06-.94-2.06-.94-.94-2.06-.94 2.06-2.06.94zm-11 1L8.5 8.5l.94-2.06 2.06-.94-2.06-.94L8.5 2.5l-.94 2.06-2.06.94zm10 10l.94 2.06.94-2.06 2.06-.94-2.06-.94-.94-2.06-.94 2.06-2.06.94z\"/><path d=\"M17.41 7.96l-1.37-1.37c-.4-.4-.92-.59-1.43-.59-.52 0-1.04.2-1.43.59L10.3 9.45l-7.72 7.72c-.78.78-.78 2.05 0 2.83L4 21.41c.39.39.9.59 1.41.59.51 0 1.02-.2 1.41-.59l7.78-7.78 2.81-2.81c.8-.78.8-2.07 0-2.86zM5.41 20L4 18.59l7.72-7.72 1.47 1.35L5.41 20z\"/>\n",
              "  </svg>\n",
              "      </button>\n",
              "      \n",
              "  <style>\n",
              "    .colab-df-container {\n",
              "      display:flex;\n",
              "      flex-wrap:wrap;\n",
              "      gap: 12px;\n",
              "    }\n",
              "\n",
              "    .colab-df-convert {\n",
              "      background-color: #E8F0FE;\n",
              "      border: none;\n",
              "      border-radius: 50%;\n",
              "      cursor: pointer;\n",
              "      display: none;\n",
              "      fill: #1967D2;\n",
              "      height: 32px;\n",
              "      padding: 0 0 0 0;\n",
              "      width: 32px;\n",
              "    }\n",
              "\n",
              "    .colab-df-convert:hover {\n",
              "      background-color: #E2EBFA;\n",
              "      box-shadow: 0px 1px 2px rgba(60, 64, 67, 0.3), 0px 1px 3px 1px rgba(60, 64, 67, 0.15);\n",
              "      fill: #174EA6;\n",
              "    }\n",
              "\n",
              "    [theme=dark] .colab-df-convert {\n",
              "      background-color: #3B4455;\n",
              "      fill: #D2E3FC;\n",
              "    }\n",
              "\n",
              "    [theme=dark] .colab-df-convert:hover {\n",
              "      background-color: #434B5C;\n",
              "      box-shadow: 0px 1px 3px 1px rgba(0, 0, 0, 0.15);\n",
              "      filter: drop-shadow(0px 1px 2px rgba(0, 0, 0, 0.3));\n",
              "      fill: #FFFFFF;\n",
              "    }\n",
              "  </style>\n",
              "\n",
              "      <script>\n",
              "        const buttonEl =\n",
              "          document.querySelector('#df-d0a62983-2006-4a5d-b205-053c7cad4ae0 button.colab-df-convert');\n",
              "        buttonEl.style.display =\n",
              "          google.colab.kernel.accessAllowed ? 'block' : 'none';\n",
              "\n",
              "        async function convertToInteractive(key) {\n",
              "          const element = document.querySelector('#df-d0a62983-2006-4a5d-b205-053c7cad4ae0');\n",
              "          const dataTable =\n",
              "            await google.colab.kernel.invokeFunction('convertToInteractive',\n",
              "                                                     [key], {});\n",
              "          if (!dataTable) return;\n",
              "\n",
              "          const docLinkHtml = 'Like what you see? Visit the ' +\n",
              "            '<a target=\"_blank\" href=https://colab.research.google.com/notebooks/data_table.ipynb>data table notebook</a>'\n",
              "            + ' to learn more about interactive tables.';\n",
              "          element.innerHTML = '';\n",
              "          dataTable['output_type'] = 'display_data';\n",
              "          await google.colab.output.renderOutput(dataTable, element);\n",
              "          const docLink = document.createElement('div');\n",
              "          docLink.innerHTML = docLinkHtml;\n",
              "          element.appendChild(docLink);\n",
              "        }\n",
              "      </script>\n",
              "    </div>\n",
              "  </div>\n",
              "  "
            ]
          },
          "metadata": {},
          "execution_count": 206
        }
      ]
    },
    {
      "cell_type": "code",
      "source": [
        "import matplotlib.pyplot as plt"
      ],
      "metadata": {
        "id": "KyZjN_BPmg-f"
      },
      "execution_count": 207,
      "outputs": []
    },
    {
      "cell_type": "code",
      "source": [
        "plt.pie(sales_country['Quantity'], labels = sales_country.index,  autopct='%.1f%%') # 주문 국적의 비율을 명확히 보이기 위한 파이플롯 시각화"
      ],
      "metadata": {
        "colab": {
          "base_uri": "https://localhost:8080/",
          "height": 1000
        },
        "id": "8vtdEvBtmjmM",
        "outputId": "ef448fee-0777-44c3-eec5-8239236467f8"
      },
      "execution_count": 208,
      "outputs": [
        {
          "output_type": "execute_result",
          "data": {
            "text/plain": [
              "([<matplotlib.patches.Wedge at 0x7fb6d7fc45e0>,\n",
              "  <matplotlib.patches.Wedge at 0x7fb6d0206940>,\n",
              "  <matplotlib.patches.Wedge at 0x7fb6ca59b160>,\n",
              "  <matplotlib.patches.Wedge at 0x7fb6d05d39d0>,\n",
              "  <matplotlib.patches.Wedge at 0x7fb6ca584580>,\n",
              "  <matplotlib.patches.Wedge at 0x7fb6d77a1670>,\n",
              "  <matplotlib.patches.Wedge at 0x7fb6d04c7f70>,\n",
              "  <matplotlib.patches.Wedge at 0x7fb6d0144070>,\n",
              "  <matplotlib.patches.Wedge at 0x7fb6d7ae7700>,\n",
              "  <matplotlib.patches.Wedge at 0x7fb6d7671430>,\n",
              "  <matplotlib.patches.Wedge at 0x7fb6d7fc41c0>,\n",
              "  <matplotlib.patches.Wedge at 0x7fb6d71263d0>,\n",
              "  <matplotlib.patches.Wedge at 0x7fb6d7806ca0>,\n",
              "  <matplotlib.patches.Wedge at 0x7fb6d7b201c0>,\n",
              "  <matplotlib.patches.Wedge at 0x7fb6d70b41f0>,\n",
              "  <matplotlib.patches.Wedge at 0x7fb6d64f5e80>,\n",
              "  <matplotlib.patches.Wedge at 0x7fb6d76735b0>,\n",
              "  <matplotlib.patches.Wedge at 0x7fb6d717c8e0>,\n",
              "  <matplotlib.patches.Wedge at 0x7fb6d65aed30>,\n",
              "  <matplotlib.patches.Wedge at 0x7fb6d6dcce50>,\n",
              "  <matplotlib.patches.Wedge at 0x7fb6d80dcfa0>,\n",
              "  <matplotlib.patches.Wedge at 0x7fb6d6a78940>,\n",
              "  <matplotlib.patches.Wedge at 0x7fb6ca5efb80>,\n",
              "  <matplotlib.patches.Wedge at 0x7fb6d6ba1160>,\n",
              "  <matplotlib.patches.Wedge at 0x7fb6d610dd90>,\n",
              "  <matplotlib.patches.Wedge at 0x7fb6d6dbe880>,\n",
              "  <matplotlib.patches.Wedge at 0x7fb6d7d632e0>,\n",
              "  <matplotlib.patches.Wedge at 0x7fb6d79b5100>,\n",
              "  <matplotlib.patches.Wedge at 0x7fb6d6b80cd0>,\n",
              "  <matplotlib.patches.Wedge at 0x7fb6d7e9cdf0>,\n",
              "  <matplotlib.patches.Wedge at 0x7fb6d7938e80>,\n",
              "  <matplotlib.patches.Wedge at 0x7fb6d7939640>,\n",
              "  <matplotlib.patches.Wedge at 0x7fb6d7adcbe0>,\n",
              "  <matplotlib.patches.Wedge at 0x7fb6d80b7b50>,\n",
              "  <matplotlib.patches.Wedge at 0x7fb6d80b75e0>,\n",
              "  <matplotlib.patches.Wedge at 0x7fb6d7d60fa0>,\n",
              "  <matplotlib.patches.Wedge at 0x7fb6d7d3d3a0>],\n",
              " [Text(-0.9355537305133629, 0.5785665193584315, 'United Kingdom'),\n",
              "  Text(0.6073179573491538, -0.9171504231483796, 'Netherlands'),\n",
              "  Text(0.7829102768105011, -0.7726910756987587, 'EIRE'),\n",
              "  Text(0.8945927791279786, -0.6400810570014394, 'Germany'),\n",
              "  Text(0.975294108202641, -0.5087252721314477, 'France'),\n",
              "  Text(1.0287025015254059, -0.3895781864470501, 'Australia'),\n",
              "  Text(1.0543579234994949, -0.31357514116050994, 'Sweden'),\n",
              "  Text(1.0661145782422399, -0.27092380120500914, 'Switzerland'),\n",
              "  Text(1.0750056152976812, -0.233158587829087, 'Spain'),\n",
              "  Text(1.082073766293971, -0.19777857391128348, 'Japan'),\n",
              "  Text(1.0875096953557453, -0.16529568205871137, 'Belgium'),\n",
              "  Text(1.0914230048765095, -0.1370978644120005, 'Norway'),\n",
              "  Text(1.094124435748041, -0.113541706429977, 'Portugal'),\n",
              "  Text(1.0958304975673185, -0.09568448464282772, 'Finland'),\n",
              "  Text(1.0969225909999778, -0.0822242625621858, 'Channel Islands'),\n",
              "  Text(1.0977449282006257, -0.07039937932825314, 'Denmark'),\n",
              "  Text(1.0983903132186272, -0.05948714001770629, 'Italy'),\n",
              "  Text(1.0988711821816926, -0.0498209290420159, 'Cyprus'),\n",
              "  Text(1.099195236294242, -0.04206937731944007, 'Singapore'),\n",
              "  Text(1.0994332914679428, -0.0353049233389048, 'Austria'),\n",
              "  Text(1.0996086958733031, -0.029337961071177834, 'Israel'),\n",
              "  Text(1.0997344189571447, -0.02417039017043999, 'Poland'),\n",
              "  Text(1.0998207019004775, -0.01986010249573153, 'Canada'),\n",
              "  Text(1.0998781966141953, -0.016369258159908865, 'Iceland'),\n",
              "  Text(1.0999222046554464, -0.013082190409198188, 'USA'),\n",
              "  Text(1.099952314521266, -0.010242352235205282, 'Unspecified'),\n",
              "  Text(1.0999708727961455, -0.008004935982653874, 'Greece'),\n",
              "  Text(1.099981918112109, -0.00630712505070674, 'United Arab Emirates'),\n",
              "  Text(1.0999886280015532, -0.005001826392484582, 'Malta'),\n",
              "  Text(1.0999930704231444, -0.003904487298395383, 'Czech Republic'),\n",
              "  Text(1.099995854925869, -0.003019792361515175, 'Lithuania'),\n",
              "  Text(1.099997698630413, -0.0022501128405302364, 'European Community'),\n",
              "  Text(1.0999987500057449, -0.0016583081133572269, 'Lebanon'),\n",
              "  Text(1.099999386117369, -0.0011621279671192653, 'Brazil'),\n",
              "  Text(1.0999997839969624, -0.0006893523308865222, 'RSA'),\n",
              "  Text(1.0999999641667477, -0.0002807724236785676, 'Bahrain'),\n",
              "  Text(1.0999999987032512, -5.341205223412297e-05, 'Saudi Arabia')],\n",
              " [Text(-0.5103020348254705, 0.31558173783187166, '82.4%'),\n",
              "  Text(0.33126434037226565, -0.5002638671718433, '3.9%'),\n",
              "  Text(0.42704196916936416, -0.4214678594720502, '2.7%'),\n",
              "  Text(0.4879596977061701, -0.34913512200078506, '2.3%'),\n",
              "  Text(0.5319786044741677, -0.2774865120716987, '2.2%'),\n",
              "  Text(0.561110455377494, -0.21249719260748184, '1.6%'),\n",
              "  Text(0.5751043219088153, -0.17104098608755086, '0.7%'),\n",
              "  Text(0.5815170426775853, -0.14777661883909587, '0.6%'),\n",
              "  Text(0.5863666992532806, -0.12717741154313833, '0.5%'),\n",
              "  Text(0.5902220543421659, -0.10787922213342734, '0.5%'),\n",
              "  Text(0.5931871065576791, -0.09016128112293346, '0.4%'),\n",
              "  Text(0.5953216390235505, -0.07478065331563663, '0.4%'),\n",
              "  Text(0.5967951467716587, -0.06193183987089654, '0.3%'),\n",
              "  Text(0.59772572594581, -0.052191537077906025, '0.2%'),\n",
              "  Text(0.5983214132727152, -0.04484959776119225, '0.2%'),\n",
              "  Text(0.5987699608367049, -0.03839966145177444, '0.2%'),\n",
              "  Text(0.599121989028342, -0.03244753091874888, '0.2%'),\n",
              "  Text(0.5993842811900141, -0.02717505220473594, '0.1%'),\n",
              "  Text(0.5995610379786774, -0.022946933083330946, '0.1%'),\n",
              "  Text(0.5996908862552414, -0.01925723091212989, '0.1%'),\n",
              "  Text(0.599786561385438, -0.016002524220642453, '0.1%'),\n",
              "  Text(0.599855137612988, -0.013183849183876356, '0.1%'),\n",
              "  Text(0.5999022010366241, -0.010832783179489923, '0.1%'),\n",
              "  Text(0.599933561789561, -0.008928686269041199, '0.0%'),\n",
              "  Text(0.599957566175698, -0.007135740223199011, '0.0%'),\n",
              "  Text(0.5999739897388723, -0.005586737582839244, '0.0%'),\n",
              "  Text(0.5999841124342611, -0.004366328717811204, '0.0%'),\n",
              "  Text(0.5999901371520595, -0.0034402500276582214, '0.0%'),\n",
              "  Text(0.5999937970917563, -0.0027282689413552267, '0.0%'),\n",
              "  Text(0.599996220230806, -0.0021297203445792994, '0.0%'),\n",
              "  Text(0.5999977390504739, -0.0016471594699173679, '0.0%'),\n",
              "  Text(0.5999987447074979, -0.001227334276652856, '0.0%'),\n",
              "  Text(0.5999993181849517, -0.0009045316981948509, '0.0%'),\n",
              "  Text(0.5999996651549284, -0.0006338879820650538, '0.0%'),\n",
              "  Text(0.5999998821801613, -0.00037601036230173936, '0.0%'),\n",
              "  Text(0.5999999804545896, -0.00015314859473376414, '0.0%'),\n",
              "  Text(0.5999999992926824, -2.9133846673157976e-05, '0.0%')])"
            ]
          },
          "metadata": {},
          "execution_count": 208
        },
        {
          "output_type": "display_data",
          "data": {
            "text/plain": [
              "<Figure size 432x288 with 1 Axes>"
            ],
            "image/png": "[encoded data removed]"
          },
          "metadata": {}
        }
      ]
    },
    {
      "cell_type": "markdown",
      "source": [
        "- 영국의 비율이 약 82.4% 차지하므로 영국에 한해서 분석을 하고자 함."
      ],
      "metadata": {
        "id": "XA38u_uZWldQ"
      }
    },
    {
      "cell_type": "markdown",
      "source": [
        "#### RFM 기법을 이용한 고객 segmentation\n",
        "- RECENCY (R): 가장 최근 상품 구입 일에서 오늘까지의 기간\n",
        "- FREQUENCY (F): 상품 구매 횟수\n",
        "- MONETARY VALUE (M): 총 구매 금액"
      ],
      "metadata": {
        "id": "JDNe9MdM1--a"
      }
    },
    {
      "cell_type": "markdown",
      "source": [
        "##### 추가 전처리"
      ],
      "metadata": {
        "id": "N82VHoVe7P9c"
      }
    },
    {
      "cell_type": "code",
      "source": [
        "sales_uk = sales_df[sales_df['Country'] == 'United Kingdom'] # 주문 국적이 영국인 데이터만 추출"
      ],
      "metadata": {
        "id": "4BrtzVHWlye8"
      },
      "execution_count": 209,
      "outputs": []
    },
    {
      "cell_type": "code",
      "source": [
        "sales_uk['Tot_Price'] = sales_uk['Quantity'] * sales_uk['UnitPrice'] # 주문 건수와 제품 단가를 곱하여 주문 금액을 컬럼을 생성"
      ],
      "metadata": {
        "colab": {
          "base_uri": "https://localhost:8080/"
        },
        "id": "0On2LSUH7t6e",
        "outputId": "b77a1525-4644-4d9e-812d-30ff8db1cfd4"
      },
      "execution_count": 210,
      "outputs": [
        {
          "output_type": "stream",
          "name": "stderr",
          "text": [
            "<ipython-input-210-9a2518c5f2be>:1: SettingWithCopyWarning: \n",
            "A value is trying to be set on a copy of a slice from a DataFrame.\n",
            "Try using .loc[row_indexer,col_indexer] = value instead\n",
            "\n",
            "See the caveats in the documentation: https://pandas.pydata.org/pandas-docs/stable/user_guide/indexing.html#returning-a-view-versus-a-copy\n",
            "  sales_uk['Tot_Price'] = sales_uk['Quantity'] * sales_uk['UnitPrice'] # 주문 건수와 제품 단가를 곱하여 주문 금액을 컬럼을 생성\n"
          ]
        }
      ]
    },
    {
      "cell_type": "code",
      "source": [
        "sales_uk"
      ],
      "metadata": {
        "colab": {
          "base_uri": "https://localhost:8080/",
          "height": 455
        },
        "id": "UcuLyMIa8O4f",
        "outputId": "2327a866-2d8a-40fb-ebae-d522def688e1"
      },
      "execution_count": 211,
      "outputs": [
        {
          "output_type": "execute_result",
          "data": {
            "text/plain": [
              "                    InvoiceNo StockCode                          Description  \\\n",
              "InvoiceDate                                                                    \n",
              "2010-12-01 08:26:00    536365    85123A   WHITE HANGING HEART T-LIGHT HOLDER   \n",
              "2010-12-01 08:26:00    536365     71053                  WHITE METAL LANTERN   \n",
              "2010-12-01 08:26:00    536365    84406B       CREAM CUPID HEARTS COAT HANGER   \n",
              "2010-12-01 08:26:00    536365    84029G  KNITTED UNION FLAG HOT WATER BOTTLE   \n",
              "2010-12-01 08:26:00    536365    84029E       RED WOOLLY HOTTIE WHITE HEART.   \n",
              "...                       ...       ...                                  ...   \n",
              "2011-12-09 12:31:00    581585     22466       FAIRY TALE COTTAGE NIGHT LIGHT   \n",
              "2011-12-09 12:49:00    581586     22061  LARGE CAKE STAND  HANGING STRAWBERY   \n",
              "2011-12-09 12:49:00    581586     23275     SET OF 3 HANGING OWLS OLLIE BEAK   \n",
              "2011-12-09 12:49:00    581586     21217        RED RETROSPOT ROUND CAKE TINS   \n",
              "2011-12-09 12:49:00    581586     20685                DOORMAT RED RETROSPOT   \n",
              "\n",
              "                     Quantity  UnitPrice  CustomerID         Country  \\\n",
              "InvoiceDate                                                            \n",
              "2010-12-01 08:26:00         6       2.55       17850  United Kingdom   \n",
              "2010-12-01 08:26:00         6       3.39       17850  United Kingdom   \n",
              "2010-12-01 08:26:00         8       2.75       17850  United Kingdom   \n",
              "2010-12-01 08:26:00         6       3.39       17850  United Kingdom   \n",
              "2010-12-01 08:26:00         6       3.39       17850  United Kingdom   \n",
              "...                       ...        ...         ...             ...   \n",
              "2011-12-09 12:31:00        12       1.95       15804  United Kingdom   \n",
              "2011-12-09 12:49:00         8       2.95       13113  United Kingdom   \n",
              "2011-12-09 12:49:00        24       1.25       13113  United Kingdom   \n",
              "2011-12-09 12:49:00        24       8.95       13113  United Kingdom   \n",
              "2011-12-09 12:49:00        10       7.08       13113  United Kingdom   \n",
              "\n",
              "                     Tot_Price  \n",
              "InvoiceDate                     \n",
              "2010-12-01 08:26:00      15.30  \n",
              "2010-12-01 08:26:00      20.34  \n",
              "2010-12-01 08:26:00      22.00  \n",
              "2010-12-01 08:26:00      20.34  \n",
              "2010-12-01 08:26:00      20.34  \n",
              "...                        ...  \n",
              "2011-12-09 12:31:00      23.40  \n",
              "2011-12-09 12:49:00      23.60  \n",
              "2011-12-09 12:49:00      30.00  \n",
              "2011-12-09 12:49:00     214.80  \n",
              "2011-12-09 12:49:00      70.80  \n",
              "\n",
              "[354321 rows x 8 columns]"
            ],
            "text/html": [
              "\n",
              "  <div id=\"df-4bdd687c-7c82-42e7-bf06-81ae52bb7a69\">\n",
              "    <div class=\"colab-df-container\">\n",
              "      <div>\n",
              "<style scoped>\n",
              "    .dataframe tbody tr th:only-of-type {\n",
              "        vertical-align: middle;\n",
              "    }\n",
              "\n",
              "    .dataframe tbody tr th {\n",
              "        vertical-align: top;\n",
              "    }\n",
              "\n",
              "    .dataframe thead th {\n",
              "        text-align: right;\n",
              "    }\n",
              "</style>\n",
              "<table border=\"1\" class=\"dataframe\">\n",
              "  <thead>\n",
              "    <tr style=\"text-align: right;\">\n",
              "      <th></th>\n",
              "      <th>InvoiceNo</th>\n",
              "      <th>StockCode</th>\n",
              "      <th>Description</th>\n",
              "      <th>Quantity</th>\n",
              "      <th>UnitPrice</th>\n",
              "      <th>CustomerID</th>\n",
              "      <th>Country</th>\n",
              "      <th>Tot_Price</th>\n",
              "    </tr>\n",
              "    <tr>\n",
              "      <th>InvoiceDate</th>\n",
              "      <th></th>\n",
              "      <th></th>\n",
              "      <th></th>\n",
              "      <th></th>\n",
              "      <th></th>\n",
              "      <th></th>\n",
              "      <th></th>\n",
              "      <th></th>\n",
              "    </tr>\n",
              "  </thead>\n",
              "  <tbody>\n",
              "    <tr>\n",
              "      <th>2010-12-01 08:26:00</th>\n",
              "      <td>536365</td>\n",
              "      <td>85123A</td>\n",
              "      <td>WHITE HANGING HEART T-LIGHT HOLDER</td>\n",
              "      <td>6</td>\n",
              "      <td>2.55</td>\n",
              "      <td>17850</td>\n",
              "      <td>United Kingdom</td>\n",
              "      <td>15.30</td>\n",
              "    </tr>\n",
              "    <tr>\n",
              "      <th>2010-12-01 08:26:00</th>\n",
              "      <td>536365</td>\n",
              "      <td>71053</td>\n",
              "      <td>WHITE METAL LANTERN</td>\n",
              "      <td>6</td>\n",
              "      <td>3.39</td>\n",
              "      <td>17850</td>\n",
              "      <td>United Kingdom</td>\n",
              "      <td>20.34</td>\n",
              "    </tr>\n",
              "    <tr>\n",
              "      <th>2010-12-01 08:26:00</th>\n",
              "      <td>536365</td>\n",
              "      <td>84406B</td>\n",
              "      <td>CREAM CUPID HEARTS COAT HANGER</td>\n",
              "      <td>8</td>\n",
              "      <td>2.75</td>\n",
              "      <td>17850</td>\n",
              "      <td>United Kingdom</td>\n",
              "      <td>22.00</td>\n",
              "    </tr>\n",
              "    <tr>\n",
              "      <th>2010-12-01 08:26:00</th>\n",
              "      <td>536365</td>\n",
              "      <td>84029G</td>\n",
              "      <td>KNITTED UNION FLAG HOT WATER BOTTLE</td>\n",
              "      <td>6</td>\n",
              "      <td>3.39</td>\n",
              "      <td>17850</td>\n",
              "      <td>United Kingdom</td>\n",
              "      <td>20.34</td>\n",
              "    </tr>\n",
              "    <tr>\n",
              "      <th>2010-12-01 08:26:00</th>\n",
              "      <td>536365</td>\n",
              "      <td>84029E</td>\n",
              "      <td>RED WOOLLY HOTTIE WHITE HEART.</td>\n",
              "      <td>6</td>\n",
              "      <td>3.39</td>\n",
              "      <td>17850</td>\n",
              "      <td>United Kingdom</td>\n",
              "      <td>20.34</td>\n",
              "    </tr>\n",
              "    <tr>\n",
              "      <th>...</th>\n",
              "      <td>...</td>\n",
              "      <td>...</td>\n",
              "      <td>...</td>\n",
              "      <td>...</td>\n",
              "      <td>...</td>\n",
              "      <td>...</td>\n",
              "      <td>...</td>\n",
              "      <td>...</td>\n",
              "    </tr>\n",
              "    <tr>\n",
              "      <th>2011-12-09 12:31:00</th>\n",
              "      <td>581585</td>\n",
              "      <td>22466</td>\n",
              "      <td>FAIRY TALE COTTAGE NIGHT LIGHT</td>\n",
              "      <td>12</td>\n",
              "      <td>1.95</td>\n",
              "      <td>15804</td>\n",
              "      <td>United Kingdom</td>\n",
              "      <td>23.40</td>\n",
              "    </tr>\n",
              "    <tr>\n",
              "      <th>2011-12-09 12:49:00</th>\n",
              "      <td>581586</td>\n",
              "      <td>22061</td>\n",
              "      <td>LARGE CAKE STAND  HANGING STRAWBERY</td>\n",
              "      <td>8</td>\n",
              "      <td>2.95</td>\n",
              "      <td>13113</td>\n",
              "      <td>United Kingdom</td>\n",
              "      <td>23.60</td>\n",
              "    </tr>\n",
              "    <tr>\n",
              "      <th>2011-12-09 12:49:00</th>\n",
              "      <td>581586</td>\n",
              "      <td>23275</td>\n",
              "      <td>SET OF 3 HANGING OWLS OLLIE BEAK</td>\n",
              "      <td>24</td>\n",
              "      <td>1.25</td>\n",
              "      <td>13113</td>\n",
              "      <td>United Kingdom</td>\n",
              "      <td>30.00</td>\n",
              "    </tr>\n",
              "    <tr>\n",
              "      <th>2011-12-09 12:49:00</th>\n",
              "      <td>581586</td>\n",
              "      <td>21217</td>\n",
              "      <td>RED RETROSPOT ROUND CAKE TINS</td>\n",
              "      <td>24</td>\n",
              "      <td>8.95</td>\n",
              "      <td>13113</td>\n",
              "      <td>United Kingdom</td>\n",
              "      <td>214.80</td>\n",
              "    </tr>\n",
              "    <tr>\n",
              "      <th>2011-12-09 12:49:00</th>\n",
              "      <td>581586</td>\n",
              "      <td>20685</td>\n",
              "      <td>DOORMAT RED RETROSPOT</td>\n",
              "      <td>10</td>\n",
              "      <td>7.08</td>\n",
              "      <td>13113</td>\n",
              "      <td>United Kingdom</td>\n",
              "      <td>70.80</td>\n",
              "    </tr>\n",
              "  </tbody>\n",
              "</table>\n",
              "<p>354321 rows × 8 columns</p>\n",
              "</div>\n",
              "      <button class=\"colab-df-convert\" onclick=\"convertToInteractive('df-4bdd687c-7c82-42e7-bf06-81ae52bb7a69')\"\n",
              "              title=\"Convert this dataframe to an interactive table.\"\n",
              "              style=\"display:none;\">\n",
              "        \n",
              "  <svg xmlns=\"http://www.w3.org/2000/svg\" height=\"24px\"viewBox=\"0 0 24 24\"\n",
              "       width=\"24px\">\n",
              "    <path d=\"M0 0h24v24H0V0z\" fill=\"none\"/>\n",
              "    <path d=\"M18.56 5.44l.94 2.06.94-2.06 2.06-.94-2.06-.94-.94-2.06-.94 2.06-2.06.94zm-11 1L8.5 8.5l.94-2.06 2.06-.94-2.06-.94L8.5 2.5l-.94 2.06-2.06.94zm10 10l.94 2.06.94-2.06 2.06-.94-2.06-.94-.94-2.06-.94 2.06-2.06.94z\"/><path d=\"M17.41 7.96l-1.37-1.37c-.4-.4-.92-.59-1.43-.59-.52 0-1.04.2-1.43.59L10.3 9.45l-7.72 7.72c-.78.78-.78 2.05 0 2.83L4 21.41c.39.39.9.59 1.41.59.51 0 1.02-.2 1.41-.59l7.78-7.78 2.81-2.81c.8-.78.8-2.07 0-2.86zM5.41 20L4 18.59l7.72-7.72 1.47 1.35L5.41 20z\"/>\n",
              "  </svg>\n",
              "      </button>\n",
              "      \n",
              "  <style>\n",
              "    .colab-df-container {\n",
              "      display:flex;\n",
              "      flex-wrap:wrap;\n",
              "      gap: 12px;\n",
              "    }\n",
              "\n",
              "    .colab-df-convert {\n",
              "      background-color: #E8F0FE;\n",
              "      border: none;\n",
              "      border-radius: 50%;\n",
              "      cursor: pointer;\n",
              "      display: none;\n",
              "      fill: #1967D2;\n",
              "      height: 32px;\n",
              "      padding: 0 0 0 0;\n",
              "      width: 32px;\n",
              "    }\n",
              "\n",
              "    .colab-df-convert:hover {\n",
              "      background-color: #E2EBFA;\n",
              "      box-shadow: 0px 1px 2px rgba(60, 64, 67, 0.3), 0px 1px 3px 1px rgba(60, 64, 67, 0.15);\n",
              "      fill: #174EA6;\n",
              "    }\n",
              "\n",
              "    [theme=dark] .colab-df-convert {\n",
              "      background-color: #3B4455;\n",
              "      fill: #D2E3FC;\n",
              "    }\n",
              "\n",
              "    [theme=dark] .colab-df-convert:hover {\n",
              "      background-color: #434B5C;\n",
              "      box-shadow: 0px 1px 3px 1px rgba(0, 0, 0, 0.15);\n",
              "      filter: drop-shadow(0px 1px 2px rgba(0, 0, 0, 0.3));\n",
              "      fill: #FFFFFF;\n",
              "    }\n",
              "  </style>\n",
              "\n",
              "      <script>\n",
              "        const buttonEl =\n",
              "          document.querySelector('#df-4bdd687c-7c82-42e7-bf06-81ae52bb7a69 button.colab-df-convert');\n",
              "        buttonEl.style.display =\n",
              "          google.colab.kernel.accessAllowed ? 'block' : 'none';\n",
              "\n",
              "        async function convertToInteractive(key) {\n",
              "          const element = document.querySelector('#df-4bdd687c-7c82-42e7-bf06-81ae52bb7a69');\n",
              "          const dataTable =\n",
              "            await google.colab.kernel.invokeFunction('convertToInteractive',\n",
              "                                                     [key], {});\n",
              "          if (!dataTable) return;\n",
              "\n",
              "          const docLinkHtml = 'Like what you see? Visit the ' +\n",
              "            '<a target=\"_blank\" href=https://colab.research.google.com/notebooks/data_table.ipynb>data table notebook</a>'\n",
              "            + ' to learn more about interactive tables.';\n",
              "          element.innerHTML = '';\n",
              "          dataTable['output_type'] = 'display_data';\n",
              "          await google.colab.output.renderOutput(dataTable, element);\n",
              "          const docLink = document.createElement('div');\n",
              "          docLink.innerHTML = docLinkHtml;\n",
              "          element.appendChild(docLink);\n",
              "        }\n",
              "      </script>\n",
              "    </div>\n",
              "  </div>\n",
              "  "
            ]
          },
          "metadata": {},
          "execution_count": 211
        }
      ]
    },
    {
      "cell_type": "markdown",
      "source": [
        "##### 고객 기준의 RFM 데이터로 변경"
      ],
      "metadata": {
        "id": "MZpbpVpQ9GBK"
      }
    },
    {
      "cell_type": "code",
      "source": [
        "sales_uk = sales_uk.reset_index(drop = False) # 시계열이 index에 있으면 agg 메서드가 적용되지 않으므로 다시 컬럼으로 가져옴"
      ],
      "metadata": {
        "id": "fir8-Dpf-GCF"
      },
      "execution_count": 212,
      "outputs": []
    },
    {
      "cell_type": "code",
      "source": [
        "uk_rfm = sales_uk.groupby('CustomerID').agg({\"InvoiceDate\" : \"max\",\n",
        "                                             \"InvoiceNo\" : \"count\",\n",
        "                                             \"Tot_Price\" : \"sum\"})\n",
        "# 순서대로 최근 구입 일자, 상품 구매 횟수, 총 구매 금액을 구하기 위한 데이터프레임 생성"
      ],
      "metadata": {
        "id": "WHcZV1Cu9KgZ"
      },
      "execution_count": 213,
      "outputs": []
    },
    {
      "cell_type": "code",
      "source": [
        "uk_rfm.rename(columns = {\"InvoiceDate\" : \"Recency\",\n",
        "                         \"InvoiceNo\" : \"Frequency\",\n",
        "                         \"Tot_Price\" : \"Monetary\"}, inplace = True) # 컬럼이름을 RFM 데이터에 맞게 변경"
      ],
      "metadata": {
        "id": "TEfLU81u9_xM"
      },
      "execution_count": 214,
      "outputs": []
    },
    {
      "cell_type": "code",
      "source": [
        "uk_rfm.reset_index(drop = False, inplace = True) # 인덱스를 재정렬"
      ],
      "metadata": {
        "id": "UCeRawBW_D6l"
      },
      "execution_count": 215,
      "outputs": []
    },
    {
      "cell_type": "code",
      "source": [
        "uk_rfm"
      ],
      "metadata": {
        "colab": {
          "base_uri": "https://localhost:8080/",
          "height": 423
        },
        "id": "9Ewg3n9u-yoF",
        "outputId": "cd78e79c-5dda-4c5d-9778-371ba6acf4dd"
      },
      "execution_count": 216,
      "outputs": [
        {
          "output_type": "execute_result",
          "data": {
            "text/plain": [
              "      CustomerID             Recency  Frequency  Monetary\n",
              "0          12346 2011-01-18 10:01:00          1  77183.60\n",
              "1          12747 2011-12-07 14:34:00        103   4196.01\n",
              "2          12748 2011-12-09 12:20:00       4595  33719.73\n",
              "3          12749 2011-12-06 09:56:00        199   4090.88\n",
              "4          12820 2011-12-06 15:12:00         59    942.34\n",
              "...          ...                 ...        ...       ...\n",
              "3915       18280 2011-03-07 09:52:00         10    180.60\n",
              "3916       18281 2011-06-12 10:53:00          7     80.82\n",
              "3917       18282 2011-12-02 11:43:00         12    178.05\n",
              "3918       18283 2011-12-06 12:02:00        756   2094.88\n",
              "3919       18287 2011-10-28 09:29:00         70   1837.28\n",
              "\n",
              "[3920 rows x 4 columns]"
            ],
            "text/html": [
              "\n",
              "  <div id=\"df-ff3b57fc-4928-4b12-8e37-a4fc0e1e127d\">\n",
              "    <div class=\"colab-df-container\">\n",
              "      <div>\n",
              "<style scoped>\n",
              "    .dataframe tbody tr th:only-of-type {\n",
              "        vertical-align: middle;\n",
              "    }\n",
              "\n",
              "    .dataframe tbody tr th {\n",
              "        vertical-align: top;\n",
              "    }\n",
              "\n",
              "    .dataframe thead th {\n",
              "        text-align: right;\n",
              "    }\n",
              "</style>\n",
              "<table border=\"1\" class=\"dataframe\">\n",
              "  <thead>\n",
              "    <tr style=\"text-align: right;\">\n",
              "      <th></th>\n",
              "      <th>CustomerID</th>\n",
              "      <th>Recency</th>\n",
              "      <th>Frequency</th>\n",
              "      <th>Monetary</th>\n",
              "    </tr>\n",
              "  </thead>\n",
              "  <tbody>\n",
              "    <tr>\n",
              "      <th>0</th>\n",
              "      <td>12346</td>\n",
              "      <td>2011-01-18 10:01:00</td>\n",
              "      <td>1</td>\n",
              "      <td>77183.60</td>\n",
              "    </tr>\n",
              "    <tr>\n",
              "      <th>1</th>\n",
              "      <td>12747</td>\n",
              "      <td>2011-12-07 14:34:00</td>\n",
              "      <td>103</td>\n",
              "      <td>4196.01</td>\n",
              "    </tr>\n",
              "    <tr>\n",
              "      <th>2</th>\n",
              "      <td>12748</td>\n",
              "      <td>2011-12-09 12:20:00</td>\n",
              "      <td>4595</td>\n",
              "      <td>33719.73</td>\n",
              "    </tr>\n",
              "    <tr>\n",
              "      <th>3</th>\n",
              "      <td>12749</td>\n",
              "      <td>2011-12-06 09:56:00</td>\n",
              "      <td>199</td>\n",
              "      <td>4090.88</td>\n",
              "    </tr>\n",
              "    <tr>\n",
              "      <th>4</th>\n",
              "      <td>12820</td>\n",
              "      <td>2011-12-06 15:12:00</td>\n",
              "      <td>59</td>\n",
              "      <td>942.34</td>\n",
              "    </tr>\n",
              "    <tr>\n",
              "      <th>...</th>\n",
              "      <td>...</td>\n",
              "      <td>...</td>\n",
              "      <td>...</td>\n",
              "      <td>...</td>\n",
              "    </tr>\n",
              "    <tr>\n",
              "      <th>3915</th>\n",
              "      <td>18280</td>\n",
              "      <td>2011-03-07 09:52:00</td>\n",
              "      <td>10</td>\n",
              "      <td>180.60</td>\n",
              "    </tr>\n",
              "    <tr>\n",
              "      <th>3916</th>\n",
              "      <td>18281</td>\n",
              "      <td>2011-06-12 10:53:00</td>\n",
              "      <td>7</td>\n",
              "      <td>80.82</td>\n",
              "    </tr>\n",
              "    <tr>\n",
              "      <th>3917</th>\n",
              "      <td>18282</td>\n",
              "      <td>2011-12-02 11:43:00</td>\n",
              "      <td>12</td>\n",
              "      <td>178.05</td>\n",
              "    </tr>\n",
              "    <tr>\n",
              "      <th>3918</th>\n",
              "      <td>18283</td>\n",
              "      <td>2011-12-06 12:02:00</td>\n",
              "      <td>756</td>\n",
              "      <td>2094.88</td>\n",
              "    </tr>\n",
              "    <tr>\n",
              "      <th>3919</th>\n",
              "      <td>18287</td>\n",
              "      <td>2011-10-28 09:29:00</td>\n",
              "      <td>70</td>\n",
              "      <td>1837.28</td>\n",
              "    </tr>\n",
              "  </tbody>\n",
              "</table>\n",
              "<p>3920 rows × 4 columns</p>\n",
              "</div>\n",
              "      <button class=\"colab-df-convert\" onclick=\"convertToInteractive('df-ff3b57fc-4928-4b12-8e37-a4fc0e1e127d')\"\n",
              "              title=\"Convert this dataframe to an interactive table.\"\n",
              "              style=\"display:none;\">\n",
              "        \n",
              "  <svg xmlns=\"http://www.w3.org/2000/svg\" height=\"24px\"viewBox=\"0 0 24 24\"\n",
              "       width=\"24px\">\n",
              "    <path d=\"M0 0h24v24H0V0z\" fill=\"none\"/>\n",
              "    <path d=\"M18.56 5.44l.94 2.06.94-2.06 2.06-.94-2.06-.94-.94-2.06-.94 2.06-2.06.94zm-11 1L8.5 8.5l.94-2.06 2.06-.94-2.06-.94L8.5 2.5l-.94 2.06-2.06.94zm10 10l.94 2.06.94-2.06 2.06-.94-2.06-.94-.94-2.06-.94 2.06-2.06.94z\"/><path d=\"M17.41 7.96l-1.37-1.37c-.4-.4-.92-.59-1.43-.59-.52 0-1.04.2-1.43.59L10.3 9.45l-7.72 7.72c-.78.78-.78 2.05 0 2.83L4 21.41c.39.39.9.59 1.41.59.51 0 1.02-.2 1.41-.59l7.78-7.78 2.81-2.81c.8-.78.8-2.07 0-2.86zM5.41 20L4 18.59l7.72-7.72 1.47 1.35L5.41 20z\"/>\n",
              "  </svg>\n",
              "      </button>\n",
              "      \n",
              "  <style>\n",
              "    .colab-df-container {\n",
              "      display:flex;\n",
              "      flex-wrap:wrap;\n",
              "      gap: 12px;\n",
              "    }\n",
              "\n",
              "    .colab-df-convert {\n",
              "      background-color: #E8F0FE;\n",
              "      border: none;\n",
              "      border-radius: 50%;\n",
              "      cursor: pointer;\n",
              "      display: none;\n",
              "      fill: #1967D2;\n",
              "      height: 32px;\n",
              "      padding: 0 0 0 0;\n",
              "      width: 32px;\n",
              "    }\n",
              "\n",
              "    .colab-df-convert:hover {\n",
              "      background-color: #E2EBFA;\n",
              "      box-shadow: 0px 1px 2px rgba(60, 64, 67, 0.3), 0px 1px 3px 1px rgba(60, 64, 67, 0.15);\n",
              "      fill: #174EA6;\n",
              "    }\n",
              "\n",
              "    [theme=dark] .colab-df-convert {\n",
              "      background-color: #3B4455;\n",
              "      fill: #D2E3FC;\n",
              "    }\n",
              "\n",
              "    [theme=dark] .colab-df-convert:hover {\n",
              "      background-color: #434B5C;\n",
              "      box-shadow: 0px 1px 3px 1px rgba(0, 0, 0, 0.15);\n",
              "      filter: drop-shadow(0px 1px 2px rgba(0, 0, 0, 0.3));\n",
              "      fill: #FFFFFF;\n",
              "    }\n",
              "  </style>\n",
              "\n",
              "      <script>\n",
              "        const buttonEl =\n",
              "          document.querySelector('#df-ff3b57fc-4928-4b12-8e37-a4fc0e1e127d button.colab-df-convert');\n",
              "        buttonEl.style.display =\n",
              "          google.colab.kernel.accessAllowed ? 'block' : 'none';\n",
              "\n",
              "        async function convertToInteractive(key) {\n",
              "          const element = document.querySelector('#df-ff3b57fc-4928-4b12-8e37-a4fc0e1e127d');\n",
              "          const dataTable =\n",
              "            await google.colab.kernel.invokeFunction('convertToInteractive',\n",
              "                                                     [key], {});\n",
              "          if (!dataTable) return;\n",
              "\n",
              "          const docLinkHtml = 'Like what you see? Visit the ' +\n",
              "            '<a target=\"_blank\" href=https://colab.research.google.com/notebooks/data_table.ipynb>data table notebook</a>'\n",
              "            + ' to learn more about interactive tables.';\n",
              "          element.innerHTML = '';\n",
              "          dataTable['output_type'] = 'display_data';\n",
              "          await google.colab.output.renderOutput(dataTable, element);\n",
              "          const docLink = document.createElement('div');\n",
              "          docLink.innerHTML = docLinkHtml;\n",
              "          element.appendChild(docLink);\n",
              "        }\n",
              "      </script>\n",
              "    </div>\n",
              "  </div>\n",
              "  "
            ]
          },
          "metadata": {},
          "execution_count": 216
        }
      ]
    },
    {
      "cell_type": "markdown",
      "source": [
        "##### Recency 컬럼 처리"
      ],
      "metadata": {
        "id": "AuAB__PmXfBI"
      }
    },
    {
      "cell_type": "code",
      "source": [
        "print(uk_rfm['Recency'].min())\n",
        "print(uk_rfm['Recency'].max()) # 2010년 12월 1일부터 2011년 12월 9일까지의 데이터이므로 2011년 12월 10일을 '오늘'로 생각"
      ],
      "metadata": {
        "colab": {
          "base_uri": "https://localhost:8080/"
        },
        "id": "krQ8-old_tHK",
        "outputId": "0b8a978c-a3b2-43ce-bef6-26caf780ebce"
      },
      "execution_count": 217,
      "outputs": [
        {
          "output_type": "stream",
          "name": "stdout",
          "text": [
            "2010-12-01 09:53:00\n",
            "2011-12-09 12:49:00\n"
          ]
        }
      ]
    },
    {
      "cell_type": "code",
      "source": [
        "import datetime"
      ],
      "metadata": {
        "id": "Ln9rJhuXAThS"
      },
      "execution_count": 218,
      "outputs": []
    },
    {
      "cell_type": "code",
      "source": [
        "uk_rfm['Recency'] = (datetime.datetime(2011, 12, 10) - uk_rfm['Recency']).map(lambda x : x.days + 1) # 해당일부터 오늘까지이므로 1일을 더해주어 날짜 계산"
      ],
      "metadata": {
        "id": "O50jXXMsAZcT"
      },
      "execution_count": 219,
      "outputs": []
    },
    {
      "cell_type": "code",
      "source": [
        "uk_rfm"
      ],
      "metadata": {
        "colab": {
          "base_uri": "https://localhost:8080/",
          "height": 423
        },
        "id": "G_OiDj_3A7bC",
        "outputId": "27693dac-1364-4cfc-c3da-66b0d0b66133"
      },
      "execution_count": 220,
      "outputs": [
        {
          "output_type": "execute_result",
          "data": {
            "text/plain": [
              "      CustomerID  Recency  Frequency  Monetary\n",
              "0          12346      326          1  77183.60\n",
              "1          12747        3        103   4196.01\n",
              "2          12748        1       4595  33719.73\n",
              "3          12749        4        199   4090.88\n",
              "4          12820        4         59    942.34\n",
              "...          ...      ...        ...       ...\n",
              "3915       18280      278         10    180.60\n",
              "3916       18281      181          7     80.82\n",
              "3917       18282        8         12    178.05\n",
              "3918       18283        4        756   2094.88\n",
              "3919       18287       43         70   1837.28\n",
              "\n",
              "[3920 rows x 4 columns]"
            ],
            "text/html": [
              "\n",
              "  <div id=\"df-7064fb99-71ed-4e36-b0b2-befc8fb0ff85\">\n",
              "    <div class=\"colab-df-container\">\n",
              "      <div>\n",
              "<style scoped>\n",
              "    .dataframe tbody tr th:only-of-type {\n",
              "        vertical-align: middle;\n",
              "    }\n",
              "\n",
              "    .dataframe tbody tr th {\n",
              "        vertical-align: top;\n",
              "    }\n",
              "\n",
              "    .dataframe thead th {\n",
              "        text-align: right;\n",
              "    }\n",
              "</style>\n",
              "<table border=\"1\" class=\"dataframe\">\n",
              "  <thead>\n",
              "    <tr style=\"text-align: right;\">\n",
              "      <th></th>\n",
              "      <th>CustomerID</th>\n",
              "      <th>Recency</th>\n",
              "      <th>Frequency</th>\n",
              "      <th>Monetary</th>\n",
              "    </tr>\n",
              "  </thead>\n",
              "  <tbody>\n",
              "    <tr>\n",
              "      <th>0</th>\n",
              "      <td>12346</td>\n",
              "      <td>326</td>\n",
              "      <td>1</td>\n",
              "      <td>77183.60</td>\n",
              "    </tr>\n",
              "    <tr>\n",
              "      <th>1</th>\n",
              "      <td>12747</td>\n",
              "      <td>3</td>\n",
              "      <td>103</td>\n",
              "      <td>4196.01</td>\n",
              "    </tr>\n",
              "    <tr>\n",
              "      <th>2</th>\n",
              "      <td>12748</td>\n",
              "      <td>1</td>\n",
              "      <td>4595</td>\n",
              "      <td>33719.73</td>\n",
              "    </tr>\n",
              "    <tr>\n",
              "      <th>3</th>\n",
              "      <td>12749</td>\n",
              "      <td>4</td>\n",
              "      <td>199</td>\n",
              "      <td>4090.88</td>\n",
              "    </tr>\n",
              "    <tr>\n",
              "      <th>4</th>\n",
              "      <td>12820</td>\n",
              "      <td>4</td>\n",
              "      <td>59</td>\n",
              "      <td>942.34</td>\n",
              "    </tr>\n",
              "    <tr>\n",
              "      <th>...</th>\n",
              "      <td>...</td>\n",
              "      <td>...</td>\n",
              "      <td>...</td>\n",
              "      <td>...</td>\n",
              "    </tr>\n",
              "    <tr>\n",
              "      <th>3915</th>\n",
              "      <td>18280</td>\n",
              "      <td>278</td>\n",
              "      <td>10</td>\n",
              "      <td>180.60</td>\n",
              "    </tr>\n",
              "    <tr>\n",
              "      <th>3916</th>\n",
              "      <td>18281</td>\n",
              "      <td>181</td>\n",
              "      <td>7</td>\n",
              "      <td>80.82</td>\n",
              "    </tr>\n",
              "    <tr>\n",
              "      <th>3917</th>\n",
              "      <td>18282</td>\n",
              "      <td>8</td>\n",
              "      <td>12</td>\n",
              "      <td>178.05</td>\n",
              "    </tr>\n",
              "    <tr>\n",
              "      <th>3918</th>\n",
              "      <td>18283</td>\n",
              "      <td>4</td>\n",
              "      <td>756</td>\n",
              "      <td>2094.88</td>\n",
              "    </tr>\n",
              "    <tr>\n",
              "      <th>3919</th>\n",
              "      <td>18287</td>\n",
              "      <td>43</td>\n",
              "      <td>70</td>\n",
              "      <td>1837.28</td>\n",
              "    </tr>\n",
              "  </tbody>\n",
              "</table>\n",
              "<p>3920 rows × 4 columns</p>\n",
              "</div>\n",
              "      <button class=\"colab-df-convert\" onclick=\"convertToInteractive('df-7064fb99-71ed-4e36-b0b2-befc8fb0ff85')\"\n",
              "              title=\"Convert this dataframe to an interactive table.\"\n",
              "              style=\"display:none;\">\n",
              "        \n",
              "  <svg xmlns=\"http://www.w3.org/2000/svg\" height=\"24px\"viewBox=\"0 0 24 24\"\n",
              "       width=\"24px\">\n",
              "    <path d=\"M0 0h24v24H0V0z\" fill=\"none\"/>\n",
              "    <path d=\"M18.56 5.44l.94 2.06.94-2.06 2.06-.94-2.06-.94-.94-2.06-.94 2.06-2.06.94zm-11 1L8.5 8.5l.94-2.06 2.06-.94-2.06-.94L8.5 2.5l-.94 2.06-2.06.94zm10 10l.94 2.06.94-2.06 2.06-.94-2.06-.94-.94-2.06-.94 2.06-2.06.94z\"/><path d=\"M17.41 7.96l-1.37-1.37c-.4-.4-.92-.59-1.43-.59-.52 0-1.04.2-1.43.59L10.3 9.45l-7.72 7.72c-.78.78-.78 2.05 0 2.83L4 21.41c.39.39.9.59 1.41.59.51 0 1.02-.2 1.41-.59l7.78-7.78 2.81-2.81c.8-.78.8-2.07 0-2.86zM5.41 20L4 18.59l7.72-7.72 1.47 1.35L5.41 20z\"/>\n",
              "  </svg>\n",
              "      </button>\n",
              "      \n",
              "  <style>\n",
              "    .colab-df-container {\n",
              "      display:flex;\n",
              "      flex-wrap:wrap;\n",
              "      gap: 12px;\n",
              "    }\n",
              "\n",
              "    .colab-df-convert {\n",
              "      background-color: #E8F0FE;\n",
              "      border: none;\n",
              "      border-radius: 50%;\n",
              "      cursor: pointer;\n",
              "      display: none;\n",
              "      fill: #1967D2;\n",
              "      height: 32px;\n",
              "      padding: 0 0 0 0;\n",
              "      width: 32px;\n",
              "    }\n",
              "\n",
              "    .colab-df-convert:hover {\n",
              "      background-color: #E2EBFA;\n",
              "      box-shadow: 0px 1px 2px rgba(60, 64, 67, 0.3), 0px 1px 3px 1px rgba(60, 64, 67, 0.15);\n",
              "      fill: #174EA6;\n",
              "    }\n",
              "\n",
              "    [theme=dark] .colab-df-convert {\n",
              "      background-color: #3B4455;\n",
              "      fill: #D2E3FC;\n",
              "    }\n",
              "\n",
              "    [theme=dark] .colab-df-convert:hover {\n",
              "      background-color: #434B5C;\n",
              "      box-shadow: 0px 1px 3px 1px rgba(0, 0, 0, 0.15);\n",
              "      filter: drop-shadow(0px 1px 2px rgba(0, 0, 0, 0.3));\n",
              "      fill: #FFFFFF;\n",
              "    }\n",
              "  </style>\n",
              "\n",
              "      <script>\n",
              "        const buttonEl =\n",
              "          document.querySelector('#df-7064fb99-71ed-4e36-b0b2-befc8fb0ff85 button.colab-df-convert');\n",
              "        buttonEl.style.display =\n",
              "          google.colab.kernel.accessAllowed ? 'block' : 'none';\n",
              "\n",
              "        async function convertToInteractive(key) {\n",
              "          const element = document.querySelector('#df-7064fb99-71ed-4e36-b0b2-befc8fb0ff85');\n",
              "          const dataTable =\n",
              "            await google.colab.kernel.invokeFunction('convertToInteractive',\n",
              "                                                     [key], {});\n",
              "          if (!dataTable) return;\n",
              "\n",
              "          const docLinkHtml = 'Like what you see? Visit the ' +\n",
              "            '<a target=\"_blank\" href=https://colab.research.google.com/notebooks/data_table.ipynb>data table notebook</a>'\n",
              "            + ' to learn more about interactive tables.';\n",
              "          element.innerHTML = '';\n",
              "          dataTable['output_type'] = 'display_data';\n",
              "          await google.colab.output.renderOutput(dataTable, element);\n",
              "          const docLink = document.createElement('div');\n",
              "          docLink.innerHTML = docLinkHtml;\n",
              "          element.appendChild(docLink);\n",
              "        }\n",
              "      </script>\n",
              "    </div>\n",
              "  </div>\n",
              "  "
            ]
          },
          "metadata": {},
          "execution_count": 220
        }
      ]
    },
    {
      "cell_type": "markdown",
      "source": [
        "##### 시각화 - R,F,M 분포"
      ],
      "metadata": {
        "id": "kavykTrNDV95"
      }
    },
    {
      "cell_type": "code",
      "source": [
        "import matplotlib.pyplot as plt\n",
        "import seaborn as sns\n",
        "%matplotlib inline"
      ],
      "metadata": {
        "id": "41e7EBItFp1h"
      },
      "execution_count": 221,
      "outputs": []
    },
    {
      "cell_type": "code",
      "source": [
        "import numpy as np"
      ],
      "metadata": {
        "id": "Sk3v7kFnastd"
      },
      "execution_count": 222,
      "outputs": []
    },
    {
      "cell_type": "code",
      "source": [
        "import matplotlib.gridspec as gridspec\n",
        "grid = gridspec.GridSpec(1, 3)"
      ],
      "metadata": {
        "id": "qF0zNGTuGlRq"
      },
      "execution_count": 223,
      "outputs": []
    },
    {
      "cell_type": "code",
      "source": [
        "sns.set_style('whitegrid')\n",
        "plt.figure(figsize = (15, 4))\n",
        "plt.subplots_adjust(wspace = 0.2)\n",
        "\n",
        "features = ['Recency', 'Frequency', 'Monetary']\n",
        "\n",
        "for idx, feature in enumerate(features):\n",
        "  ax = plt.subplot(grid[idx])\n",
        "  sns.histplot(uk_rfm[feature],\n",
        "               kde = True,\n",
        "               ax = ax)\n",
        "  ax.set_title(f'{feature} Histogram')\n",
        "  plt.rcParams['axes.unicode_minus'] = False\n",
        "  ax.axvline(x = np.mean(uk_rfm[feature]), color=\"red\", linestyle=\"--\") # 각 특성의 평균을 같이 그려줌"
      ],
      "metadata": {
        "colab": {
          "base_uri": "https://localhost:8080/",
          "height": 295
        },
        "id": "WzGuKhIqDVUf",
        "outputId": "840b533d-714d-4b7a-9435-f49259233329"
      },
      "execution_count": 224,
      "outputs": [
        {
          "output_type": "display_data",
          "data": {
            "text/plain": [
              "<Figure size 1080x288 with 3 Axes>"
            ],
            "image/png": "[encoded data removed]"
          },
          "metadata": {}
        }
      ]
    },
    {
      "cell_type": "markdown",
      "source": [
        "- Recency, Frequency, Monetary 분포 모두 왼쪽으로 치우져진 특징을 보임\n",
        "- 개인 고객과 소매업체의 대규모 주문이 포함되어 이와 같은 현상이 일어난 것이라 추측"
      ],
      "metadata": {
        "id": "ZPaPRO0zJ_Gx"
      }
    },
    {
      "cell_type": "markdown",
      "source": [
        " #### 군집화\n",
        " - 치우친 데이터 셋을 분리해보기위해 군집화를 진행해봄"
      ],
      "metadata": {
        "id": "GQ2_DbM8J_cw"
      }
    },
    {
      "cell_type": "code",
      "source": [
        "## 표준화\n",
        "from sklearn.preprocessing import StandardScaler\n",
        "\n",
        "features = uk_rfm[['Recency', 'Frequency', 'Monetary']].values\n",
        "ss = StandardScaler()\n",
        "ss.fit(features)\n",
        "features_scaled = ss.transform(features) # kmean 알고리즘에 적용하기 위해 변수에 대해 표준화를 진행"
      ],
      "metadata": {
        "id": "2Shz8N2LNzND"
      },
      "execution_count": 225,
      "outputs": []
    },
    {
      "cell_type": "code",
      "source": [
        "# KMeans\n",
        "from sklearn.cluster import KMeans\n",
        "km = KMeans(n_clusters = 3)\n",
        "km.fit(features_scaled) # 클러스터의 개수가 3인 kmeans 알고리즘을 학습"
      ],
      "metadata": {
        "colab": {
          "base_uri": "https://localhost:8080/"
        },
        "id": "kyjok_QWPWsM",
        "outputId": "81ab901c-9285-4199-ecd8-34847b6a75b9"
      },
      "execution_count": 226,
      "outputs": [
        {
          "output_type": "execute_result",
          "data": {
            "text/plain": [
              "KMeans(n_clusters=3)"
            ]
          },
          "metadata": {},
          "execution_count": 226
        }
      ]
    },
    {
      "cell_type": "code",
      "source": [
        "print(km.predict(features_scaled)) # 학습된 kmeans 알고리즘의 예측"
      ],
      "metadata": {
        "colab": {
          "base_uri": "https://localhost:8080/"
        },
        "id": "CqZN3PJYP0yH",
        "outputId": "18ba6704-8570-4628-9e4e-d035aa05744e"
      },
      "execution_count": 227,
      "outputs": [
        {
          "output_type": "stream",
          "name": "stdout",
          "text": [
            "[0 2 0 ... 2 2 2]\n"
          ]
        }
      ]
    },
    {
      "cell_type": "code",
      "source": [
        "uk_rfm['cluster label'] = km.predict(features_scaled) # 예측 결과를 기존 데이터프레임의 컬럼으로 생성"
      ],
      "metadata": {
        "id": "TidIIKXwPSPo"
      },
      "execution_count": 228,
      "outputs": []
    },
    {
      "cell_type": "markdown",
      "source": [
        "#### 실루엣 계수 (Silhouette Coefficient)\n",
        "- 클러스터링 결과를 평가하는 지표\n",
        "- 각 데이터 포인트와 주위 데이터 포인트들과의 거리 계산을 통해 값을 도출\n",
        "- 군집 안에 있는 데이터들은 잘 모여있는지, 군집끼리는 서로 잘 구분되는지 클러스터링을 평가하는 척도로 활용."
      ],
      "metadata": {
        "id": "pDxwHG9EYlGl"
      }
    },
    {
      "cell_type": "code",
      "source": [
        "from sklearn.metrics import silhouette_score\n",
        "silhouette_km = silhouette_score(features_scaled, km.predict(features_scaled))\n",
        "print(silhouette_km) "
      ],
      "metadata": {
        "colab": {
          "base_uri": "https://localhost:8080/"
        },
        "id": "ntFhEqqaQbjr",
        "outputId": "85c63539-4aae-4d8f-c757-128c4573c955"
      },
      "execution_count": 230,
      "outputs": [
        {
          "output_type": "stream",
          "name": "stdout",
          "text": [
            "0.5923691942714455\n"
          ]
        }
      ]
    },
    {
      "cell_type": "markdown",
      "source": [
        "- 실루엣 스코어가 0.592로 좋은편"
      ],
      "metadata": {
        "id": "8SsEQP5uZXb_"
      }
    },
    {
      "cell_type": "markdown",
      "source": [
        "#### 시각화 - 실루엣 계수, 클러스터링 결과"
      ],
      "metadata": {
        "id": "BQpouL-bUqQO"
      }
    },
    {
      "cell_type": "code",
      "source": [
        "from sklearn.datasets import make_blobs\n",
        "from sklearn.metrics import silhouette_samples\n",
        "from sklearn.decomposition import PCA\n",
        "\n",
        "import matplotlib.cm as cm\n",
        "import math"
      ],
      "metadata": {
        "id": "L5Bko2JXI11d"
      },
      "execution_count": 231,
      "outputs": []
    },
    {
      "cell_type": "code",
      "source": [
        "### 실루엣 계수 시각화\n",
        "def visualize_silhouette(cluster_lists, X_features): \n",
        "    \n",
        "    n_cols = len(cluster_lists) # 클러스터 개수대로 클러스터링을 적용하고 실루엣 계수를 구함\n",
        "    fig, ax = plt.subplots(figsize = (4*n_cols, 4), nrows = 1, ncols = n_cols) # 실루엣 계수를 나타낼 도화지 생성\n",
        "    \n",
        "    for idx, n_cluster in enumerate(cluster_lists):\n",
        "        # 클러스터링 개수들을 차례로 iteration 수행하면서 실루엣 계수 시각화\n",
        "        \n",
        "        clusterer = KMeans(n_clusters = n_cluster, max_iter = 500)\n",
        "        cluster_labels = clusterer.fit_predict(X_features)\n",
        "        # KMeans 클러스터링 수행한 후 실루엣 스코어와 개별 데이터의 실루엣 값 계산 \n",
        "\n",
        "        sil_avg = silhouette_score(X_features, cluster_labels)\n",
        "        sil_values = silhouette_samples(X_features, cluster_labels)\n",
        "        \n",
        "        y_lower = 10\n",
        "        ax[idx].set_title('# of Cluster : '+ str(n_cluster)+'\\n' \\\n",
        "                          'Silhouette Score :' + str(round(sil_avg,3)) )\n",
        "        ax[idx].set_xlabel(\"Silhouette coefficient values\")\n",
        "        ax[idx].set_ylabel(\"Cluster label\")\n",
        "        ax[idx].set_xlim([-0.1, 1])\n",
        "        ax[idx].set_ylim([0, len(X_features) + (n_cluster + 1) * 10])\n",
        "        ax[idx].set_yticks([])  # y축에는 아무것도 표시하지 않음\n",
        "        ax[idx].set_xticks([0, 0.2, 0.4, 0.6, 0.8, 1])\n",
        "         \n",
        "        for i in range(n_cluster): \n",
        "          # 클러스터링 갯수별로 fill_betweenx( )형태의 막대 그래프 표현.\n",
        "            ith_cluster_sil_values = sil_values[cluster_labels == i]\n",
        "            ith_cluster_sil_values.sort()\n",
        "            \n",
        "            size_cluster_i = ith_cluster_sil_values.shape[0]\n",
        "            y_upper = y_lower + size_cluster_i\n",
        "            \n",
        "            color = cm.nipy_spectral(float(i) / n_cluster)\n",
        "            ax[idx].fill_betweenx(np.arange(y_lower, y_upper), 0, ith_cluster_sil_values,\n",
        "                                   facecolor=color, edgecolor=color, alpha=0.7)\n",
        "            ax[idx].text(-0.05, y_lower + 0.5 * size_cluster_i, str(i))\n",
        "            y_lower = y_upper + 10\n",
        "            \n",
        "        ax[idx].axvline(x=sil_avg, color=\"red\", linestyle=\"--\")"
      ],
      "metadata": {
        "id": "OPyP2ATvKr-H"
      },
      "execution_count": 232,
      "outputs": []
    },
    {
      "cell_type": "code",
      "source": [
        "## 군집개수별 클러스터링 결과 시각화 함수\n",
        "def visualize_kmeans_plot_multi(cluster_lists, X_features):\n",
        "\n",
        "    n_cols = len(cluster_lists)\n",
        "    fig, ax = plt.subplots(figsize = (4*n_cols, 4), nrows = 1, ncols = n_cols) # 클러스터링 결과를 표시할 도화지 생성\n",
        "    \n",
        "    pca = PCA(n_components = 2) # 입력 데이터가 여러개일 경우 PCA 변환하여 2차원 시각화\n",
        "    pca_transformed = pca.fit_transform(X_features)\n",
        "    dataframe = pd.DataFrame(pca_transformed, columns=['PCA1','PCA2'])\n",
        "    \n",
        "    for idx, n_cluster in enumerate(cluster_lists):\n",
        "    # 클러스터링 갯수들을 차례로 iteration 수행하면서 KMeans 클러스터링 수행하고 시각화    \n",
        "       \n",
        "        clusterer = KMeans(n_clusters = n_cluster, max_iter = 500)\n",
        "        cluster_labels = clusterer.fit_predict(pca_transformed)\n",
        "        dataframe['cluster'] = cluster_labels  # KMeans 클러스터링 결과를 dataframe에 저장\n",
        "        \n",
        "        unique_labels = np.unique(clusterer.labels_)\n",
        "        markers=['o', 's', '^', 'x', '*']\n",
        "       \n",
        "        for label in unique_labels:\n",
        "            label_df = dataframe[dataframe['cluster'] == label]\n",
        "            if label == -1:\n",
        "                cluster_legend = 'Noise'\n",
        "            else :\n",
        "                cluster_legend = 'Cluster ' + str(label)           \n",
        "            ax[idx].scatter(x = label_df['PCA1'], y = label_df['PCA2'], s = 70, \n",
        "                             edgecolor = 'k', marker = markers[label], label = cluster_legend)  # 클러스터링 결과값 별로 scatter plot 으로 시각화\n",
        "\n",
        "        ax[idx].set_title('Number of Cluster : ' +  str(n_cluster))    \n",
        "        ax[idx].legend(loc = 'upper right')"
      ],
      "metadata": {
        "id": "qGL_X0_XMNJd"
      },
      "execution_count": 233,
      "outputs": []
    },
    {
      "cell_type": "code",
      "source": [
        "## 군집별 실루엣 스코어\n",
        "visualize_silhouette([2, 3, 4, 5], features_scaled)"
      ],
      "metadata": {
        "colab": {
          "base_uri": "https://localhost:8080/",
          "height": 310
        },
        "id": "y6U2jqWcQ3m_",
        "outputId": "ab5f66d6-3e2b-45d9-8c87-08ebcb6ce2e8"
      },
      "execution_count": 234,
      "outputs": [
        {
          "output_type": "display_data",
          "data": {
            "text/plain": [
              "<Figure size 1152x288 with 4 Axes>"
            ],
            "image/png": "[encoded data removed]"
          },
          "metadata": {}
        }
      ]
    },
    {
      "cell_type": "code",
      "source": [
        "visualize_kmeans_plot_multi([2, 3, 4, 5], features_scaled)"
      ],
      "metadata": {
        "colab": {
          "base_uri": "https://localhost:8080/",
          "height": 281
        },
        "id": "xY3kkCDZRH_K",
        "outputId": "4316abd5-5a30-4246-be97-26024d343c9e"
      },
      "execution_count": 235,
      "outputs": [
        {
          "output_type": "display_data",
          "data": {
            "text/plain": [
              "<Figure size 1152x288 with 4 Axes>"
            ],
            "image/png": "[encoded data removed]"
          },
          "metadata": {}
        }
      ]
    },
    {
      "cell_type": "markdown",
      "source": [
        "- 군집수가 2일 때는 0번 군집의 실루엣 계수가 대부분 평균 아래이다.\n",
        "- 군집수가 3인 경우는 2번 군집, 4인 경우는 2,3번 군집의 데이터 건수가 매우 작다.\n",
        "- 이는 앞서 왜곡된 분포를 확인했듯이 소매업체의 대규모 주문이 소수의 군집을 이룬 것으로 추측.\n",
        "- 왜곡정도가 너무 심해 굳이 군집분석하지 않아도 충분히 분리 가능"
      ],
      "metadata": {
        "id": "amp3ViqJRSWT"
      }
    },
    {
      "cell_type": "markdown",
      "source": [
        "#### 왜곡을 피하기 위한 로그변환"
      ],
      "metadata": {
        "id": "GdZwAbGzRqyS"
      }
    },
    {
      "cell_type": "code",
      "source": [
        "uk_rfm['log_Recency'] = np.log1p(uk_rfm['Recency']) # log(x+1)\n",
        "uk_rfm['log_Frequency'] = np.log1p(uk_rfm['Frequency'])\n",
        "uk_rfm['log_Monetary'] = np.log1p(uk_rfm['Monetary']) "
      ],
      "metadata": {
        "id": "BBaczEOARtep"
      },
      "execution_count": 236,
      "outputs": []
    },
    {
      "cell_type": "markdown",
      "source": [
        "- log(x+1)\n",
        "- 0에 가까운 아주 작은 양수의 경우 음의 무한대에 가까워지게 됨.\n",
        "- 너무 작은 값의 경우 프로그램의 계산이 -inf가 나옴\n",
        "- 이를 방지하기 위해 1을 더함으로써 0보다 큰 양수의 값을 갖게 함"
      ],
      "metadata": {
        "id": "ISsvrTqkbRO4"
      }
    },
    {
      "cell_type": "code",
      "source": [
        "## 표준화\n",
        "log_features = uk_rfm[['log_Recency', 'log_Frequency', 'log_Monetary']].values\n",
        "\n",
        "ss = StandardScaler()\n",
        "ss.fit(log_features)\n",
        "log_features_scaled = ss.transform(log_features) # 마찬가지로 log 변환된 값들도 kmeans 알고리즘을 적용하기 위해 표준화를 진행"
      ],
      "metadata": {
        "id": "0aS3w51qR_af"
      },
      "execution_count": 237,
      "outputs": []
    },
    {
      "cell_type": "code",
      "source": [
        "## KMeans\n",
        "km = KMeans(n_clusters = 3)\n",
        "km.fit(log_features_scaled) # 표준화된 값들로 kmeans 알고리즘 학습"
      ],
      "metadata": {
        "colab": {
          "base_uri": "https://localhost:8080/"
        },
        "id": "_lWPhGo0STXS",
        "outputId": "2bc42926-9991-41fc-b651-73628f5bc801"
      },
      "execution_count": 238,
      "outputs": [
        {
          "output_type": "execute_result",
          "data": {
            "text/plain": [
              "KMeans(n_clusters=3)"
            ]
          },
          "metadata": {},
          "execution_count": 238
        }
      ]
    },
    {
      "cell_type": "code",
      "source": [
        "print(km.predict(log_features_scaled)) # 학습된 kmeans 알고리즘으로 예측"
      ],
      "metadata": {
        "colab": {
          "base_uri": "https://localhost:8080/"
        },
        "id": "lqjB86V7Se71",
        "outputId": "0c4e847f-a451-4cbe-acc0-f72a4d8a7622"
      },
      "execution_count": 239,
      "outputs": [
        {
          "output_type": "stream",
          "name": "stdout",
          "text": [
            "[1 2 2 ... 1 2 1]\n"
          ]
        }
      ]
    },
    {
      "cell_type": "code",
      "source": [
        "labels = km.predict(log_features_scaled)"
      ],
      "metadata": {
        "id": "cCuVKMnzSiGL"
      },
      "execution_count": 240,
      "outputs": []
    },
    {
      "cell_type": "code",
      "source": [
        "uk_rfm['cluster log_label'] = labels  # 예측된 값을 데이터프레임에 컬럼으로 생성"
      ],
      "metadata": {
        "id": "mOFqh-nUSmIL"
      },
      "execution_count": 241,
      "outputs": []
    },
    {
      "cell_type": "code",
      "source": [
        "## 실루엣 스코어\n",
        "silhoutte_log_km = silhouette_score(log_features_scaled, labels)\n",
        "print(silhoutte_log_km)"
      ],
      "metadata": {
        "colab": {
          "base_uri": "https://localhost:8080/"
        },
        "id": "LUre0s0ISxMc",
        "outputId": "ebacb5e5-2bd8-4f94-d2f0-de003e2dc5fc"
      },
      "execution_count": 242,
      "outputs": [
        {
          "output_type": "stream",
          "name": "stdout",
          "text": [
            "0.3046362318850125\n"
          ]
        }
      ]
    },
    {
      "cell_type": "code",
      "source": [
        "## 군집별 실루엣 스코어\n",
        "visualize_silhouette([2, 3, 4, 5], log_features_scaled)"
      ],
      "metadata": {
        "colab": {
          "base_uri": "https://localhost:8080/",
          "height": 310
        },
        "id": "1htxR585TBAL",
        "outputId": "814de468-db36-4b1a-ad03-28d78654d7ad"
      },
      "execution_count": 243,
      "outputs": [
        {
          "output_type": "display_data",
          "data": {
            "text/plain": [
              "<Figure size 1152x288 with 4 Axes>"
            ],
            "image/png": "[encoded data removed]"
          },
          "metadata": {}
        }
      ]
    },
    {
      "cell_type": "code",
      "source": [
        "visualize_kmeans_plot_multi([2, 3, 4, 5], log_features_scaled)"
      ],
      "metadata": {
        "colab": {
          "base_uri": "https://localhost:8080/",
          "height": 281
        },
        "id": "w_3rURJZTQ_f",
        "outputId": "ddb00dc0-6581-4aac-fe2b-92e949e518ee"
      },
      "execution_count": 244,
      "outputs": [
        {
          "output_type": "display_data",
          "data": {
            "text/plain": [
              "<Figure size 1152x288 with 4 Axes>"
            ],
            "image/png": "[encoded data removed]"
          },
          "metadata": {}
        }
      ]
    },
    {
      "cell_type": "markdown",
      "source": [
        "- 전체 실루엣 스코어가 감소한 대신 각 군집별 실루엣 스코어가 균일하게 나타남.\n",
        "- 왜곡된 데이터 셋은 로그 변환으로 1차 변환 후 적용하면 더 나은 결과가 나오기도 함.\n",
        "\n"
      ],
      "metadata": {
        "id": "cc9etCJ9TW2D"
      }
    },
    {
      "cell_type": "markdown",
      "source": [
        "#### 원본 vs log변환 데이터 셋"
      ],
      "metadata": {
        "id": "lt5hFrNtb86U"
      }
    },
    {
      "cell_type": "code",
      "source": [
        "uk_rfm"
      ],
      "metadata": {
        "colab": {
          "base_uri": "https://localhost:8080/",
          "height": 423
        },
        "id": "NqoTKIHbcQHB",
        "outputId": "f718ebd6-6b8f-4fc8-c270-d98c1ba50716"
      },
      "execution_count": 245,
      "outputs": [
        {
          "output_type": "execute_result",
          "data": {
            "text/plain": [
              "      CustomerID  Recency  Frequency  Monetary  cluster label  log_Recency  \\\n",
              "0          12346      326          1  77183.60              0     5.789960   \n",
              "1          12747        3        103   4196.01              2     1.386294   \n",
              "2          12748        1       4595  33719.73              0     0.693147   \n",
              "3          12749        4        199   4090.88              2     1.609438   \n",
              "4          12820        4         59    942.34              2     1.609438   \n",
              "...          ...      ...        ...       ...            ...          ...   \n",
              "3915       18280      278         10    180.60              1     5.631212   \n",
              "3916       18281      181          7     80.82              1     5.204007   \n",
              "3917       18282        8         12    178.05              2     2.197225   \n",
              "3918       18283        4        756   2094.88              2     1.609438   \n",
              "3919       18287       43         70   1837.28              2     3.784190   \n",
              "\n",
              "      log_Frequency  log_Monetary  cluster log_label  \n",
              "0          0.693147     11.253955                  1  \n",
              "1          4.644391      8.342128                  2  \n",
              "2          8.432942     10.425868                  2  \n",
              "3          5.298317      8.316760                  2  \n",
              "4          4.094345      6.849427                  2  \n",
              "...             ...           ...                ...  \n",
              "3915       2.397895      5.201806                  0  \n",
              "3916       2.079442      4.404522                  0  \n",
              "3917       2.564949      5.187665                  1  \n",
              "3918       6.629363      7.647729                  2  \n",
              "3919       4.262680      7.516586                  1  \n",
              "\n",
              "[3920 rows x 9 columns]"
            ],
            "text/html": [
              "\n",
              "  <div id=\"df-2a92757c-4700-41f9-8b3f-016f2b017945\">\n",
              "    <div class=\"colab-df-container\">\n",
              "      <div>\n",
              "<style scoped>\n",
              "    .dataframe tbody tr th:only-of-type {\n",
              "        vertical-align: middle;\n",
              "    }\n",
              "\n",
              "    .dataframe tbody tr th {\n",
              "        vertical-align: top;\n",
              "    }\n",
              "\n",
              "    .dataframe thead th {\n",
              "        text-align: right;\n",
              "    }\n",
              "</style>\n",
              "<table border=\"1\" class=\"dataframe\">\n",
              "  <thead>\n",
              "    <tr style=\"text-align: right;\">\n",
              "      <th></th>\n",
              "      <th>CustomerID</th>\n",
              "      <th>Recency</th>\n",
              "      <th>Frequency</th>\n",
              "      <th>Monetary</th>\n",
              "      <th>cluster label</th>\n",
              "      <th>log_Recency</th>\n",
              "      <th>log_Frequency</th>\n",
              "      <th>log_Monetary</th>\n",
              "      <th>cluster log_label</th>\n",
              "    </tr>\n",
              "  </thead>\n",
              "  <tbody>\n",
              "    <tr>\n",
              "      <th>0</th>\n",
              "      <td>12346</td>\n",
              "      <td>326</td>\n",
              "      <td>1</td>\n",
              "      <td>77183.60</td>\n",
              "      <td>0</td>\n",
              "      <td>5.789960</td>\n",
              "      <td>0.693147</td>\n",
              "      <td>11.253955</td>\n",
              "      <td>1</td>\n",
              "    </tr>\n",
              "    <tr>\n",
              "      <th>1</th>\n",
              "      <td>12747</td>\n",
              "      <td>3</td>\n",
              "      <td>103</td>\n",
              "      <td>4196.01</td>\n",
              "      <td>2</td>\n",
              "      <td>1.386294</td>\n",
              "      <td>4.644391</td>\n",
              "      <td>8.342128</td>\n",
              "      <td>2</td>\n",
              "    </tr>\n",
              "    <tr>\n",
              "      <th>2</th>\n",
              "      <td>12748</td>\n",
              "      <td>1</td>\n",
              "      <td>4595</td>\n",
              "      <td>33719.73</td>\n",
              "      <td>0</td>\n",
              "      <td>0.693147</td>\n",
              "      <td>8.432942</td>\n",
              "      <td>10.425868</td>\n",
              "      <td>2</td>\n",
              "    </tr>\n",
              "    <tr>\n",
              "      <th>3</th>\n",
              "      <td>12749</td>\n",
              "      <td>4</td>\n",
              "      <td>199</td>\n",
              "      <td>4090.88</td>\n",
              "      <td>2</td>\n",
              "      <td>1.609438</td>\n",
              "      <td>5.298317</td>\n",
              "      <td>8.316760</td>\n",
              "      <td>2</td>\n",
              "    </tr>\n",
              "    <tr>\n",
              "      <th>4</th>\n",
              "      <td>12820</td>\n",
              "      <td>4</td>\n",
              "      <td>59</td>\n",
              "      <td>942.34</td>\n",
              "      <td>2</td>\n",
              "      <td>1.609438</td>\n",
              "      <td>4.094345</td>\n",
              "      <td>6.849427</td>\n",
              "      <td>2</td>\n",
              "    </tr>\n",
              "    <tr>\n",
              "      <th>...</th>\n",
              "      <td>...</td>\n",
              "      <td>...</td>\n",
              "      <td>...</td>\n",
              "      <td>...</td>\n",
              "      <td>...</td>\n",
              "      <td>...</td>\n",
              "      <td>...</td>\n",
              "      <td>...</td>\n",
              "      <td>...</td>\n",
              "    </tr>\n",
              "    <tr>\n",
              "      <th>3915</th>\n",
              "      <td>18280</td>\n",
              "      <td>278</td>\n",
              "      <td>10</td>\n",
              "      <td>180.60</td>\n",
              "      <td>1</td>\n",
              "      <td>5.631212</td>\n",
              "      <td>2.397895</td>\n",
              "      <td>5.201806</td>\n",
              "      <td>0</td>\n",
              "    </tr>\n",
              "    <tr>\n",
              "      <th>3916</th>\n",
              "      <td>18281</td>\n",
              "      <td>181</td>\n",
              "      <td>7</td>\n",
              "      <td>80.82</td>\n",
              "      <td>1</td>\n",
              "      <td>5.204007</td>\n",
              "      <td>2.079442</td>\n",
              "      <td>4.404522</td>\n",
              "      <td>0</td>\n",
              "    </tr>\n",
              "    <tr>\n",
              "      <th>3917</th>\n",
              "      <td>18282</td>\n",
              "      <td>8</td>\n",
              "      <td>12</td>\n",
              "      <td>178.05</td>\n",
              "      <td>2</td>\n",
              "      <td>2.197225</td>\n",
              "      <td>2.564949</td>\n",
              "      <td>5.187665</td>\n",
              "      <td>1</td>\n",
              "    </tr>\n",
              "    <tr>\n",
              "      <th>3918</th>\n",
              "      <td>18283</td>\n",
              "      <td>4</td>\n",
              "      <td>756</td>\n",
              "      <td>2094.88</td>\n",
              "      <td>2</td>\n",
              "      <td>1.609438</td>\n",
              "      <td>6.629363</td>\n",
              "      <td>7.647729</td>\n",
              "      <td>2</td>\n",
              "    </tr>\n",
              "    <tr>\n",
              "      <th>3919</th>\n",
              "      <td>18287</td>\n",
              "      <td>43</td>\n",
              "      <td>70</td>\n",
              "      <td>1837.28</td>\n",
              "      <td>2</td>\n",
              "      <td>3.784190</td>\n",
              "      <td>4.262680</td>\n",
              "      <td>7.516586</td>\n",
              "      <td>1</td>\n",
              "    </tr>\n",
              "  </tbody>\n",
              "</table>\n",
              "<p>3920 rows × 9 columns</p>\n",
              "</div>\n",
              "      <button class=\"colab-df-convert\" onclick=\"convertToInteractive('df-2a92757c-4700-41f9-8b3f-016f2b017945')\"\n",
              "              title=\"Convert this dataframe to an interactive table.\"\n",
              "              style=\"display:none;\">\n",
              "        \n",
              "  <svg xmlns=\"http://www.w3.org/2000/svg\" height=\"24px\"viewBox=\"0 0 24 24\"\n",
              "       width=\"24px\">\n",
              "    <path d=\"M0 0h24v24H0V0z\" fill=\"none\"/>\n",
              "    <path d=\"M18.56 5.44l.94 2.06.94-2.06 2.06-.94-2.06-.94-.94-2.06-.94 2.06-2.06.94zm-11 1L8.5 8.5l.94-2.06 2.06-.94-2.06-.94L8.5 2.5l-.94 2.06-2.06.94zm10 10l.94 2.06.94-2.06 2.06-.94-2.06-.94-.94-2.06-.94 2.06-2.06.94z\"/><path d=\"M17.41 7.96l-1.37-1.37c-.4-.4-.92-.59-1.43-.59-.52 0-1.04.2-1.43.59L10.3 9.45l-7.72 7.72c-.78.78-.78 2.05 0 2.83L4 21.41c.39.39.9.59 1.41.59.51 0 1.02-.2 1.41-.59l7.78-7.78 2.81-2.81c.8-.78.8-2.07 0-2.86zM5.41 20L4 18.59l7.72-7.72 1.47 1.35L5.41 20z\"/>\n",
              "  </svg>\n",
              "      </button>\n",
              "      \n",
              "  <style>\n",
              "    .colab-df-container {\n",
              "      display:flex;\n",
              "      flex-wrap:wrap;\n",
              "      gap: 12px;\n",
              "    }\n",
              "\n",
              "    .colab-df-convert {\n",
              "      background-color: #E8F0FE;\n",
              "      border: none;\n",
              "      border-radius: 50%;\n",
              "      cursor: pointer;\n",
              "      display: none;\n",
              "      fill: #1967D2;\n",
              "      height: 32px;\n",
              "      padding: 0 0 0 0;\n",
              "      width: 32px;\n",
              "    }\n",
              "\n",
              "    .colab-df-convert:hover {\n",
              "      background-color: #E2EBFA;\n",
              "      box-shadow: 0px 1px 2px rgba(60, 64, 67, 0.3), 0px 1px 3px 1px rgba(60, 64, 67, 0.15);\n",
              "      fill: #174EA6;\n",
              "    }\n",
              "\n",
              "    [theme=dark] .colab-df-convert {\n",
              "      background-color: #3B4455;\n",
              "      fill: #D2E3FC;\n",
              "    }\n",
              "\n",
              "    [theme=dark] .colab-df-convert:hover {\n",
              "      background-color: #434B5C;\n",
              "      box-shadow: 0px 1px 3px 1px rgba(0, 0, 0, 0.15);\n",
              "      filter: drop-shadow(0px 1px 2px rgba(0, 0, 0, 0.3));\n",
              "      fill: #FFFFFF;\n",
              "    }\n",
              "  </style>\n",
              "\n",
              "      <script>\n",
              "        const buttonEl =\n",
              "          document.querySelector('#df-2a92757c-4700-41f9-8b3f-016f2b017945 button.colab-df-convert');\n",
              "        buttonEl.style.display =\n",
              "          google.colab.kernel.accessAllowed ? 'block' : 'none';\n",
              "\n",
              "        async function convertToInteractive(key) {\n",
              "          const element = document.querySelector('#df-2a92757c-4700-41f9-8b3f-016f2b017945');\n",
              "          const dataTable =\n",
              "            await google.colab.kernel.invokeFunction('convertToInteractive',\n",
              "                                                     [key], {});\n",
              "          if (!dataTable) return;\n",
              "\n",
              "          const docLinkHtml = 'Like what you see? Visit the ' +\n",
              "            '<a target=\"_blank\" href=https://colab.research.google.com/notebooks/data_table.ipynb>data table notebook</a>'\n",
              "            + ' to learn more about interactive tables.';\n",
              "          element.innerHTML = '';\n",
              "          dataTable['output_type'] = 'display_data';\n",
              "          await google.colab.output.renderOutput(dataTable, element);\n",
              "          const docLink = document.createElement('div');\n",
              "          docLink.innerHTML = docLinkHtml;\n",
              "          element.appendChild(docLink);\n",
              "        }\n",
              "      </script>\n",
              "    </div>\n",
              "  </div>\n",
              "  "
            ]
          },
          "metadata": {},
          "execution_count": 245
        }
      ]
    },
    {
      "cell_type": "code",
      "source": [
        "label_diff = uk_rfm['cluster label'] - uk_rfm['cluster log_label']"
      ],
      "metadata": {
        "id": "lYz3AbR6b1WL"
      },
      "execution_count": 246,
      "outputs": []
    },
    {
      "cell_type": "code",
      "source": [
        "label_diff.value_counts()"
      ],
      "metadata": {
        "colab": {
          "base_uri": "https://localhost:8080/"
        },
        "id": "vuJZ5bjocOoq",
        "outputId": "79a1b52a-b1c4-4438-c708-95e69c87f681"
      },
      "execution_count": 247,
      "outputs": [
        {
          "output_type": "execute_result",
          "data": {
            "text/plain": [
              " 1    2294\n",
              " 0    1022\n",
              " 2     589\n",
              "-2      14\n",
              "-1       1\n",
              "dtype: int64"
            ]
          },
          "metadata": {},
          "execution_count": 247
        }
      ]
    },
    {
      "cell_type": "markdown",
      "source": [
        "#### 최적의 k 찾기 - inertia 탐색\n",
        "- 엘보우(elbow) 방법 : 이니셔(inertia)의 변화를 관찰\n",
        "- 이니셔(inertia): 클러스터 중심과 클러스터에 속한 샘플 사이의 거리의 제곱 합"
      ],
      "metadata": {
        "id": "AtXDL4C4VGXr"
      }
    },
    {
      "cell_type": "code",
      "source": [
        "inertia = []\n",
        "\n",
        "for k in range(2, 7):\n",
        "  km = KMeans(n_clusters = k)\n",
        "  km.fit(features_scaled)\n",
        "  inertia.append(km.inertia_)"
      ],
      "metadata": {
        "id": "hip1mbnqTcCB"
      },
      "execution_count": 248,
      "outputs": []
    },
    {
      "cell_type": "code",
      "source": [
        "# inertia 변화 시각화\n",
        "plt.plot(range(2, 7), inertia)\n",
        "plt.xlabel('k')\n",
        "plt.ylabel('inertia')"
      ],
      "metadata": {
        "colab": {
          "base_uri": "https://localhost:8080/",
          "height": 297
        },
        "id": "TxM6BiCOVYlx",
        "outputId": "c69cfb07-8273-4fae-e958-ce9894cff89b"
      },
      "execution_count": 249,
      "outputs": [
        {
          "output_type": "execute_result",
          "data": {
            "text/plain": [
              "Text(0, 0.5, 'inertia')"
            ]
          },
          "metadata": {},
          "execution_count": 249
        },
        {
          "output_type": "display_data",
          "data": {
            "text/plain": [
              "<Figure size 432x288 with 1 Axes>"
            ],
            "image/png": "[encoded data removed]"
          },
          "metadata": {}
        }
      ]
    },
    {
      "cell_type": "code",
      "source": [
        "inertia = []\n",
        "\n",
        "for k in range(2, 7):\n",
        "  km = KMeans(n_clusters = k)\n",
        "  km.fit(log_features_scaled)\n",
        "  inertia.append(km.inertia_)"
      ],
      "metadata": {
        "id": "wsJoR073VeQm"
      },
      "execution_count": 250,
      "outputs": []
    },
    {
      "cell_type": "code",
      "source": [
        "plt.plot(range(2, 7), inertia)\n",
        "plt.xlabel('k')\n",
        "plt.ylabel('inertia')"
      ],
      "metadata": {
        "colab": {
          "base_uri": "https://localhost:8080/",
          "height": 297
        },
        "id": "eFkB7CZwVsH9",
        "outputId": "b17a5f7f-f2b1-411f-8e3d-4b928343335b"
      },
      "execution_count": 251,
      "outputs": [
        {
          "output_type": "execute_result",
          "data": {
            "text/plain": [
              "Text(0, 0.5, 'inertia')"
            ]
          },
          "metadata": {},
          "execution_count": 251
        },
        {
          "output_type": "display_data",
          "data": {
            "text/plain": [
              "<Figure size 432x288 with 1 Axes>"
            ],
            "image/png": "[encoded data removed]"
          },
          "metadata": {}
        }
      ]
    },
    {
      "cell_type": "markdown",
      "source": [
        "- k=3 일 때, 그래프의 기울기가 조금 바뀐 것 같지만 뚜렷하지는 않음"
      ],
      "metadata": {
        "id": "yHN3sFtVVzvW"
      }
    }
  ]
}