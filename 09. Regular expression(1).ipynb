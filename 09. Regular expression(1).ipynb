{
  "nbformat": 4,
  "nbformat_minor": 0,
  "metadata": {
    "colab": {
      "provenance": []
    },
    "kernelspec": {
      "name": "python3",
      "display_name": "Python 3"
    },
    "language_info": {
      "name": "python"
    }
  },
  "cells": [
    {
      "cell_type": "markdown",
      "source": [
        "#### 정규표현식\n",
        "- regular expression\n",
        "- 기존 문자열 분석 함수를 이용해서 문자열을 분석하는 경우 대부분\n",
        "- 정규표현식은 나만의 패턴, 규칙을 만들어서 문자열을 분석\n",
        "- (나만의 패턴, 나만의 규칙) -> 특정상황에서 필요한 전처리"
      ],
      "metadata": {
        "id": "fkJomrtdHfpJ"
      }
    },
    {
      "cell_type": "markdown",
      "source": [
        "#### 대표적인 2가지 정규 표현식 찾는 함수\n",
        "- match \n",
        " - 첫 인덱스에 내가 원하는 문자열이 없으면 뒤도 안 돌아본다! 냉정하다\n",
        "- search \n",
        " - 서치는 전체에서 내가 원하는 문자열을 찾아준다! 배려심"
      ],
      "metadata": {
        "id": "dl7vKnb5H1Eu"
      }
    },
    {
      "cell_type": "code",
      "execution_count": null,
      "metadata": {
        "id": "anS3pXRgCRRy"
      },
      "outputs": [],
      "source": [
        "import re # 정규표현식 불러오기"
      ]
    },
    {
      "cell_type": "markdown",
      "source": [
        "- re.match('패턴', '문자열')\n",
        "- 맨 처음 인덱스에 본인이 원하는 문자열이 나오지 않으면 No matching"
      ],
      "metadata": {
        "id": "aMxC41zNH9h6"
      }
    },
    {
      "cell_type": "code",
      "source": [
        "re.match('Hello', 'Hello, Python, Hi, R') # Hello를 찾는 정규식"
      ],
      "metadata": {
        "colab": {
          "base_uri": "https://localhost:8080/"
        },
        "id": "Z488KBXmHv03",
        "outputId": "a1456d2f-8442-4354-bf77-b85ef9b261c2"
      },
      "execution_count": null,
      "outputs": [
        {
          "output_type": "execute_result",
          "data": {
            "text/plain": [
              "<re.Match object; span=(0, 5), match='Hello'>"
            ]
          },
          "metadata": {},
          "execution_count": 2
        }
      ]
    },
    {
      "cell_type": "code",
      "source": [
        "re.match('Python', 'Python Hello, Hi, R') # Python을 찾는 정규식"
      ],
      "metadata": {
        "colab": {
          "base_uri": "https://localhost:8080/"
        },
        "id": "JXdUkTsTIM-L",
        "outputId": "cdc75e6f-f5e9-4244-89ff-958516819e2a"
      },
      "execution_count": null,
      "outputs": [
        {
          "output_type": "execute_result",
          "data": {
            "text/plain": [
              "<re.Match object; span=(0, 6), match='Python'>"
            ]
          },
          "metadata": {},
          "execution_count": 3
        }
      ]
    },
    {
      "cell_type": "code",
      "source": [
        "re.match('hello', 'Hello, Python') # 대소문자 같아야하고"
      ],
      "metadata": {
        "id": "8KBz7805IW-l"
      },
      "execution_count": null,
      "outputs": []
    },
    {
      "cell_type": "code",
      "source": [
        "re.match('hello', 'Python, hello') # 뒤에 있으면 찾지 못함"
      ],
      "metadata": {
        "id": "eNZlvBLDIlni"
      },
      "execution_count": null,
      "outputs": []
    },
    {
      "cell_type": "code",
      "source": [
        "re.search('hello', 'Python, hello') # match와 다르게 search는 어디에 있든 찾아줌"
      ],
      "metadata": {
        "colab": {
          "base_uri": "https://localhost:8080/"
        },
        "id": "hH5utzqII2AA",
        "outputId": "0c810dc4-ad0f-4ce9-8344-00be840b13d2"
      },
      "execution_count": null,
      "outputs": [
        {
          "output_type": "execute_result",
          "data": {
            "text/plain": [
              "<re.Match object; span=(8, 13), match='hello'>"
            ]
          },
          "metadata": {},
          "execution_count": 6
        }
      ]
    },
    {
      "cell_type": "markdown",
      "source": [
        "#### 정규식을 표현하는 방법\n",
        "- 쉽게 사용할 수 있는 정규표현식\n",
        "- [0-9]*\n",
        "- [0-9]+\n",
        "- '*' 는 문자, 숫자가 0개 이상 있는지\n",
        "- '+' 는 문자, 숫자가 1개 이상 있는지\n",
        "- [0-9] 는 모든 숫자"
      ],
      "metadata": {
        "id": "eu7zDL-TJI-S"
      }
    },
    {
      "cell_type": "code",
      "source": [
        "re.match('[0-9]', '12312486751313') # 숫자를 찾는 정규식"
      ],
      "metadata": {
        "colab": {
          "base_uri": "https://localhost:8080/"
        },
        "id": "W0tJV74qJ3mP",
        "outputId": "2a355139-9c34-4d04-e881-5d718b22216e"
      },
      "execution_count": null,
      "outputs": [
        {
          "output_type": "execute_result",
          "data": {
            "text/plain": [
              "<re.Match object; span=(0, 1), match='1'>"
            ]
          },
          "metadata": {},
          "execution_count": 7
        }
      ]
    },
    {
      "cell_type": "code",
      "source": [
        "re.match('[0-9]', 'aaaaa12312486751313') # 첫 인덱스에 없기 때문에 no match"
      ],
      "metadata": {
        "id": "Vf7BH9vZJIfy"
      },
      "execution_count": null,
      "outputs": []
    },
    {
      "cell_type": "code",
      "source": [
        "re.search('[0-9]', 'aaaaa12312486751313') # search는 어디에 있든 찾아줌"
      ],
      "metadata": {
        "colab": {
          "base_uri": "https://localhost:8080/"
        },
        "id": "4fjfUzfAJHY6",
        "outputId": "cc82e6e7-1393-4ccd-e26b-47612759bfc3"
      },
      "execution_count": null,
      "outputs": [
        {
          "output_type": "execute_result",
          "data": {
            "text/plain": [
              "<re.Match object; span=(5, 6), match='1'>"
            ]
          },
          "metadata": {},
          "execution_count": 9
        }
      ]
    },
    {
      "cell_type": "markdown",
      "source": [
        "- 모든 숫자를 찾는 방법"
      ],
      "metadata": {
        "id": "BZNn65I0KVTW"
      }
    },
    {
      "cell_type": "code",
      "source": [
        "re.match('[0-9]', '01000000000') # 숫자 하나만 match"
      ],
      "metadata": {
        "colab": {
          "base_uri": "https://localhost:8080/"
        },
        "id": "9Qxru6xOKT5y",
        "outputId": "2fb4d5dd-3d5a-4ef6-b102-8a1bbd26a119"
      },
      "execution_count": null,
      "outputs": [
        {
          "output_type": "execute_result",
          "data": {
            "text/plain": [
              "<re.Match object; span=(0, 1), match='0'>"
            ]
          },
          "metadata": {},
          "execution_count": 10
        }
      ]
    },
    {
      "cell_type": "code",
      "source": [
        "re.match('[0-9]*', '01000000000') # 메타문자 * 를 사용하여 모든 숫자를 match"
      ],
      "metadata": {
        "colab": {
          "base_uri": "https://localhost:8080/"
        },
        "id": "PY3Jo4gdKj-u",
        "outputId": "d4dbf990-1591-42f7-89b5-288ce57353ae"
      },
      "execution_count": null,
      "outputs": [
        {
          "output_type": "execute_result",
          "data": {
            "text/plain": [
              "<re.Match object; span=(0, 11), match='01000000000'>"
            ]
          },
          "metadata": {},
          "execution_count": 11
        }
      ]
    },
    {
      "cell_type": "code",
      "source": [
        "re.match('[0-9]+', '01000000000') # 메타문자 + 를 사용하여 모든 숫자를 match"
      ],
      "metadata": {
        "colab": {
          "base_uri": "https://localhost:8080/"
        },
        "id": "UaPOr3idKmBr",
        "outputId": "2e89db00-6cff-46ce-b2f5-704cc039d2b7"
      },
      "execution_count": null,
      "outputs": [
        {
          "output_type": "execute_result",
          "data": {
            "text/plain": [
              "<re.Match object; span=(0, 11), match='01000000000'>"
            ]
          },
          "metadata": {},
          "execution_count": 12
        }
      ]
    },
    {
      "cell_type": "code",
      "source": [
        "re.search('[0-9]+', '홍길동 휴대전화번호 : 01000000000') # search메서드와 메타문자 + 를 사용하여 모든 숫자를 match"
      ],
      "metadata": {
        "colab": {
          "base_uri": "https://localhost:8080/"
        },
        "id": "h-vvG4SVKrtM",
        "outputId": "600b112a-edb1-4443-dfd6-3bce5df32310"
      },
      "execution_count": null,
      "outputs": [
        {
          "output_type": "execute_result",
          "data": {
            "text/plain": [
              "<re.Match object; span=(13, 24), match='01000000000'>"
            ]
          },
          "metadata": {},
          "execution_count": 13
        }
      ]
    },
    {
      "cell_type": "markdown",
      "source": [
        "#### 문자 개수 판단하기\n",
        "- 문자가 정확히 몇 개 있나?\n",
        "- 문자{개수}\n",
        "- (문자열){개수}"
      ],
      "metadata": {
        "id": "_-F0XS9lK-ZZ"
      }
    },
    {
      "cell_type": "code",
      "source": [
        "re.match('h{5}', 'hhhhhhello') # h 5개 찾는 방법"
      ],
      "metadata": {
        "colab": {
          "base_uri": "https://localhost:8080/"
        },
        "id": "py_hTFE5LKol",
        "outputId": "6b665a2d-8965-4abe-c3e5-df5733a6a64f"
      },
      "execution_count": null,
      "outputs": [
        {
          "output_type": "execute_result",
          "data": {
            "text/plain": [
              "<re.Match object; span=(0, 5), match='hhhhh'>"
            ]
          },
          "metadata": {},
          "execution_count": 14
        }
      ]
    },
    {
      "cell_type": "code",
      "source": [
        "re.match('h{5}', 'aaaahhhhhhello') # 첫 인덱스에 없으므로 no match"
      ],
      "metadata": {
        "id": "g8I-IdMSLQzO"
      },
      "execution_count": null,
      "outputs": []
    },
    {
      "cell_type": "code",
      "source": [
        "re.match('(hi){3}', 'hihihihhhello') # hi 3개 match"
      ],
      "metadata": {
        "colab": {
          "base_uri": "https://localhost:8080/"
        },
        "id": "ybwzTee-LXPC",
        "outputId": "dfae1f88-79ba-4745-b6c2-bc9c3726b82a"
      },
      "execution_count": null,
      "outputs": [
        {
          "output_type": "execute_result",
          "data": {
            "text/plain": [
              "<re.Match object; span=(0, 6), match='hihihi'>"
            ]
          },
          "metadata": {},
          "execution_count": 16
        }
      ]
    },
    {
      "cell_type": "code",
      "source": [
        "# 번호 3개 - 번호 4개 - 번호 4개\n",
        "re.search('[0-9]{3}-[0-9]{4}-[0-9]{4}', '010-1234-5678')"
      ],
      "metadata": {
        "colab": {
          "base_uri": "https://localhost:8080/"
        },
        "id": "Fs-AOvzQLcxa",
        "outputId": "70357ee2-64cd-416e-e0a8-ef9396cfd395"
      },
      "execution_count": null,
      "outputs": [
        {
          "output_type": "execute_result",
          "data": {
            "text/plain": [
              "<re.Match object; span=(0, 13), match='010-1234-5678'>"
            ]
          },
          "metadata": {},
          "execution_count": 17
        }
      ]
    },
    {
      "cell_type": "code",
      "source": [
        "re.search('[0-9]*-[0-9]*-[0-9]*', '010-1234-567890')"
      ],
      "metadata": {
        "colab": {
          "base_uri": "https://localhost:8080/"
        },
        "id": "A1j0vH7EMjco",
        "outputId": "e1222e1f-ac8d-49c9-f708-0bcf64260991"
      },
      "execution_count": null,
      "outputs": [
        {
          "output_type": "execute_result",
          "data": {
            "text/plain": [
              "<re.Match object; span=(0, 15), match='010-1234-567890'>"
            ]
          },
          "metadata": {},
          "execution_count": 18
        }
      ]
    },
    {
      "cell_type": "markdown",
      "source": [
        "- 영문, 한글\n",
        "- 영문 [a-z], [A-Z]\n",
        "- 한글 [가-힣], [ㄱ-ㅎ], [ㅏ-ㅣ]"
      ],
      "metadata": {
        "id": "s5PMYTFiNJYM"
      }
    },
    {
      "cell_type": "code",
      "source": [
        "re.match('[a-z]*', 'asdfa@dasfef') # 특수문자 이후로는 못 가져옴"
      ],
      "metadata": {
        "colab": {
          "base_uri": "https://localhost:8080/"
        },
        "id": "A6_HGvFkNIUO",
        "outputId": "dcc4b642-225b-411b-cd13-a8721d913889"
      },
      "execution_count": null,
      "outputs": [
        {
          "output_type": "execute_result",
          "data": {
            "text/plain": [
              "<re.Match object; span=(0, 5), match='asdfa'>"
            ]
          },
          "metadata": {},
          "execution_count": 19
        }
      ]
    },
    {
      "cell_type": "code",
      "source": [
        "re.search('[a-z]*', 'asdfa@dasfef') # search 역시 특수문자 이후로는 no match"
      ],
      "metadata": {
        "colab": {
          "base_uri": "https://localhost:8080/"
        },
        "id": "6gPhOpdOqQUr",
        "outputId": "7444d6e7-6816-4499-bc70-1e8f5348caeb"
      },
      "execution_count": null,
      "outputs": [
        {
          "output_type": "execute_result",
          "data": {
            "text/plain": [
              "<re.Match object; span=(0, 5), match='asdfa'>"
            ]
          },
          "metadata": {},
          "execution_count": 28
        }
      ]
    },
    {
      "cell_type": "code",
      "source": [
        "re.match('[a-z]', 'ADDFDAE@dasfef') # 첫 인덱스에 없으므로 no match"
      ],
      "metadata": {
        "id": "EcR2Sl3HNbuQ"
      },
      "execution_count": null,
      "outputs": []
    },
    {
      "cell_type": "code",
      "source": [
        "re.match('[a-z]*', 'ADDFDAE@dasfef') # 메타문자 * 가 0개이상을 의미하므로 0개가 match 되었다고 리턴"
      ],
      "metadata": {
        "colab": {
          "base_uri": "https://localhost:8080/"
        },
        "id": "TMF-7YX_N1Au",
        "outputId": "40d55abb-21c1-4f47-eb8e-8cd93f9d979a"
      },
      "execution_count": null,
      "outputs": [
        {
          "output_type": "execute_result",
          "data": {
            "text/plain": [
              "<re.Match object; span=(0, 0), match=''>"
            ]
          },
          "metadata": {},
          "execution_count": 21
        }
      ]
    },
    {
      "cell_type": "code",
      "source": [
        "re.match('[a-z]+', 'ADDFDAE@dasfef') # 위 코드와 비교"
      ],
      "metadata": {
        "id": "JHvh4tw3N6ay"
      },
      "execution_count": null,
      "outputs": []
    },
    {
      "cell_type": "code",
      "source": [
        "re.match('[a-zA-Z]*', 'ADDFDAE@dasfef') # 소문자 알파벳과 대문자 알파벳을 0개 이상 match 특수문자 전까지!"
      ],
      "metadata": {
        "colab": {
          "base_uri": "https://localhost:8080/"
        },
        "id": "JXKnuheRNllM",
        "outputId": "a184ba59-dde8-4854-ee2b-3bb1280001d6"
      },
      "execution_count": null,
      "outputs": [
        {
          "output_type": "execute_result",
          "data": {
            "text/plain": [
              "<re.Match object; span=(0, 7), match='ADDFDAE'>"
            ]
          },
          "metadata": {},
          "execution_count": 23
        }
      ]
    },
    {
      "cell_type": "code",
      "source": [
        "re.match('[a-zA-Z0-9]*', '1234ADDFDAE@dasfef') # 소문자 알파벳과 대문자 알파벳 그리고 숫자를 0개 이상 match 특수문자 전까지!"
      ],
      "metadata": {
        "colab": {
          "base_uri": "https://localhost:8080/"
        },
        "id": "6SmdC7KCNoyQ",
        "outputId": "742d0d7e-041d-48ef-b265-02bb6e775bcc"
      },
      "execution_count": null,
      "outputs": [
        {
          "output_type": "execute_result",
          "data": {
            "text/plain": [
              "<re.Match object; span=(0, 11), match='1234ADDFDAE'>"
            ]
          },
          "metadata": {},
          "execution_count": 24
        }
      ]
    },
    {
      "cell_type": "code",
      "source": [
        "re.match('[가-힣]+', 'adffdasf 서울특별시 1231') # 한글을 0개 이상 match하지만 첫 인덱스에 없으므로 no match"
      ],
      "metadata": {
        "id": "o4OMT2YwOOZr"
      },
      "execution_count": null,
      "outputs": []
    },
    {
      "cell_type": "code",
      "source": [
        "re.search('[가-힣]+', 'adffdasf 서울특별시 1231') # match 대신 search를 이용하여 match 성공공"
      ],
      "metadata": {
        "colab": {
          "base_uri": "https://localhost:8080/"
        },
        "id": "1oe3lvboN9ME",
        "outputId": "7d6574ff-fb76-4844-f6a6-af8d9db4ddc6"
      },
      "execution_count": null,
      "outputs": [
        {
          "output_type": "execute_result",
          "data": {
            "text/plain": [
              "<re.Match object; span=(9, 14), match='서울특별시'>"
            ]
          },
          "metadata": {},
          "execution_count": 26
        }
      ]
    }
  ]
}