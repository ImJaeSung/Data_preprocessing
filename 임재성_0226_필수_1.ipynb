{
  "nbformat": 4,
  "nbformat_minor": 0,
  "metadata": {
    "colab": {
      "provenance": []
    },
    "kernelspec": {
      "name": "python3",
      "display_name": "Python 3"
    },
    "language_info": {
      "name": "python"
    }
  },
  "cells": [
    {
      "cell_type": "markdown",
      "source": [
        "#### 필수과제\n",
        "- 현재 알려드린 것 외에 추가 정규표현식 5개 이상 찾고 개념정리 및 코드 정리 결과 설명"
      ],
      "metadata": {
        "id": "IwFU0VLNshKE"
      }
    },
    {
      "cell_type": "markdown",
      "source": [
        "#### 메타 문자\n",
        "1. 문자 클래스[ ]\n",
        " - [  ] 사이의 문자들과 매치라는 의미\n",
        " - 하이픈(-)을 사용하면 두 문자 사이의 범위를 의미\n",
        " - \\d = [0-9] : 숫자와 매치 \n",
        " - \\s = [ \\t\\n\\r\\f\\v] : whitespace 문자와 매치\n",
        " - \\w = [a-zA-Z0-9] : 문자+숫자와 매치\n",
        "2. Dot(.)\n",
        " - 정규 표현식의 Dot(.) 메타 문자는 줄바꿈 문자인 \\n을 제외한 모든 문자와 매치됨을 의미\n",
        "3. 반복(*)\n",
        " - 정규식에서 반복을 의미하는 * 메타 문자는 * 바로 앞에 있는 문자가 0부터 무한대로 반복될 수 있다는 의미 \n",
        "4. 반복(+)\n",
        " - 반복을 나타내는 또 다른 메타 문자로 + 가 있는데 이는 최소 1번 이상 반복될 때 사용\n",
        "5. 반복({m,n})\n",
        " - {} 메타 문자를 사용하면 반복 횟수를 고정할 수 있음\n",
        " - {m, n} 정규식을 사용하면 반복 횟수가 m부터 n까지 매치할 수 있음\n",
        " - {1,}은 + 와 동일, {0,}은 * 과 동일\n",
        "6. ?\n",
        " - ? 메타 문자가 의미하는 것은 {0, 1}\n",
        " - 있어도 되고 없어도 된다는 의미\n",
        "7. |\n",
        " - | 메타 문자는 or 과 동일한 의미로 사용\n",
        " - A|B : A 또는 B 라는 의미\n",
        "8. ^\n",
        " - ^ 메타 문자는 문자열의 맨 처음과 일치함을 의미\n",
        " - \\^ 로 사용하여 문자 그 자체로 매치 가능\n",
        " - \\A 도 같은 기능\n",
        "9. \\$\n",
        " - $ 메타 문자는 문자열의 끝과 매치함을 의미\n",
        " - ^ 메타 문자와 반대\n",
        " - \\$ 로 사용하여 문자 그 자체로 매치 가능\n",
        " - \\Z 도 같은 기능\n",
        "10. \\b\n",
        " - 단어 구분자(word boundary)로 보통 단어는 whitespace에 의해 구분됨됨"
      ],
      "metadata": {
        "id": "8pMYLh7dt5xO"
      }
    },
    {
      "cell_type": "markdown",
      "source": [
        "#### re.compile \n",
        " - re.compile 을 사용하여 정규표현식을 컴파일 함.\n",
        " - 결과롤 돌려주는 객체로 작업 수행 가능"
      ],
      "metadata": {
        "id": "dtlplCqAyoDM"
      }
    },
    {
      "cell_type": "code",
      "source": [
        "import re"
      ],
      "metadata": {
        "id": "ixfgqDLPxV4t"
      },
      "execution_count": null,
      "outputs": []
    },
    {
      "cell_type": "code",
      "source": [
        "p = re.compile('[a-z]+') # 알파벳 소문자가 최소 1번이상 반복\n",
        "                         # re.compile의 결과로 돌려주는 객체 p를 사용하여 작업 수행 가능\n",
        "                         # p를 패턴 객체"
      ],
      "metadata": {
        "id": "DdQyhic1zZnD"
      },
      "execution_count": null,
      "outputs": []
    },
    {
      "cell_type": "markdown",
      "source": [
        "#### compile 옵션\n",
        "- DOTALL(S) : . 이 줄바꿈 문자르 포함하여 모든 문자와 매치할 수 있도록 함\n",
        "- IGNORECASE(I) : 대소문자에 관계없이 매치할 수 있도록 함\n",
        "- MULTILINE(M) : 여러줄과 매치할 수 있도록 함\n",
        "- VERBOSE(X) : verbose 모드를 사용할 수 있도록 함, 정규식을 보기 편하게 만들고 주석 등을 사용할 수 있게 해줌"
      ],
      "metadata": {
        "id": "8PrTH_qp4xid"
      }
    },
    {
      "cell_type": "code",
      "source": [
        "### DOTALL\n",
        "p = re.compile('a.b')\n",
        "m = p.match('a\\nb')\n",
        "print(m)"
      ],
      "metadata": {
        "colab": {
          "base_uri": "https://localhost:8080/"
        },
        "id": "yQCsboyN54zQ",
        "outputId": "081ca663-05af-4c79-bb41-fb1061cda973"
      },
      "execution_count": null,
      "outputs": [
        {
          "output_type": "stream",
          "name": "stdout",
          "text": [
            "None\n"
          ]
        }
      ]
    },
    {
      "cell_type": "code",
      "source": [
        "p = re.compile('a.b', re.DOTALL)\n",
        "m = p.match('a\\nb')\n",
        "print(m)"
      ],
      "metadata": {
        "colab": {
          "base_uri": "https://localhost:8080/"
        },
        "id": "XLsLfmn26CdR",
        "outputId": "fec132df-0623-4878-c9e3-f5faadac48e6"
      },
      "execution_count": null,
      "outputs": [
        {
          "output_type": "stream",
          "name": "stdout",
          "text": [
            "<re.Match object; span=(0, 3), match='a\\nb'>\n"
          ]
        }
      ]
    },
    {
      "cell_type": "code",
      "source": [
        "## IGNORECASE, I\n",
        "p = re.compile('[a-z]+', re.I)\n",
        "p.match('python')"
      ],
      "metadata": {
        "colab": {
          "base_uri": "https://localhost:8080/"
        },
        "id": "nu7GFRwa6AiO",
        "outputId": "ff3d50db-51df-44d8-dcfe-94e16f40d747"
      },
      "execution_count": null,
      "outputs": [
        {
          "output_type": "execute_result",
          "data": {
            "text/plain": [
              "<re.Match object; span=(0, 6), match='python'>"
            ]
          },
          "metadata": {},
          "execution_count": 47
        }
      ]
    },
    {
      "cell_type": "code",
      "source": [
        "p.match('PYTHON')"
      ],
      "metadata": {
        "colab": {
          "base_uri": "https://localhost:8080/"
        },
        "id": "pUMh5aQU6qDn",
        "outputId": "d9fa3007-0c12-4510-810c-6f22c1f999f8"
      },
      "execution_count": null,
      "outputs": [
        {
          "output_type": "execute_result",
          "data": {
            "text/plain": [
              "<re.Match object; span=(0, 6), match='PYTHON'>"
            ]
          },
          "metadata": {},
          "execution_count": 48
        }
      ]
    },
    {
      "cell_type": "code",
      "source": [
        "p.match('Python')"
      ],
      "metadata": {
        "colab": {
          "base_uri": "https://localhost:8080/"
        },
        "id": "0jCfTYM66sEO",
        "outputId": "9f327533-e6b9-4a3f-aa95-3e37e7e6ef9e"
      },
      "execution_count": null,
      "outputs": [
        {
          "output_type": "execute_result",
          "data": {
            "text/plain": [
              "<re.Match object; span=(0, 6), match='Python'>"
            ]
          },
          "metadata": {},
          "execution_count": 49
        }
      ]
    },
    {
      "cell_type": "code",
      "source": [
        "### MULTILINE, M\n",
        "p = re.compile('^python\\s\\w+') # python 이라는 문자열로 시작하고 그 뒤에 whitespace, 그 뒤에 단어가 와야 한다는 의미\n",
        "data = \"\"\"python one\n",
        "life is too short\n",
        "python two\n",
        "you need python\n",
        "python three\"\"\"\n",
        "\n",
        "print(p.match(data))\n",
        "print(p.findall(data))"
      ],
      "metadata": {
        "colab": {
          "base_uri": "https://localhost:8080/"
        },
        "id": "oBVP23216wI7",
        "outputId": "df3959c4-6815-4034-fe95-2483785266eb"
      },
      "execution_count": null,
      "outputs": [
        {
          "output_type": "stream",
          "name": "stdout",
          "text": [
            "<re.Match object; span=(0, 10), match='python one'>\n",
            "['python one']\n"
          ]
        }
      ]
    },
    {
      "cell_type": "code",
      "source": [
        "p = re.compile('^python\\s\\w+', re.M) # ^ 메타 문자를 문자열 전체의 처음이 아니라 각 라인의 처음으로 인식시키고 싶은 경우\n",
        "data = \"\"\"python one\n",
        "life is too short\n",
        "python two\n",
        "you need python\n",
        "python three\"\"\"\n",
        "\n",
        "print(p.match(data))\n",
        "print(p.findall(data))"
      ],
      "metadata": {
        "colab": {
          "base_uri": "https://localhost:8080/"
        },
        "id": "IZrwYWEs8aau",
        "outputId": "992b6568-a093-4993-ceff-cdf82a0a0802"
      },
      "execution_count": null,
      "outputs": [
        {
          "output_type": "stream",
          "name": "stdout",
          "text": [
            "<re.Match object; span=(0, 10), match='python one'>\n",
            "['python one', 'python two', 'python three']\n"
          ]
        }
      ]
    },
    {
      "cell_type": "code",
      "source": [
        "## VERBOSE, X\n",
        "charref = re.compile(r'&[#](0[0-7]+\\[0-9]+\\*[0-9a-fA-F]+);')"
      ],
      "metadata": {
        "id": "UfxRCu9h_PR3"
      },
      "execution_count": null,
      "outputs": []
    },
    {
      "cell_type": "code",
      "source": [
        "charref = re.com3 pile(r\"\"\"\n",
        "&[#]              # 숫자 형태\n",
        "(\n",
        "  0[0-7]+         # 8진수 형태\n",
        "  |[0-9]+         # 10진수 형태\n",
        "  |*[0-9a-fA-F]+  # 16진수 형태\n",
        "   )\n",
        "  ;               # trailing semicolon\n",
        "  \"\"\", re.VERBOSE)  # re.VERBOSE 옵션은 문자열에 사용된 whitespace를 컴파일할 때 제거 \n",
        "                    # 줄 단위로 주석문을 작성할 수 있음음"
      ],
      "metadata": {
        "id": "OfBPEVGMAR1s"
      },
      "execution_count": null,
      "outputs": []
    },
    {
      "cell_type": "markdown",
      "source": [
        "##### bachslash 문제\n",
        "- '\\section' 문자열을 찾는 문제\n",
        "- \\s가 whitespace로 해석됨"
      ],
      "metadata": {
        "id": "WITJeQy1CDlL"
      }
    },
    {
      "cell_type": "code",
      "source": [
        "p = re.compile('\\section')"
      ],
      "metadata": {
        "id": "v1PH8WF-DpF2"
      },
      "execution_count": null,
      "outputs": []
    },
    {
      "cell_type": "code",
      "source": [
        "p"
      ],
      "metadata": {
        "colab": {
          "base_uri": "https://localhost:8080/"
        },
        "id": "YJRR0yXCDsWj",
        "outputId": "80140e35-e2f4-4a68-ef68-ee7a55f67d8b"
      },
      "execution_count": null,
      "outputs": [
        {
          "output_type": "execute_result",
          "data": {
            "text/plain": [
              "re.compile(r'\\section', re.UNICODE)"
            ]
          },
          "metadata": {},
          "execution_count": 73
        }
      ]
    },
    {
      "cell_type": "code",
      "source": [
        "p = re.compile('\\\\section') # \\ 문자가 문자열 자체임을 알려 주기 위해 백슬래시 2개를 사용하여 escape 처리"
      ],
      "metadata": {
        "id": "hSdS50qKCdRc"
      },
      "execution_count": null,
      "outputs": []
    },
    {
      "cell_type": "code",
      "source": [
        "p # 파이썬 문자열 리터럴 규칙에 따라 \\\\이 \\로 전달되어 \\section이 전달됨"
      ],
      "metadata": {
        "colab": {
          "base_uri": "https://localhost:8080/"
        },
        "id": "rM7P1Y2VCygB",
        "outputId": "c6a9459c-213f-4942-e9b5-2e708898872d"
      },
      "execution_count": null,
      "outputs": [
        {
          "output_type": "execute_result",
          "data": {
            "text/plain": [
              "re.compile(r'\\section', re.UNICODE)"
            ]
          },
          "metadata": {},
          "execution_count": 68
        }
      ]
    },
    {
      "cell_type": "code",
      "source": [
        "p = re.compile('\\\\\\\\section') # 방법1"
      ],
      "metadata": {
        "id": "v6R42rwKCzfB"
      },
      "execution_count": null,
      "outputs": []
    },
    {
      "cell_type": "code",
      "source": [
        "p"
      ],
      "metadata": {
        "colab": {
          "base_uri": "https://localhost:8080/"
        },
        "id": "loth1giUDTH1",
        "outputId": "c23c47c5-e151-407d-c905-0f7d248150b5"
      },
      "execution_count": null,
      "outputs": [
        {
          "output_type": "execute_result",
          "data": {
            "text/plain": [
              "re.compile(r'\\\\section', re.UNICODE)"
            ]
          },
          "metadata": {},
          "execution_count": 71
        }
      ]
    },
    {
      "cell_type": "code",
      "source": [
        "p = re.compile(r'\\\\section') ## 방법2"
      ],
      "metadata": {
        "id": "KZXVveIvDm-j"
      },
      "execution_count": null,
      "outputs": []
    },
    {
      "cell_type": "code",
      "source": [
        "p"
      ],
      "metadata": {
        "colab": {
          "base_uri": "https://localhost:8080/"
        },
        "id": "G8wU8-O2ELGb",
        "outputId": "edbb037f-6223-4eb3-c4d2-82b8309d24fb"
      },
      "execution_count": null,
      "outputs": [
        {
          "output_type": "execute_result",
          "data": {
            "text/plain": [
              "re.compile(r'\\\\section', re.UNICODE)"
            ]
          },
          "metadata": {},
          "execution_count": 75
        }
      ]
    },
    {
      "cell_type": "markdown",
      "source": [
        "#### match 객체의 메서드\n",
        "- group : 매치된 문자열 리턴\n",
        "- start : 매치된 문자열의 시작 위치 리턴\n",
        "- end : 매치된 문자열의 끝 위치 리턴\n",
        "- span : 매치된 문자열의 (시작, 끝)에 해당하는 튜플 리턴"
      ],
      "metadata": {
        "id": "5J7G_-GL2UUx"
      }
    },
    {
      "cell_type": "code",
      "source": [
        "p = re.compile('[a-z]+')"
      ],
      "metadata": {
        "id": "Y2Y6Ol4G_B0d"
      },
      "execution_count": null,
      "outputs": []
    },
    {
      "cell_type": "code",
      "source": [
        "m = p.match('python')\n",
        "print(m)"
      ],
      "metadata": {
        "colab": {
          "base_uri": "https://localhost:8080/"
        },
        "id": "LZh-C6AR3BgZ",
        "outputId": "ba4deeb9-49f4-4b57-dae4-165f791d6e99"
      },
      "execution_count": null,
      "outputs": [
        {
          "output_type": "stream",
          "name": "stdout",
          "text": [
            "<re.Match object; span=(0, 6), match='python'>\n"
          ]
        }
      ]
    },
    {
      "cell_type": "code",
      "source": [
        "m.group() # 알파벳 소문자와 매치된 문자열 python 리턴"
      ],
      "metadata": {
        "colab": {
          "base_uri": "https://localhost:8080/",
          "height": 35
        },
        "id": "E146-wDF3KbC",
        "outputId": "64b970c6-c1b5-43c9-a6a5-22cadcf57f80"
      },
      "execution_count": null,
      "outputs": [
        {
          "output_type": "execute_result",
          "data": {
            "text/plain": [
              "'python'"
            ],
            "application/vnd.google.colaboratory.intrinsic+json": {
              "type": "string"
            }
          },
          "metadata": {},
          "execution_count": 54
        }
      ]
    },
    {
      "cell_type": "code",
      "source": [
        "m.start() # 매치된 문자열 python의 시작 위치 리턴 \n",
        "          # match 객체의 start() 결과값은 항상 0"
      ],
      "metadata": {
        "colab": {
          "base_uri": "https://localhost:8080/"
        },
        "id": "xsJLFTmr3Gxq",
        "outputId": "721536c0-3c7a-46cf-9cb5-d17fd004ffa4"
      },
      "execution_count": null,
      "outputs": [
        {
          "output_type": "execute_result",
          "data": {
            "text/plain": [
              "0"
            ]
          },
          "metadata": {},
          "execution_count": 55
        }
      ]
    },
    {
      "cell_type": "code",
      "source": [
        "m.end() # 매치된 문자열 python의 끝 위치 리턴"
      ],
      "metadata": {
        "colab": {
          "base_uri": "https://localhost:8080/"
        },
        "id": "b94E8pzr3I5V",
        "outputId": "6327cfc5-a2eb-4a8a-9854-03ee5ff08364"
      },
      "execution_count": null,
      "outputs": [
        {
          "output_type": "execute_result",
          "data": {
            "text/plain": [
              "6"
            ]
          },
          "metadata": {},
          "execution_count": 56
        }
      ]
    },
    {
      "cell_type": "code",
      "source": [
        "m.span() # 매치된 문자열 python의 (시작, 끝) 위치를 튜플 형식으로 리턴"
      ],
      "metadata": {
        "colab": {
          "base_uri": "https://localhost:8080/"
        },
        "id": "doianSFS3JlX",
        "outputId": "7831b2e1-84c5-4857-ca1d-76aba5a53e73"
      },
      "execution_count": null,
      "outputs": [
        {
          "output_type": "execute_result",
          "data": {
            "text/plain": [
              "(0, 6)"
            ]
          },
          "metadata": {},
          "execution_count": 57
        }
      ]
    },
    {
      "cell_type": "markdown",
      "source": [
        "#### findall()\n",
        " - 정규식과 매치되는 모든 문자열(substring)을 리스트로 리턴"
      ],
      "metadata": {
        "id": "-NDsRCZTzsaY"
      }
    },
    {
      "cell_type": "code",
      "source": [
        "result = p.findall('life is too short')\n",
        "print(result)"
      ],
      "metadata": {
        "colab": {
          "base_uri": "https://localhost:8080/"
        },
        "id": "jEGUFMVuzngO",
        "outputId": "2877cd3b-3853-4cda-977a-791640640979"
      },
      "execution_count": null,
      "outputs": [
        {
          "output_type": "stream",
          "name": "stdout",
          "text": [
            "['life', 'is', 'too', 'short']\n"
          ]
        }
      ]
    },
    {
      "cell_type": "markdown",
      "source": [
        "#### finditer()\n",
        "- 정규식과 매치되는 모든 문자열(substring)을 반복 가능한 객체로 리턴"
      ],
      "metadata": {
        "id": "h7y3zN600s5u"
      }
    },
    {
      "cell_type": "code",
      "source": [
        "result = p.finditer('life is too short')\n",
        "print(result) # 반복문으로  결과를 출력할 수 있는 객체를 결과값으로 반환"
      ],
      "metadata": {
        "colab": {
          "base_uri": "https://localhost:8080/"
        },
        "id": "5BGeYKf90mXx",
        "outputId": "fd2afa9a-388a-4df4-c464-23b10d3e8649"
      },
      "execution_count": null,
      "outputs": [
        {
          "output_type": "stream",
          "name": "stdout",
          "text": [
            "<callable_iterator object at 0x7f02f4e4fb20>\n"
          ]
        }
      ]
    },
    {
      "cell_type": "code",
      "source": [
        "# 반복문을 통한 결과값 확인\n",
        "for i in result: \n",
        "  print(i) # iterable한 객체가 포함하는 각 요소는 match의 객체"
      ],
      "metadata": {
        "colab": {
          "base_uri": "https://localhost:8080/"
        },
        "id": "uVQ3T9Vp1hLb",
        "outputId": "5b69ac5e-c434-4e53-91e2-a7c547c776e1"
      },
      "execution_count": null,
      "outputs": [
        {
          "output_type": "stream",
          "name": "stdout",
          "text": [
            "<re.Match object; span=(0, 4), match='life'>\n",
            "<re.Match object; span=(5, 7), match='is'>\n",
            "<re.Match object; span=(8, 11), match='too'>\n",
            "<re.Match object; span=(12, 17), match='short'>\n"
          ]
        }
      ]
    },
    {
      "cell_type": "markdown",
      "source": [
        "#### grouping\n",
        "- 문자열이 계속해서 반복되는 조사하는 정규식"
      ],
      "metadata": {
        "id": "r2wKlMN9HYcE"
      }
    },
    {
      "cell_type": "code",
      "source": [
        "p = re.compile('(ABC)+')   # ABC 문자열이 계속해서 반복되는지 조사하는 정규식\n",
        "m = p.search('ABCABCABC OK?')\n",
        "print(m)"
      ],
      "metadata": {
        "colab": {
          "base_uri": "https://localhost:8080/"
        },
        "id": "b3MfXS0dHhtu",
        "outputId": "a4b98acb-362a-4561-aa16-c75878fd6617"
      },
      "execution_count": null,
      "outputs": [
        {
          "output_type": "stream",
          "name": "stdout",
          "text": [
            "<re.Match object; span=(0, 9), match='ABCABCABC'>\n"
          ]
        }
      ]
    },
    {
      "cell_type": "code",
      "source": [
        "print(m.group())"
      ],
      "metadata": {
        "colab": {
          "base_uri": "https://localhost:8080/"
        },
        "id": "dA1IH3HAH5og",
        "outputId": "8bb1b66f-31db-43f5-8a7d-c161d5f44666"
      },
      "execution_count": null,
      "outputs": [
        {
          "output_type": "stream",
          "name": "stdout",
          "text": [
            "ABCABCABC\n"
          ]
        }
      ]
    },
    {
      "cell_type": "code",
      "source": [
        "p = re.compile(r\"\\w+\\s+\\d+[-]\\d+[-]\\d+\") # 이름 + \" \" + 전화번호 형태의 문자열을 찾는 정규식\n",
        "m = p.search(\"park 010-1234-1234\")\n",
        "print(m)"
      ],
      "metadata": {
        "colab": {
          "base_uri": "https://localhost:8080/"
        },
        "id": "B2WFb_H7H3oy",
        "outputId": "f480df97-b43e-4fc2-b8d1-1c564fe56acc"
      },
      "execution_count": null,
      "outputs": [
        {
          "output_type": "stream",
          "name": "stdout",
          "text": [
            "<re.Match object; span=(0, 18), match='park 010-1234-1234'>\n"
          ]
        }
      ]
    },
    {
      "cell_type": "code",
      "source": [
        "# 이름만 뽑아내고 싶을 경우\n",
        "p = re.compile(r\"(\\w+)\\s+\\d+[-]\\d+[-]\\d+\") # 뽑아내고 싶은 문자열에 grouping\n",
        "m = p.search(\"park 010-1234-1234\")\n",
        "print(m.group(1)) # group index = 1 은 첫 번째 그룹에 해당되는 문자열"
      ],
      "metadata": {
        "colab": {
          "base_uri": "https://localhost:8080/"
        },
        "id": "yAz6OIBPIUOa",
        "outputId": "ae9c8af3-f464-4b6c-9b7e-978d2d49ba64"
      },
      "execution_count": null,
      "outputs": [
        {
          "output_type": "stream",
          "name": "stdout",
          "text": [
            "park\n"
          ]
        }
      ]
    },
    {
      "cell_type": "code",
      "source": [
        "p = re.compile(r\"(?P<name>\\w+)\\s+(\\d+[-]\\d+[-]\\d+)\") # 그룹에 이름 붙이기 \n",
        "m = p.search(\"park 010-1234-1234\")\n",
        "print(m.group(\"name\")) "
      ],
      "metadata": {
        "colab": {
          "base_uri": "https://localhost:8080/"
        },
        "id": "GBt5l2fKKbPa",
        "outputId": "43535309-3b9f-4a95-d108-98d5b2256556"
      },
      "execution_count": null,
      "outputs": [
        {
          "output_type": "stream",
          "name": "stdout",
          "text": [
            "park\n"
          ]
        }
      ]
    },
    {
      "cell_type": "code",
      "source": [
        "print(m.group(0)) # group index = 0은 매치된 전체 문자열"
      ],
      "metadata": {
        "colab": {
          "base_uri": "https://localhost:8080/"
        },
        "id": "j0mpT57OJJl5",
        "outputId": "0c03a041-5183-4721-a13e-2359dca93dd6"
      },
      "execution_count": null,
      "outputs": [
        {
          "output_type": "stream",
          "name": "stdout",
          "text": [
            "park 010-1234-1234\n"
          ]
        }
      ]
    },
    {
      "cell_type": "code",
      "source": [
        "# 전화번호만 뽑아내고 싶은 경우\n",
        "p = re.compile(r\"(\\w+)\\s+(\\d+[-]\\d+[-]\\d+)\")\n",
        "m = p.search(\"park 010-1234-1234\")\n",
        "print(m.group(2)) "
      ],
      "metadata": {
        "colab": {
          "base_uri": "https://localhost:8080/"
        },
        "id": "gYDguzYIJWYV",
        "outputId": "d30f4865-cf57-483c-ad74-b79117eb9bf4"
      },
      "execution_count": null,
      "outputs": [
        {
          "output_type": "stream",
          "name": "stdout",
          "text": [
            "010-1234-1234\n"
          ]
        }
      ]
    },
    {
      "cell_type": "code",
      "source": [
        "# 국번만 뽑아내고 싶은 경우\n",
        "p = re.compile(r\"(\\w+)\\s+((\\d+)[-]\\d+[-]\\d+)\")\n",
        "m = p.search(\"park 010-1234-1234\")\n",
        "print(m.group(3)) "
      ],
      "metadata": {
        "colab": {
          "base_uri": "https://localhost:8080/"
        },
        "id": "Rpk_Bd6KJohE",
        "outputId": "839774da-3c39-4e3f-bacc-62dca32d7b49"
      },
      "execution_count": null,
      "outputs": [
        {
          "output_type": "stream",
          "name": "stdout",
          "text": [
            "010\n"
          ]
        }
      ]
    },
    {
      "cell_type": "markdown",
      "source": [
        "#### 전방 탐색\n",
        "- 긍정형 전방 탐색\n",
        "- 부정형 전방 탐색"
      ],
      "metadata": {
        "id": "-aICnp0qK2YM"
      }
    },
    {
      "cell_type": "code",
      "source": [
        "# 긍정형 전방 탐색\n",
        "p = re.compile(\".+:\")\n",
        "m = p.search(\"http://google.com\")\n",
        "print(m.group())"
      ],
      "metadata": {
        "colab": {
          "base_uri": "https://localhost:8080/"
        },
        "id": "6ChYt5n5MBKr",
        "outputId": "5c9c0ad3-7831-4c7d-b253-ba01119a41e8"
      },
      "execution_count": null,
      "outputs": [
        {
          "output_type": "stream",
          "name": "stdout",
          "text": [
            "http:\n"
          ]
        }
      ]
    },
    {
      "cell_type": "code",
      "source": [
        "p = re.compile(\".+(?=:)\")\n",
        "m = p.search(\"http://google.com\")\n",
        "print(m.group()) # 기존 정규식과 검색에서는 동일한 효과\n",
        "                 # : 에 해당하는 문자열이 정규식 엔진에 의해 소비되지 않아 검색 결과에서는 : 이 제거된 후 돌려줌"
      ],
      "metadata": {
        "colab": {
          "base_uri": "https://localhost:8080/"
        },
        "id": "y0MVIF7xMbFx",
        "outputId": "6a24f07b-c1c5-40c9-8a45-7f5e6099ddeb"
      },
      "execution_count": null,
      "outputs": [
        {
          "output_type": "stream",
          "name": "stdout",
          "text": [
            "http\n"
          ]
        }
      ]
    },
    {
      "cell_type": "code",
      "source": [
        "# 부정형 전방 탐색\n",
        "p = re.compile('.*[.].*$') # 파일 이름 + . + 확장자 나타내는 정규식\n",
        "p = re.compile('.*[.](?!bat$).*$') # bat 파일을 제외하는 조건 추가\n",
        "p = re.compile('.*[.](?!bat$|exe$).*$')  ##bat 파일과 exe 파일을 제외하는 조건 추가"
      ],
      "metadata": {
        "id": "grlkq2FbMWAI"
      },
      "execution_count": null,
      "outputs": []
    },
    {
      "cell_type": "markdown",
      "source": [
        "#### 문자열 바꾸기\n",
        "- sub('바꿀 문자열', '대상 문자열')\n",
        "- subn('바꿀 문자열', '대상 문자열') : 바꾸기가 발생한 횟수까지 튜플로 반환"
      ],
      "metadata": {
        "id": "pwrFQWr2Oxjh"
      }
    },
    {
      "cell_type": "code",
      "source": [
        "## sub\n",
        "p = re.compile('(blue|white|red)') # blue 또는 white 또는 red를 찾는 정규식\n",
        "p.sub('colour', 'blue socks and red shoes')  # blue, red, white 를 찾아 colour 문자열로 바꿈"
      ],
      "metadata": {
        "colab": {
          "base_uri": "https://localhost:8080/",
          "height": 35
        },
        "id": "gR5gGDPHO14o",
        "outputId": "e01a3cd6-3f8b-4022-ab46-ecdf4fea616f"
      },
      "execution_count": null,
      "outputs": [
        {
          "output_type": "execute_result",
          "data": {
            "text/plain": [
              "'colour socks and colour shoes'"
            ],
            "application/vnd.google.colaboratory.intrinsic+json": {
              "type": "string"
            }
          },
          "metadata": {},
          "execution_count": 107
        }
      ]
    },
    {
      "cell_type": "code",
      "source": [
        "p = re.compile('(blue|white|red)') \n",
        "p.sub('colour', 'blue socks and red shoes', count = 1) # 바꾸는 횟수 1회로 제한"
      ],
      "metadata": {
        "colab": {
          "base_uri": "https://localhost:8080/",
          "height": 35
        },
        "id": "e13pf532PEZm",
        "outputId": "bc4987e3-2638-42b2-fbba-f3b2be2cd3a8"
      },
      "execution_count": null,
      "outputs": [
        {
          "output_type": "execute_result",
          "data": {
            "text/plain": [
              "'colour socks and red shoes'"
            ],
            "application/vnd.google.colaboratory.intrinsic+json": {
              "type": "string"
            }
          },
          "metadata": {},
          "execution_count": 116
        }
      ]
    },
    {
      "cell_type": "code",
      "source": [
        "## subn\n",
        "p = re.compile('(blue|white|red)') \n",
        "p.subn('colour', 'blue socks and red shoes')"
      ],
      "metadata": {
        "colab": {
          "base_uri": "https://localhost:8080/"
        },
        "id": "5M2yvAdAOwh7",
        "outputId": "df781430-d149-4952-e276-ffa35073cdbf"
      },
      "execution_count": null,
      "outputs": [
        {
          "output_type": "execute_result",
          "data": {
            "text/plain": [
              "('colour socks and colour shoes', 2)"
            ]
          },
          "metadata": {},
          "execution_count": 109
        }
      ]
    },
    {
      "cell_type": "code",
      "source": [
        "p = re.compile(r\"(?P<name>\\w+)\\s+(?P<phone>\\d+[-]\\d+[-]\\d+)\") \n",
        "p.sub(\"\\g<phone> \\g<name>\", \"park 010-1234-1234\")   # 참조 구문 사용하여 형태 바꾸기"
      ],
      "metadata": {
        "colab": {
          "base_uri": "https://localhost:8080/",
          "height": 35
        },
        "id": "2ZWdiht_P-jt",
        "outputId": "23c0f44b-9f76-474c-e8fb-cb7527bdaacc"
      },
      "execution_count": null,
      "outputs": [
        {
          "output_type": "execute_result",
          "data": {
            "text/plain": [
              "'010-1234-1234 park'"
            ],
            "application/vnd.google.colaboratory.intrinsic+json": {
              "type": "string"
            }
          },
          "metadata": {},
          "execution_count": 111
        }
      ]
    },
    {
      "cell_type": "code",
      "source": [
        "p = re.compile(r\"(?P<name>\\w+)\\s+(?P<phone>\\d+[-]\\d+[-]\\d+)\") \n",
        "p.sub(\"\\g<2> \\g<1>\", \"park 010-1234-1234\") # 참조 번호 사용하여 형태 바꾸기"
      ],
      "metadata": {
        "colab": {
          "base_uri": "https://localhost:8080/",
          "height": 35
        },
        "id": "pbPAYg96RCiU",
        "outputId": "3b9fbdce-d20e-43f0-d028-482968dd09c3"
      },
      "execution_count": null,
      "outputs": [
        {
          "output_type": "execute_result",
          "data": {
            "text/plain": [
              "'010-1234-1234 park'"
            ],
            "application/vnd.google.colaboratory.intrinsic+json": {
              "type": "string"
            }
          },
          "metadata": {},
          "execution_count": 115
        }
      ]
    }
  ]
}